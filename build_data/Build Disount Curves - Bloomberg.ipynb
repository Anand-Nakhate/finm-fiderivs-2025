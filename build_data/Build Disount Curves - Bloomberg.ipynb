{
 "cells": [
  {
   "cell_type": "code",
   "execution_count": 1,
   "metadata": {},
   "outputs": [],
   "source": [
    "import pandas as pd\n",
    "import numpy as np\n",
    "from xbbg import blp\n",
    "from datetime import datetime"
   ]
  },
  {
   "cell_type": "code",
   "execution_count": 2,
   "metadata": {},
   "outputs": [],
   "source": [
    "DATE = '2025-02-13'\n",
    "date_override = DATE.replace(\"-\", \"\")"
   ]
  },
  {
   "cell_type": "markdown",
   "metadata": {},
   "source": [
    "# Curves"
   ]
  },
  {
   "cell_type": "markdown",
   "metadata": {},
   "source": [
    "### Legacy LIBOR Swaps"
   ]
  },
  {
   "cell_type": "code",
   "execution_count": 3,
   "metadata": {},
   "outputs": [],
   "source": [
    "TICKER = 'YCSW0023 Index'\n",
    "FLD = [\"PAR_CURVE\"]"
   ]
  },
  {
   "cell_type": "markdown",
   "metadata": {},
   "source": [
    "### On/Off Run Treasuries"
   ]
  },
  {
   "cell_type": "code",
   "execution_count": 4,
   "metadata": {},
   "outputs": [],
   "source": [
    "TICKER = 'YCGT0111 Index'\n",
    "FLD = [\"CURVE_TENOR_RATES\"]"
   ]
  },
  {
   "cell_type": "markdown",
   "metadata": {},
   "source": [
    "### Treasury Actives"
   ]
  },
  {
   "cell_type": "code",
   "execution_count": 5,
   "metadata": {},
   "outputs": [],
   "source": [
    "TICKER = 'YCGT0025 Index'\n",
    "FLD = [\"CURVE_TENOR_RATES\"]"
   ]
  },
  {
   "cell_type": "markdown",
   "metadata": {},
   "source": [
    "### Fed Funds Swap Curve"
   ]
  },
  {
   "cell_type": "code",
   "execution_count": 6,
   "metadata": {},
   "outputs": [],
   "source": [
    "TICKER = 'YCSW0042 Index'"
   ]
  },
  {
   "cell_type": "markdown",
   "metadata": {},
   "source": [
    "### SOFR Swap Curve\n",
    "\n",
    "Bloomberg's `INTEREST_RATE_CURVE_ANALYTICS` reports **continuously** compounded rates.\n",
    "\n",
    "Use the discount factors reported and convert to rates compounded of any choice."
   ]
  },
  {
   "cell_type": "code",
   "execution_count": 7,
   "metadata": {},
   "outputs": [],
   "source": [
    "TICKER = 'YCSW0490 Index'\n",
    "#FLD = [\"PAR_CURVE\"]\n",
    "#FLD = [\"CURVE_TENOR_RATES\"]\n",
    "FLD = ['INTEREST_RATE_CURVE_ANALYTICS']\n",
    "\n",
    "temp = blp.bds(TICKER, FLD, REFERENCE_DATE=date_override)\n",
    "quotes = temp[['date','zero_rate','discount_factor']].set_index('date').rename(columns={'zero_rate':'spot rate','discount_factor':'discount'})"
   ]
  },
  {
   "cell_type": "code",
   "execution_count": 8,
   "metadata": {},
   "outputs": [],
   "source": [
    "def add_ttm(df, quote_date):\n",
    "    \"\"\"\n",
    "    Adds a 'ttm' column to the dataframe which represents the number of years from the quote date\n",
    "    to the date in the 'date' column.\n",
    "\n",
    "    Parameters:\n",
    "        df (pd.DataFrame): DataFrame containing a 'date' column.\n",
    "        quote_date (str or pd.Timestamp or datetime.datetime): The reference quote date.\n",
    "\n",
    "    Returns:\n",
    "        pd.DataFrame: The augmented DataFrame with a new 'ttm' column.\n",
    "    \"\"\"\n",
    "    # Work on a copy to avoid modifying the original dataframe\n",
    "    df = df.copy()\n",
    "\n",
    "    # Ensure the 'date' column is in datetime format\n",
    "    df['date'] = pd.to_datetime(df['date'])\n",
    "    \n",
    "    # Convert the quote_date to a datetime object if it isn't already\n",
    "    quote_date = pd.to_datetime(quote_date)\n",
    "    \n",
    "    # Calculate the difference in years (using 365.25 to account for leap years)\n",
    "    df['ttm'] = (df['date'] - quote_date).dt.days / 365.25\n",
    "\n",
    "    return df"
   ]
  },
  {
   "cell_type": "code",
   "execution_count": 9,
   "metadata": {},
   "outputs": [],
   "source": [
    "quotes = add_ttm(quotes.reset_index(),quote_date=DATE).set_index('ttm')"
   ]
  },
  {
   "cell_type": "markdown",
   "metadata": {},
   "source": [
    "# Set Curve"
   ]
  },
  {
   "cell_type": "code",
   "execution_count": 10,
   "metadata": {},
   "outputs": [],
   "source": [
    "# Parameters\n",
    "interval_months = 6  # months between each interpolated date\n",
    "total_years = 30     # total number of years for the new index"
   ]
  },
  {
   "cell_type": "markdown",
   "metadata": {},
   "source": [
    "### Interpolate"
   ]
  },
  {
   "cell_type": "code",
   "execution_count": 11,
   "metadata": {},
   "outputs": [],
   "source": [
    "from dateutil.relativedelta import relativedelta\n",
    "\n",
    "def compute_rates(discount_factors, ttm, compounding):\n",
    "    \"\"\"\n",
    "    Computes annualized rates from given discount factors and time-to-maturity values.\n",
    "    \n",
    "    Parameters:\n",
    "        discount_factors (array-like): Discount factors.\n",
    "        ttm (array-like): Time-to-maturity values (in years).\n",
    "        compounding (int or None): \n",
    "            - If an integer, indicates the number of compounding periods per year.\n",
    "            - If None, continuous compounding is assumed.\n",
    "    \n",
    "    Returns:\n",
    "        np.ndarray: An array of annualized rates (in decimals).\n",
    "    \n",
    "    Notes:\n",
    "        For continuous compounding:\n",
    "            discount_factor = exp(-rate * ttm)\n",
    "            -> rate = -ln(discount_factor) / ttm\n",
    "        \n",
    "        For periodic compounding:\n",
    "            discount_factor = (1 + rate/compounding)**(-compounding * ttm)\n",
    "            -> rate = compounding * (discount_factor**(-1/(compounding * ttm)) - 1)\n",
    "    \"\"\"\n",
    "    discount_factors = np.array(discount_factors)\n",
    "    ttm = np.array(ttm)\n",
    "    \n",
    "    if compounding is None:\n",
    "        # Continuous compounding\n",
    "        rates = -np.log(discount_factors) / ttm\n",
    "    else:\n",
    "        # Periodic compounding\n",
    "        rates = compounding * (discount_factors ** (-1/(compounding * ttm)) - 1)\n",
    "    \n",
    "    return rates\n",
    "\n",
    "\n",
    "def compute_discount_factors(ttm, rates, compounding):\n",
    "    \"\"\"\n",
    "    Computes discount factors for given ttm values and rates.\n",
    "    \n",
    "    Parameters:\n",
    "        ttm (array-like): Time-to-maturity values (in years).\n",
    "        rates (array-like): Corresponding annualized rates (in decimals).\n",
    "        compounding (int or None): \n",
    "            - If an integer, indicates the number of compounding periods per year.\n",
    "            - If None, continuous compounding is assumed.\n",
    "    \n",
    "    Returns:\n",
    "        np.ndarray: An array of discount factors.\n",
    "    \"\"\"\n",
    "    ttm = np.array(ttm)\n",
    "    rates = np.array(rates)\n",
    "    \n",
    "    if compounding is None:\n",
    "        # Continuous compounding\n",
    "        discounts = np.exp(-rates * ttm)\n",
    "    else:\n",
    "        # Periodic compounding (e.g. 2 for semiannual, 4 for quarterly)\n",
    "        discounts = (1 + rates / compounding) ** (-compounding * ttm)\n",
    "    \n",
    "    return discounts\n",
    "\n",
    "\n",
    "def interpolate_curve(df, interval_years=0.5, total_years=30, compounding=None):\n",
    "    \"\"\"\n",
    "    Interpolates a spot rate curve derived from discount factors provided in the input DataFrame.\n",
    "    The input DataFrame is expected to be indexed by time-to-maturity (ttm, in years) and to contain \n",
    "    a 'date' column and a 'discount' column.\n",
    "    \n",
    "    The function:\n",
    "      1. Converts the discount factors to spot rates using the user-specified compounding convention.\n",
    "      2. Interpolates the spot rate curve linearly over a new ttm grid.\n",
    "      3. Computes new discount factors from the interpolated spot rates.\n",
    "      4. Computes a new \"maturity date\" for each ttm using calendar arithmetic when possible.\n",
    "    \n",
    "    The quote_date is derived from the row with the smallest ttm value via:\n",
    "         quote_date = date - (ttm * 365.25 days)\n",
    "    \n",
    "    Parameters:\n",
    "        df (pd.DataFrame): DataFrame indexed by ttm (in years) with columns: 'date' and 'discount'.\n",
    "        interval_years (float): The interval (in years) between interpolated points.\n",
    "        total_years (float): The maximum ttm value to interpolate to.\n",
    "        compounding (int or None): \n",
    "            - If an integer, indicates the number of compounding periods per year.\n",
    "            - If None, continuous compounding is assumed.\n",
    "    \n",
    "    Returns:\n",
    "        pd.DataFrame: A new DataFrame with columns: 'maturity date', 'spot rate', and 'discount',\n",
    "                      all indexed by ttm.\n",
    "    \"\"\"\n",
    "    # Work on a copy and ensure the 'date' column is in datetime format.\n",
    "    df = df.copy()\n",
    "    df['date'] = pd.to_datetime(df['date'])\n",
    "    \n",
    "    # Ensure the DataFrame index (ttm) is sorted and remove duplicates.\n",
    "    df = df.sort_index()\n",
    "    df = df[~df.index.duplicated(keep='first')]\n",
    "    \n",
    "    # Derive quote_date from the row with the smallest ttm.\n",
    "    min_ttm = df.index.min()\n",
    "    corresponding_date = df.loc[min_ttm, 'date']\n",
    "    # Calculate quote_date: date = quote_date + (ttm * 365.25 days)\n",
    "    quote_date = (corresponding_date - pd.to_timedelta(min_ttm * 365.25, unit='D')).date()\n",
    "    \n",
    "    # Convert input discount factors to spot rates.\n",
    "    # (Assumes compute_rates is defined as in the previous example.)\n",
    "    spot_rates = compute_rates(df['discount'].values, df.index.values, compounding)\n",
    "    \n",
    "    # Create a new ttm range.\n",
    "    new_ttm = np.arange(1, int(total_years / interval_years) + 1) * interval_years\n",
    "    \n",
    "    # Perform linear interpolation on the spot rate curve.\n",
    "    interpolated_spot = np.interp(\n",
    "        new_ttm,                   # New ttm points.\n",
    "        df.index.values,           # Original ttm values.\n",
    "        spot_rates                 # Computed spot rates.\n",
    "    )\n",
    "    \n",
    "    # Build the new DataFrame with interpolated spot rates.\n",
    "    curve = pd.DataFrame({'spot rate': interpolated_spot}, index=new_ttm)\n",
    "    curve.index.name = 'ttm'\n",
    "    \n",
    "    # Helper to compute the date based on ttm using calendar arithmetic when possible.\n",
    "    def compute_date(ttm):\n",
    "        if abs(interval_years - 0.5) < 1e-8:\n",
    "            whole_years = int(ttm)\n",
    "            remainder = ttm - whole_years\n",
    "            if abs(remainder - 0.5) < 1e-8:\n",
    "                # Half-year point: add 6 months.\n",
    "                new_date = quote_date + relativedelta(years=whole_years, months=6)\n",
    "            else:\n",
    "                # Whole year: add full years.\n",
    "                new_date = quote_date + relativedelta(years=whole_years)\n",
    "        else:\n",
    "            # For other intervals, approximate using 365.25 days per year.\n",
    "            new_date = (pd.Timestamp(quote_date) + pd.to_timedelta(ttm * 365.25, unit='D')).date()\n",
    "        return new_date\n",
    "\n",
    "    # Compute the new \"date\" column for each ttm value.\n",
    "    curve['date'] = [compute_date(ttm) for ttm in curve.index]\n",
    "    \n",
    "    # Compute new discount factors using the interpolated spot rates.\n",
    "    curve['discount'] = compute_discount_factors(curve.index.values, curve['spot rate'].values, compounding)\n",
    "    \n",
    "    # Reorder columns to the desired order and rename 'date' to 'maturity date'.\n",
    "    curve = curve.reindex(columns=[\"date\", \"spot rate\", \"discount\"])\n",
    "    curve.rename(columns={'date': 'maturity date'}, inplace=True)\n",
    "\n",
    "    return curve"
   ]
  },
  {
   "cell_type": "code",
   "execution_count": 12,
   "metadata": {},
   "outputs": [],
   "source": [
    "curve = interpolate_curve(quotes,compounding=2)"
   ]
  },
  {
   "cell_type": "code",
   "execution_count": 13,
   "metadata": {},
   "outputs": [
    {
     "data": {
      "image/png": "[encoded data removed]",
      "text/plain": [
       "<Figure size 640x480 with 1 Axes>"
      ]
     },
     "metadata": {},
     "output_type": "display_data"
    }
   ],
   "source": [
    "ax = curve[['spot rate']].plot()\n",
    "quotes[['spot rate']].loc[:curve.index[-1]].plot(ax=ax)\n",
    "ax.set_xlim(0,30);"
   ]
  },
  {
   "cell_type": "markdown",
   "metadata": {},
   "source": [
    "***"
   ]
  },
  {
   "cell_type": "markdown",
   "metadata": {},
   "source": [
    "### Save Data"
   ]
  },
  {
   "cell_type": "code",
   "execution_count": 14,
   "metadata": {},
   "outputs": [],
   "source": [
    "OUTFILE = f'../data/discount_curve_{DATE}.xlsx'"
   ]
  },
  {
   "cell_type": "code",
   "execution_count": 15,
   "metadata": {},
   "outputs": [],
   "source": [
    "outfile = f'../data/{OUTFILE}.xlsx'\n",
    "with pd.ExcelWriter(outfile) as writer:  \n",
    "    curve.to_excel(writer, sheet_name= 'discount curve', index=True)"
   ]
  }
 ],
 "metadata": {
  "kernelspec": {
   "display_name": "venv",
   "language": "python",
   "name": "python3"
  },
  "language_info": {
   "codemirror_mode": {
    "name": "ipython",
    "version": 3
   },
   "file_extension": ".py",
   "mimetype": "text/x-python",
   "name": "python",
   "nbconvert_exporter": "python",
   "pygments_lexer": "ipython3",
   "version": "3.13.1"
  }
 },
 "nbformat": 4,
 "nbformat_minor": 2
}
