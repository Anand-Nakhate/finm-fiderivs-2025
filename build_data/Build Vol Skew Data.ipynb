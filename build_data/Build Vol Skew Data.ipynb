{
 "cells": [
  {
   "cell_type": "code",
   "execution_count": 1,
   "id": "30f2b608",
   "metadata": {},
   "outputs": [],
   "source": [
    "import pandas as pd\n",
    "import numpy as np\n",
    "import datetime\n",
    "import warnings\n",
    "\n",
    "from scipy.stats import norm\n",
    "\n",
    "import matplotlib.pyplot as plt\n",
    "%matplotlib inline\n",
    "plt.rcParams['figure.figsize'] = (12,6)\n",
    "plt.rcParams['font.size'] = 15\n",
    "plt.rcParams['legend.fontsize'] = 13\n",
    "\n",
    "from matplotlib.ticker import (MultipleLocator,\n",
    "                               FormatStrFormatter,\n",
    "                               AutoMinorLocator)\n",
    "\n",
    "import sys\n",
    "sys.path.insert(0,'../cmds')\n",
    "from options import *\n",
    "\n",
    "import nasdaqdatalink as ndl"
   ]
  },
  {
   "cell_type": "markdown",
   "id": "cd6fe0a2-fdcb-4589-8da7-701e81b7404a",
   "metadata": {},
   "source": [
    "***"
   ]
  },
  {
   "cell_type": "code",
   "execution_count": 2,
   "id": "3f49e06c-2603-4f00-b985-7464dbd4720c",
   "metadata": {},
   "outputs": [],
   "source": [
    "DATE0 = '2024-09-01'\n",
    "DATE1 = '2025-01-31'\n",
    "\n",
    "ticks = [\n",
    "    'ES','T','NG','GC','BP','TY','FF'\n",
    "]\n",
    "codes_exch = [\n",
    "    'CME','ICE','NYM','CMX','CME','CBT','CBT'\n",
    "]\n",
    "names = [\n",
    "    'S&P','Oil','Nat Gas','Gold','British Pounds','Treasury Notes','Fed Funds'\n",
    "]\n",
    "expmonth = 'M2025'"
   ]
  },
  {
   "cell_type": "code",
   "execution_count": 3,
   "id": "afae5e3c-4e17-4b17-9cdd-76333ff679b1",
   "metadata": {},
   "outputs": [],
   "source": [
    "file_key = open(\"../../keys/quandl_key.txt\",\"r\")\n",
    "API_KEY = file_key.read()\n",
    "file_key.close()\n",
    "ndl.ApiConfig.api_key = API_KEY"
   ]
  },
  {
   "cell_type": "code",
   "execution_count": 4,
   "id": "5062a3c5-38cd-41d0-9627-54d2ad8874a1",
   "metadata": {},
   "outputs": [],
   "source": [
    "surfs = dict()\n",
    "labels = dict()\n",
    "\n",
    "ticksplitlabs = ['name','exchange','futures ticker','option ticker','monthYear']\n",
    "info = pd.DataFrame(index=ticksplitlabs)\n",
    "info.index.name = 'specs'"
   ]
  },
  {
   "cell_type": "code",
   "execution_count": 5,
   "id": "38f67b08-8fc4-4390-bf98-52bb0eaf5a0b",
   "metadata": {},
   "outputs": [],
   "source": [
    "for i in range(len(ticks)):\n",
    "\n",
    "    tick = ticks[i]\n",
    "    exch = codes_exch[i]\n",
    "    \n",
    "    tempM = ndl.get_table('AR/IVM',exchange_code=exch, futures_code=tick, option_code=tick, date={'gte':DATE0},expiration=expmonth).set_index('date').sort_index()\n",
    "    tempS = ndl.get_table('AR/IVS',exchange_code=exch, futures_code=tick, option_code=tick, date={'gte':DATE0},expiration=expmonth).set_index('date').sort_index()\n",
    "\n",
    "    id_cols = ['futures','days_expiration','days_termination']\n",
    "    pattern_columns = [col for col in tempS.columns if (col.startswith(('p', 'c')) and col.endswith('vol'))]\n",
    "\n",
    "    aa = tempM[id_cols]\n",
    "    bb = tempS[pattern_columns]\n",
    "    bb.columns = bb.columns.str.capitalize()\n",
    "\n",
    "    out = pd.concat([aa,bb],axis=1)\n",
    "    out[['days_expiration', 'days_termination']] = out[['days_expiration', 'days_termination']] / 365\n",
    "    out.rename(columns={'futures':'Future Price', 'days_termination':'Expiration Future', 'days_expiration':'Expiration Option'},inplace=True)\n",
    "\n",
    "    # Remove estimates deeply ITM/OTM\n",
    "    substrings = ['01', '05', '10','90','95','99']\n",
    "    out = out[[col for col in out.columns if not any(sub in col for sub in substrings)]]\n",
    "\n",
    "    surfs[tick] = out\n",
    "\n",
    "    label = f'{exch} {tick} {tick} {expmonth}'    \n",
    "    labels[tick] = label\n",
    "\n",
    "    if len(out.index)>0:\n",
    "        finalDate = out.index[-1]\n",
    "        #finalDate = DATE1\n",
    "\n",
    "        info.loc['name',label] = names[i]\n",
    "        info.loc['exchange',label] = exch\n",
    "        info.loc['futures ticker',label] = tick\n",
    "        info.loc['option ticker',label] = tick\n",
    "        info.loc['monthYear',label] = expmonth\n",
    "        \n",
    "        info.loc['option expiration',label] = (finalDate + datetime.timedelta(tempM.loc[finalDate,'days_expiration'])).strftime('%Y-%m-%d')\n",
    "        info.loc['future expiration',label] = (finalDate + datetime.timedelta(tempM.loc[finalDate,'days_termination'])).strftime('%Y-%m-%d')\n"
   ]
  },
  {
   "cell_type": "code",
   "execution_count": 6,
   "id": "338bdab4-a06d-4288-b8d0-dfff6bdb02aa",
   "metadata": {},
   "outputs": [],
   "source": [
    "with pd.ExcelWriter(f'../data/vol_surfaces_{DATE1}_{expmonth}.xlsx') as writer:  \n",
    "    info.to_excel(writer, sheet_name= 'descriptions')\n",
    "    for tick in ticks:\n",
    "        surfs[tick].to_excel(writer, sheet_name=labels[tick])"
   ]
  }
 ],
 "metadata": {
  "hide_input": false,
  "kernelspec": {
   "display_name": "Python 3 (ipykernel)",
   "language": "python",
   "name": "python3"
  },
  "language_info": {
   "codemirror_mode": {
    "name": "ipython",
    "version": 3
   },
   "file_extension": ".py",
   "mimetype": "text/x-python",
   "name": "python",
   "nbconvert_exporter": "python",
   "pygments_lexer": "ipython3",
   "version": "3.13.1"
  }
 },
 "nbformat": 4,
 "nbformat_minor": 5
}
