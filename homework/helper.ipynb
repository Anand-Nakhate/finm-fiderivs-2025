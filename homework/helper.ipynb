{
 "cells": [
  {
   "cell_type": "code",
   "execution_count": null,
   "id": "bfad4da2-cabf-4735-9ae0-362fe6d12021",
   "metadata": {},
   "outputs": [],
   "source": [
    "import numpy as np\n",
    "import pandas as pd\n",
    "\n",
    "def any_to_any(x,freq_from,freq_to):\n",
    "    def convert_scalar(r,f1,f2):\n",
    "        if f1=='cont':\n",
    "            e=np.exp(r)-1\n",
    "        else:\n",
    "            e=(1+r/f1)**f1-1\n",
    "        if f2=='cont':\n",
    "            return np.log(1+e)\n",
    "        else:\n",
    "            return f2*((1+e)**(1/f2)-1)\n",
    "    if isinstance(x,(int,float)):\n",
    "        return convert_scalar(x,freq_from,freq_to)\n",
    "    return x.apply(lambda r: convert_scalar(r,freq_from,freq_to))\n",
    "\n",
    "def any_to_continuous(x,freq_from):\n",
    "    def convert_scalar(r,f):\n",
    "        if f=='cont':\n",
    "            return r\n",
    "        return np.log((1+r/f)**f)\n",
    "    if isinstance(x,(int,float)):\n",
    "        return convert_scalar(x,freq_from)\n",
    "    return x.apply(lambda r: convert_scalar(r,freq_from))\n",
    "\n",
    "def continuous_to_any(x,freq_to):\n",
    "    def convert_scalar(r,f):\n",
    "        if f=='cont':\n",
    "            return r\n",
    "        e=np.exp(r)-1\n",
    "        return f*((1+e)**(1/f)-1)\n",
    "    if isinstance(x,(int,float)):\n",
    "        return convert_scalar(x,freq_to)\n",
    "    return x.apply(lambda r: convert_scalar(r,freq_to))\n",
    "\n",
    "def continuous_to_discount_factors(x):\n",
    "    if isinstance(x,(int,float)):\n",
    "        return lambda t: np.exp(-x*t)\n",
    "    if isinstance(x,pd.Series):\n",
    "        return pd.Series(np.exp(-x.index*x),index=x.index)\n",
    "    return x.apply(lambda col: np.exp(-col.index*col),axis=0)\n",
    "\n",
    "def any_to_discount_factors(x,freq):\n",
    "    def df_scalar(r,f):\n",
    "        if f=='cont':\n",
    "            return lambda t: np.exp(-r*t)\n",
    "        e=(1+r/f)**f-1\n",
    "        return lambda t: (1+e)**(-t)\n",
    "    if isinstance(x,(int,float)):\n",
    "        return df_scalar(x,freq)\n",
    "    if freq=='cont':\n",
    "        return x.apply(lambda r: np.exp(-x.index*r))\n",
    "    return x.apply(lambda r: (1+((1+r/freq)**freq-1))**(-x.index))\n"
   ]
  }
 ],
 "metadata": {
  "kernelspec": {
   "display_name": "Python 3 (ipykernel)",
   "language": "python",
   "name": "python3"
  },
  "language_info": {
   "codemirror_mode": {
    "name": "ipython",
    "version": 3
   },
   "file_extension": ".py",
   "mimetype": "text/x-python",
   "name": "python",
   "nbconvert_exporter": "python",
   "pygments_lexer": "ipython3",
   "version": "3.12.4"
  }
 },
 "nbformat": 4,
 "nbformat_minor": 5
}
