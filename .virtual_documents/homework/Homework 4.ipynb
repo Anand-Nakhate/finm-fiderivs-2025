





import pandas as pd
import numpy as np
import seaborn as sns
import matplotlib.pyplot as plt
from datetime import datetime, timedelta
from datetime import date
from dateutil.relativedelta import relativedelta

import warnings
warnings.filterwarnings("ignore", category=FutureWarning)





df_rate_curves = pd.read_excel("../data/cap_curves_2025-01-31.xlsx", sheet_name="rate curves 2025-01-31").set_index("tenor")
df_rate_curves.head()


DATE = '2025-01-31'
FILEIN = f'../data/ratetree_data_{DATE}.xlsx'
sheet_tree = 'rate tree'

ratetree = pd.read_excel(FILEIN, sheet_name=sheet_tree).set_index('state')
ratetree.columns.name = 'time'

ratetree.style.format('{:.1%}',na_rep='').format_index('{:.2f}',axis=1)














def bond_cashflow_tree(states,cols,face,coupon_annual,maturity):
    cf=pd.DataFrame(0,index=states,columns=cols)
    coupon=face*(coupon_annual/2)
    times_needed=np.array(cf.columns.tolist())
    if maturity not in times_needed:
        times_needed=np.append(times_needed,maturity)
    times_needed=np.sort(times_needed)
    cf=cf.reindex(columns=times_needed,fill_value=0)
    pay_times=np.arange(0.5,maturity+0.001,0.5)
    for pt in pay_times:
        if pt<maturity:
            cf[pt]=coupon
        else:
            cf[pt]=face+coupon
    return cf


face_value=100
coupon_rate=0.0441
maturity=5
cf_tree=bond_cashflow_tree(
    states=ratetree.index,
    cols=ratetree.columns,
    face=face_value,
    coupon_annual=coupon_rate,
    maturity=maturity
)
cf_tree.style.format(na_rep='').format_index('{:.2f}',axis=1)





def accrued_interest(t,face,coupon_annual):
    lc=0.5*np.floor(t/0.5)
    f=(t-lc)/0.5
    return face*(coupon_annual/2)*f

def bond_value_tree(ratetree,cf_tree,face,coupon_annual):
    times=np.sort(cf_tree.columns)
    val_dirty=pd.DataFrame(0,index=cf_tree.index,columns=times)
    val_dirty.loc[:,times[-1]]=cf_tree.loc[:,times[-1]]
    for i in range(len(times)-2,-1,-1):
        dt=times[i+1]-times[i]
        for s in val_dirty.index:
            sd=s+1 if s+1 in val_dirty.index else s
            ev=0.5*val_dirty.loc[s,times[i+1]]+0.5*val_dirty.loc[sd,times[i+1]]
            val_dirty.loc[s,times[i]]=cf_tree.loc[s,times[i]]+np.exp(-ratetree.loc[s,times[i]]*dt)*ev
    val_clean=val_dirty.copy()
    for t in times:
        val_clean[t]=val_clean[t]-accrued_interest(t,face,coupon_annual)
    return val_dirty,val_clean


val_dirty,val_clean=bond_value_tree(ratetree,cf_tree,face_value,coupon_rate)
val_dirty.style.format(na_rep='').format_index('{:.2f}',axis=1)


val_clean.style.format(na_rep='').format_index('{:.2f}',axis=1)


plt.figure(figsize=(14,5))
plt.subplot(1,2,1)
sns.heatmap(val_dirty,annot=True,cmap="YlGnBu",fmt=".2f")
plt.title("Bond Dirty Prices")
plt.subplot(1,2,2)
sns.heatmap(val_clean,annot=True,cmap="YlOrBr",fmt=".2f")
plt.title("Bond Clean Prices")
plt.tight_layout()
plt.show()








def any_to_any(x,freq_from,freq_to):
    def convert_scalar(r,f1,f2):
        if f1=='cont':
            e=np.exp(r)-1
        else:
            e=(1+r/f1)**f1-1
        if f2=='cont':
            return np.log(1+e)
        else:
            return f2*((1+e)**(1/f2)-1)
    if isinstance(x,(int,float)):
        return convert_scalar(x,freq_from,freq_to)
    return x.apply(lambda r: convert_scalar(r,freq_from,freq_to))


swap_rates_quarterly = df_rate_curves[["swap rates"]]
swap_rates_semi_annual = any_to_any(swap_rates_quarterly, 4, 2)
swap_rates_semi_annual.head()


def generate_coupon_dates(issue_date,maturity_date,freq):
    step=12//freq
    dates=[]
    n=0
    while True:
        d=issue_date+pd.DateOffset(months=n*step)
        if d>=maturity_date:
            break
        dates.append(d)
        n+=1
    dates.append(maturity_date)
    return dates

def year_fraction(d1,d2):
    return (d2-d1).days/365.0

def bond_price_ytm(cusip,coupon_rate,date_quoted,date_issued,maturity_date,coupon_frequency,ytm,face_value=100):
    if not isinstance(date_quoted,pd.Timestamp):
        date_quoted=pd.to_datetime(date_quoted)
    if not isinstance(date_issued,pd.Timestamp):
        date_issued=pd.to_datetime(date_issued)
    if not isinstance(maturity_date,pd.Timestamp):
        maturity_date=pd.to_datetime(maturity_date)
    coupon_dates=generate_coupon_dates(date_issued,maturity_date,coupon_frequency)
    cds=[c for c in coupon_dates if c>date_quoted]
    cpn=face_value*(coupon_rate/coupon_frequency)
    dfs=np.array([year_fraction(date_quoted,d) for d in cds])
    p=ytm/coupon_frequency
    discount_factors=(1+p)**(-coupon_frequency*dfs)
    cf=np.full(len(cds),cpn)
    if len(cds)>0:
        cf[-1]+=face_value
    dirty_price=np.sum(cf*discount_factors)
    prev_coupon_candidates=[d for d in coupon_dates if d<=date_quoted]
    prev_coupon_date=max(prev_coupon_candidates)if prev_coupon_candidates else date_issued
    next_coupon_candidates=[d for d in coupon_dates if d>date_quoted]
    next_coupon_date=min(next_coupon_candidates)if next_coupon_candidates else maturity_date
    denom=year_fraction(prev_coupon_date,next_coupon_date)
    num=year_fraction(prev_coupon_date,date_quoted)
    fraction_elapsed=num/denom if denom!=0 else 0
    accrued=cpn*fraction_elapsed
    clean_price=dirty_price-accrued
    return{'cusip':cusip,'clean_price':clean_price,'dirty_price':dirty_price,'accrued_interest':accrued}



bond_price_using_swap_rate = bond_price_ytm(
    cusip="", 
    coupon_rate=coupon_rate, 
    date_quoted=datetime.now(), 
    date_issued=datetime.now(), 
    maturity_date=datetime.now() + relativedelta(years=5), 
    coupon_frequency=2, 
    ytm=float(swap_rates_semi_annual.loc[5]), 
    face_value=100)

bond_price_using_swap_rate


print("Vanilla Bond Initial Node (Dirty):", val_dirty.iloc[0, 0])
print("Vanilla Bond Initial Node (Dirty):", val_clean.iloc[0, 0])











def call_redemption_price(t, K, face, coupon_annual):
    return K + accrued_interest(t, face, coupon_annual)
    # if (t * 2).is_integer():
    #     return K + face*(coupon_annual/2)
    # else:
    #     return K + accrued_interest(t, face, coupon_annual)

def european_call_value_tree(ratetree, val_dirty, val_clean, T_o, K, face, coupon_annual):
    times = np.sort(val_dirty.columns)
    times = times[times <= T_o]
    call_dirty = pd.DataFrame(0.0, index=val_dirty.index, columns=times)
    for s in call_dirty.index:
        rd = call_redemption_price(T_o, K, face, coupon_annual)
        call_dirty.loc[s, T_o] = max(0, val_dirty.loc[s, T_o] - rd)
    for i in range(len(times) - 2, -1, -1):
        t = times[i]
        dt = times[i+1] - t
        for s in call_dirty.index:
            s_down = s + 1 if (s + 1 in call_dirty.index) else s
            pd_dirty = 0.5 * call_dirty.loc[s_down, times[i+1]]
            pu_dirty = 0.5 * call_dirty.loc[s,     times[i+1]]
            r = ratetree.loc[s, t]
            call_dirty.loc[s, t] = np.exp(-r * dt) * (pu_dirty + pd_dirty)
    return call_dirty


call_dirty = european_call_value_tree(
    ratetree, val_dirty, val_clean, 3, 100, face_value, coupon_rate
)

call_dirty.iloc[:len(call_dirty.columns)].style.format(na_rep='').format_index('{:.2f}',axis=1)





times = np.sort(val_dirty.columns)
times = times[times <= 3]

callable_bond_dirty = val_dirty[times] - call_dirty
callable_bond_dirty.iloc[:len(callable_bond_dirty.columns)].style.format(na_rep='').format_index('{:.2f}',axis=1)


callable_bond_clean = val_clean[times] - call_dirty
callable_bond_clean.iloc[:len(callable_bond_dirty.columns)].style.format(na_rep='').format_index('{:.2f}',axis=1)





print("Call Option Initial Node (Dirty):", call_dirty.iloc[0, 0])
print("Callable Bond Initial Node (Dirty):", callable_bond_dirty.iloc[0, 0])
print("Callable Bond Initial Node (Clean):", callable_bond_clean.iloc[0, 0])
print()

print("Calculated Call Option (HW 1):", 2.9262691056851917)
print("Calculated Callable Bond (HW 1):", 98.47106636546674)

print("Quoted Callable Bond (HW 1):", 100.089)














def american_call_value_tree(ratetree, val_dirty, val_clean, T_o, K, face, coupon_annual):
    times = np.sort(val_dirty.columns)
    times = times[times <= T_o]
    call_dirty = pd.DataFrame(0, index=val_dirty.index[:len(times)], columns=times)
    exercise_dirty = pd.DataFrame(np.nan, index=val_dirty.index[:len(times)], columns=times)
    for s in call_dirty.index:
        crp_dirty = call_redemption_price(T_o, K, face, coupon_annual)
        call_dirty.loc[s, T_o] = max(0, val_dirty.loc[s, T_o] - crp_dirty)
        exercise_dirty.loc[s, T_o] = True if call_dirty.loc[s, T_o] > 0 else False
    for i in range(len(times) - 2, -1, -1):
        t = times[i]
        dt = times[i+1] - t
        for s in call_dirty.index:
            s_down = s + 1 if (s + 1 in call_dirty.index) else s
            pd_dirty = 0.5 * call_dirty.loc[s_down, times[i+1]]
            pu_dirty = 0.5 * call_dirty.loc[s, times[i+1]]
            cont_dirty = np.exp(-ratetree.loc[s, t]*dt)*(pu_dirty + pd_dirty)
            imm_dirty = max(0, val_dirty.loc[s, t] - call_redemption_price(t, K, face, coupon_annual))
            if imm_dirty > cont_dirty:
                call_dirty.loc[s, t] = imm_dirty
                exercise_dirty.loc[s, t] = True
            else:
                call_dirty.loc[s, t] = cont_dirty
    for i in range(len(exercise_dirty.index)):
        for j in range(i, len(exercise_dirty.index)):
            if exercise_dirty.iloc[i, j]!=True:
                exercise_dirty.iloc[i, j]=False
    return call_dirty, exercise_dirty


call_dirty_am, exercise_dirty_am = american_call_value_tree(
    ratetree, val_dirty, val_clean, 3, 100, face_value, coupon_rate
)
callable_bond_dirty_am = val_dirty[call_dirty_am.columns] - call_dirty_am
callable_bond_clean_am = val_clean[call_dirty_am.columns] - call_dirty_am


call_dirty_am.style.format(na_rep='').format_index('{:.2f}',axis=1)


callable_bond_dirty_am.iloc[:len(callable_bond_dirty_am.columns)].style.format(na_rep='').format_index('{:.2f}',axis=1)


callable_bond_clean_am.iloc[:len(callable_bond_clean_am.columns)].style.format(na_rep='').format_index('{:.2f}',axis=1)


call_option_initial_dirty_am = call_dirty_am.loc[0, 0]
callable_bond_initial_dirty_am = callable_bond_dirty_am.loc[0, 0]
callable_bond_initial_clean_am = callable_bond_clean_am.loc[0, 0]

print("American Call Option Initial Node (Dirty):", call_option_initial_dirty_am)
print("American Callable Bond Initial Node (Dirty):", callable_bond_initial_dirty_am)
print("American Callable Bond Initial Node (Clean):", callable_bond_initial_clean_am)








print("Exercise Nodes (Dirty) = True means exercised:")
exercise_dirty_am.style.format(na_rep='').format_index('{:.2f}',axis=1)












