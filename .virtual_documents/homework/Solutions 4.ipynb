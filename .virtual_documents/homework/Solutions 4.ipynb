











import pandas as pd

DATE = '2025-01-31'
FILEIN = f'../data/ratetree_data_{DATE}.xlsx'
sheet_tree = 'rate tree'

ratetree = pd.read_excel(FILEIN, sheet_name=sheet_tree).set_index('state')
ratetree.columns.name = 'time'

ratetree.style.format('{:.1%}',na_rep='').format_index('{:.2f}',axis=1)
































import sys
sys.path.insert(0, '../cmds')
from binomial import *
sys.path.insert(0, '../dev')
from bintree import *


import warnings
warnings.filterwarnings("ignore", category=FutureWarning)


FILEIN = f'../data/cap_curves_{DATE}.xlsx'
sheet_curves = f'rate curves {DATE}'
curves = pd.read_excel(FILEIN, sheet_name=sheet_curves).set_index('tenor')

CMPND_RATETREE = None
CMPND_RATECURVES = 4
freqcurve = 4





T = 5
CPNFREQ = 2
CPN = .0441
SECURITY = 'bond'





valtrees = dict()
output = bintrees(SECURITY,ratetree,curves,T=T,cpnrate=CPN,cffreq=CPNFREQ,cmpnd_ratetree=CMPND_RATETREE)
valtrees['clean bond'] = output['tree clean']

CHARTTYPE = 'heatmap'
fmt_cftree = display_bintree_valuation(ratetree,output['tree cf'],title=f'{SECURITY} cashflows',charttype=CHARTTYPE,figsize=(15,7))
fmt_dirty = display_bintree_valuation(ratetree,output['tree dirty'],title=f'{SECURITY} dirty',charttype=CHARTTYPE,figsize=(15,7))
fmt_clean = display_bintree_valuation(ratetree,output['tree clean'],title=f'{SECURITY} clean',charttype=CHARTTYPE,figsize=(15,7))

display(fmt_cftree)
display(fmt_dirty)
display(fmt_clean)
display(output['table'].style.format('{:.2f}'))


























SECURITY = 'callable bond'
STYLES = ['european','bermudan','american']
DISP_STYLE = 'european'

Topt = 3
STRIKE = 100
isPayer = True

tabdata = pd.DataFrame(dtype=float,index=STYLES,columns=['embedded call','callable (clean)']).T
tabdata.insert(0,'non-callable',np.array([0,valtrees['clean bond'].iloc[0,0]]))
tabdata = tabdata.T

output = dict()
for style in STYLES:
    output[style] = bintrees(SECURITY,ratetree,curves,T=T,Topt=Topt,undertree = valtrees['clean bond'],strike=STRIKE, cpnrate=CPN, style=style, cffreq=CPNFREQ, isPayer=isPayer,cmpnd_ratetree=CMPND_RATETREE,cmpnd_ratecurve=CMPND_RATECURVES, quote_date=DATE)
    tabdata.loc[style] = [output[style]['tree call'].iloc[0,0], output[style]['tree clean'].iloc[0,0]]

fmt_call = display_bintree_valuation(ratetree,output[DISP_STYLE]['tree call'],title=f'embedded call',charttype=CHARTTYPE,figsize=(15,7))
fmt_clean = display_bintree_valuation(ratetree,output[DISP_STYLE]['tree clean'],title=f'{SECURITY} clean',charttype=CHARTTYPE,figsize=(15,7))

display(fmt_call)
display(fmt_clean)
display(output['european']['table'].style.format('{:.2f}'))




















DISP_STYLE = 'american'

fmt_call = display_bintree_valuation(ratetree,output[DISP_STYLE]['tree call'],title=f'embedded call',charttype=CHARTTYPE,figsize=(15,7))
fmt_clean = display_bintree_valuation(ratetree,output[DISP_STYLE]['tree clean'],title=f'{SECURITY} clean',charttype=CHARTTYPE,figsize=(15,7))

display(fmt_call)
display(fmt_clean)
display(output[DISP_STYLE]['tree exercise'])

















DISP_STYLE = 'bermudan'

fmt_call = display_bintree_valuation(ratetree,output[DISP_STYLE]['tree call'],title=f'embedded call',charttype=CHARTTYPE,figsize=(15,7))
fmt_clean = display_bintree_valuation(ratetree,output[DISP_STYLE]['tree clean'],title=f'{SECURITY} clean',charttype=CHARTTYPE,figsize=(15,7))

display(fmt_call)
display(fmt_clean)
display(output[DISP_STYLE]['tree exercise'])
display(tabdata.style.format('{:.2f}'))






