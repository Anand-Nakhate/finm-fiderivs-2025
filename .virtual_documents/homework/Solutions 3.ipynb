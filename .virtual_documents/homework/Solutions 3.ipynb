
































import numpy as np
import pandas as pd

from datetime import date
from datetime import datetime

import sys
sys.path.insert(0, '../cmds')
from ficcvol import *
from binomial import *
from ratecurves import *


import datetime
import warnings

import matplotlib.pyplot as plt
import seaborn as sns
%matplotlib inline
plt.rcParams['figure.figsize'] = (12,6)
plt.rcParams['font.size'] = 15
plt.rcParams['legend.fontsize'] = 13

import matplotlib.ticker as mtick
from matplotlib.ticker import (MultipleLocator,
                               FormatStrFormatter,
                               AutoMinorLocator)





DATE = '2024-08-01'
FREQ = 52
futtick = 'TYZ4'

FACE = 100

DAYS_YEAR = 365
DAYS_TBILL_DENOM = 360





futdata = pd.read_excel(f'../data/fut_bond_data_{futtick}_{DATE}.xlsx', sheet_name=f'future').set_index('field').iloc[:,0]
futdata


bonddata = pd.read_excel(f'../data/fut_bond_data_{futtick}_{DATE}.xlsx', sheet_name=f'bonds').set_index('ticker')
bonddata





px = bonddata['px_last']

gross_basis = (px - futdata.loc['px_last'] * bonddata['conversion']).to_frame().rename(columns={0:'dollars'})
gross_basis['32nds'] = gross_basis * 32
gross_basis.columns.name = 'gross basis'
gross_basis








days_settle = 1


cpn = bonddata['cpn']/100
repo = bonddata['repo_reporate']/100

days_fwd = futdata.loc['fut_days_expire'] - days_settle
days_cpn_period = bonddata['accrued_days_between_cpn_dates']
days_already_accrued = bonddata['days_acc'] + days_settle

int_already_acc = cpn*FACE/2 * (days_already_accrued / days_cpn_period)
pxdirty = px + int_already_acc

carry = ((FACE * cpn - repo * pxdirty) * days_fwd / DAYS_TBILL_DENOM).to_frame().rename(columns={0:'dollars'})
carry['32nds'] = carry * 32
net_basis = gross_basis - carry
net_basis.columns.name = 'net basis'
net_basis





days_next_cpn_period = DAYS_YEAR-days_cpn_period
days_next_cpn = bonddata['days_to_next_coupon'] - days_settle
days_past_cpn = (days_fwd - days_next_cpn)
days_terminal_accrued = days_already_accrued + days_fwd

int_postcpn_acc = cpn*FACE/2 * (days_past_cpn / days_next_cpn_period)

fwd_prices = ((px + int_already_acc)  * (1+repo * days_next_cpn/DAYS_TBILL_DENOM) - FACE*cpn/2) * (1+repo * days_past_cpn/DAYS_TBILL_DENOM) - int_postcpn_acc
fwd_prices.to_frame().rename(columns={0:'forward price'}).style.format('{:.4f}')


net_basis_alt = (fwd_prices - futdata.loc['px_last'] * bonddata['conversion']).to_frame().rename(columns={0:'dollars'})
net_basis_alt['32nds'] = net_basis_alt * 32

pd.concat([net_basis,net_basis_alt],axis=1,keys=['calc via carry','calc via forward'])








NOMDISC = .06

Tmat_at_expiration = (bonddata['days_to_mty']-futdata.loc['fut_days_expire'])/DAYS_YEAR


converts = pd.DataFrame(index=bonddata.index,columns=['calculation'],dtype=float)

for i in converts.index:
    converts.loc[i,'calculation'] = price_bond(NOMDISC, Tmat_at_expiration.loc[i], bonddata.loc[i,'cpn']/100,face=1)

converts


pd.concat([converts,bonddata['conversion']],axis=1).rename(columns={0:'formula','conversion':'bloomberg'}).style.format('{:.4f}')


























DATE = '2025-01-31'

filein = f'../data/fedfutures_{DATE}.xlsx'

sheets = pd.ExcelFile(filein).sheet_names

fedfunds = pd.read_excel(filein, sheet_name=f'fed funds').set_index('date')
feddates = pd.read_excel(filein, sheet_name=f'fed meetings')


warnings.filterwarnings('ignore')

dates = sheets[0:3]
fedfut = dict()
curves = dict()
for i in range(len(dates)):
    dt = dates[i]
    fedfut[dt] = pd.read_excel(filein, sheet_name=f'{dt}').set_index('ticker')
    r0 = fedfunds.loc[dt,'fed funds rate']/100
    temp_fed = fedfut[dt][['last_tradeable_dt','px_last']].copy()
    temp_curve = extract_fedpath(temp_fed,feddates,r0)

    if i==0:
        curve_info = temp_curve
        
    curves[dt] = temp_curve[['futures rate','expected fed rate']]

warnings.filterwarnings('default')





merged = pd.DataFrame({key: df['expected fed rate'] for key, df in curves.items()})


curveplot = curve_info[['futures rate','expected fed rate']].dropna(subset='expected fed rate')
ax = curveplot['futures rate'].plot(drawstyle='steps-mid',color=['red']);
curveplot['expected fed rate'].plot(ax=ax, drawstyle='steps-mid');
ax.yaxis.set_major_formatter(mtick.PercentFormatter(xmax=1, decimals=None, symbol='%'));
ax.set_ylabel('rate');
ax.set_title('Implied Fed Funds Rate');
ax.legend(['futures rate','expected fed rate'])
plt.show()


SELECT = [0,2]
dtsSelect = [dates[i] for i in SELECT]

curveplot = merged[dtsSelect]
ax = curveplot.plot(drawstyle='steps-mid')
ax.yaxis.set_major_formatter(mtick.PercentFormatter(xmax=1, decimals=None, symbol='%'))
ax.set_ylabel('rate')
ax.set_title('Implied Fed Rate Announcement Change')

plt.legend(dtsSelect)
plt.show()


SELECT = [0,1]
dtsSelect = [dates[i] for i in SELECT]

curveplot = merged[dtsSelect]
ax = curveplot.plot(drawstyle='steps-mid')
ax.yaxis.set_major_formatter(mtick.PercentFormatter(xmax=1, decimals=None, symbol='%'))
ax.set_ylabel('rate');
ax.set_title('Implied Fed Rate Comparison')

plt.legend(dtsSelect)
plt.show()


((curveplot['2025-01-31'] - curveplot['2025-01-26'])*100*100).plot(title='Change in Expected Rates',ylabel='bps')
plt.show()





ax = curve_info.plot.scatter(x='meeting dates', y='expected fed rate', s=fedfut[DATE]['open_int']/100);
ax.yaxis.set_major_formatter(mtick.PercentFormatter(xmax=1, decimals=None, symbol='%'));
ax.set_ylabel('rate');
ax.set_title('Implied Fed Funds Rate (scaled for open interest)');



