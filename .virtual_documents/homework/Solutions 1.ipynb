














FILE_BOND = '../data/callable_bonds_2025-02-13.xlsx'
FILE_CURVE = '../data/discount_curve_2025-02-13.xlsx'

KEY_CALLABLE = 'FHLMC 4.41 01/28/30'





# KEY_CALLABLE = 'FHLMC 1 1/4 01/29/30'
# KEY_CALLABLE = 'FHLMC 0.97 01/28/28'





# FILE_BOND = '../data/callable_bonds_2025-02-18.xlsx'
# FILE_CURVE = '../data/discount_curve_2025-02-18.xlsx'
# KEY_CALLABLE = 'FHLMC 4.55 02/11/28'





import pandas as pd

info = pd.read_excel(FILE_BOND,sheet_name='info').set_index('info')
info.style.format('{:.2%}',subset=pd.IndexSlice[["Cpn Rate"], :]).format('{:,.0f}',subset=pd.IndexSlice[["Amount Issued"], :]).format('{:%Y-%m-%d}',subset=pd.IndexSlice[["Date Quoted","Date Issued","Date Matures","Date Next Call"], :])





quotes = pd.read_excel(FILE_BOND,sheet_name='quotes').set_index('quotes')
quotes.style.format('{:.2f}', subset=pd.IndexSlice[quotes.index[1:], :]).format('{:%Y-%m-%d}', subset=pd.IndexSlice['Date Quoted', :])





discs = pd.read_excel(FILE_CURVE,sheet_name='discount curve').set_index('ttm')
display(discs.head())
display(discs.tail())






































import sys
sys.path.insert(0, '../cmds')
from fiderivs import *


import datetime
import warnings
warnings.filterwarnings('ignore',category=FutureWarning)
import matplotlib.pyplot as plt
import seaborn as sns
%matplotlib inline
plt.rcParams['figure.figsize'] = (12,6)
plt.rcParams['font.size'] = 15
plt.rcParams['legend.fontsize'] = 13

from matplotlib.ticker import (MultipleLocator,
                               FormatStrFormatter,
                               AutoMinorLocator)


DAYS_YEAR = 365.25
FACE = 100

quotes.loc['TTC'] = (pd.to_datetime(info.loc['Date Next Call']) - pd.to_datetime(info.loc['Date Quoted'])).dt.days / DAYS_YEAR








if quotes.loc['TTC',KEY_CALLABLE] < 0.3:
    quotes.loc['TTC',KEY_CALLABLE] += .25





MODIFY_EXPRY = False

if MODIFY_EXPRY:
    quotes.loc['TTC'] = 1


DISC_INTERVAL = 0.1

Tmaturity = quotes.loc['TTM',KEY_CALLABLE]
Topt = quotes.loc['TTC',KEY_CALLABLE]
cpnfreq = info.loc['Cpn Freq', KEY_CALLABLE]

time_to_cpn = round(Tmaturity % (1 / cpnfreq), 2)
discs = interpolate_curve(discs[['maturity date','discount']].rename(columns={'maturity date':'date'}),interval_years=DISC_INTERVAL,compounding=2,anchor_ttm=Topt,min_ttm=0.05)

discount_grid_step = (discs.index[1]-discs.index[0])
grid_step_cpn = round(1 / (cpnfreq * discount_grid_step))





prices = pd.DataFrame(dtype=float,index=['hypothetical T1', 'hypothetical T2', 'callable'],columns=['model','market'])

T1 = quotes.loc['TTC',KEY_CALLABLE]
T2 = quotes.loc['TTM',KEY_CALLABLE]
accint = quotes.loc['Accrued Interest',KEY_CALLABLE]
cpnrate = info.loc['Cpn Rate',KEY_CALLABLE]

prices.loc['hypothetical T1','model'] = price_bond(discs,cpnrate=cpnrate,ttm=T1)
prices.loc['hypothetical T1','model'] += accint

prices.loc['hypothetical T2','model'] = price_bond(discs,cpnrate=cpnrate,ttm=T2)
prices.loc['hypothetical T2','model'] += accint

prices.loc['callable','market'] = quotes.loc['Dirty Price',KEY_CALLABLE]
prices.style.format('{:.2f}',na_rep='')





Pspot = prices.loc['hypothetical T2','model']

Pfwd = calc_forward_bond_price(Pspot,Topt,discs,cpnrate,face=FACE)

tab_fwd = pd.DataFrame([Pspot,Pfwd],index=['spot','forward'],columns=['modeled price'])
tab_fwd.index.name = 'hypothetical (un-callable) bond'
tab_fwd.style.format('{:.2f}')





frates = discounts_to_forwardcurve(discs['discount'],n_compound=2)
ax = frates.plot()
ax.axhline(cpnrate, color='r', linestyle='--')
plt.xlim(0,Tmaturity)
plt.ylim(None,np.max([cpnrate,frates.max()])*1.1)
plt.legend(['forward rate','coupon rate'])
plt.show()








duration_callable = quotes.loc['Duration',KEY_CALLABLE]
ivol_rate = quotes.loc['Implied Vol',KEY_CALLABLE]/100

Topt_rounded = get_approximate_discount(Topt,discs)
fwdrate = frates.loc[Topt_rounded]   

ivol_price = ratevol_to_pricevol(ivol_rate,fwdrate,duration_callable)

pd.DataFrame([ivol_rate,ivol_price],index=['fwd rate','fwd price'], columns=['implied vol']).style.format('{:.2%}')








Z = discs.loc[Topt_rounded,'discount']

clean_strike = info.loc['Strike',KEY_CALLABLE]
coupon_payment = FACE * cpnrate/cpnfreq
dirty_strike = clean_strike + coupon_payment
K = clean_strike

value_call = black_option_price(Pfwd, strike=K, implied_vol=ivol_price, time_to_expiry=Topt, discount_factor=Z, option_type="call")


option_table = pd.DataFrame(index=['forward','strike','expiration','discount','ivol rate','ivol price'],columns=['model'], dtype=float)
option_table.loc['forward'] = Pfwd
option_table.loc['strike'] = K
option_table.loc['expiration'] = Topt
option_table.loc['discount'] = Z
option_table.loc['ivol rate'] = ivol_rate
option_table.loc['ivol price'] = ivol_price
option_table.loc['call value'] = value_call

option_table.style.format('{:.2f}').format('{:.2%}',subset=pd.IndexSlice[["ivol rate","ivol price"], :])


prices.loc['embedded call','model'] = value_call
prices.loc['callable','model'] = prices.loc['hypothetical T2','model'] - value_call
prices.style.format('{:.2f}',na_rep='')





ytm_table = pd.DataFrame(index=['hypothetical T1','hypothetical T2'], columns=['hypothetical','callable','bloomberg'], dtype=float)

for idx in ytm_table.index:
        
    if 'T1' in idx:
        T = T1
    elif 'T2' in idx:
        T = T2

    y = ytm(prices.loc[idx,'model'], T, cpnrate)[0]
    ymkt = ytm(prices.loc['callable','market'], T, cpnrate)[0]
    ytm_table.loc[idx,['hypothetical','callable']] = [y,ymkt]

ytm_table = ytm_table.rename(index={'hypothetical T1':'T1','hypothetical T2':'T2'})
ytm_table.loc[['T1','T2'],'bloomberg'] = quotes.loc[['YTM Call','YTM Maturity'],KEY_CALLABLE].values/100

display(ytm_table.style.format('{:.2%}',na_rep='').set_caption('ytm'))





RATESHOCK = .0001
discs_adj = rates_to_discount_factors(discount_factors_to_rates(discs['discount']) + RATESHOCK).rename('discount').to_frame()

Pspot_adj = price_bond(discs_adj,cpnrate=cpnrate,ttm=T2)
Pspot_adj += accint
Pfwd_adj = calc_forward_bond_price(Pspot_adj,Topt,discs_adj,cpnrate,face=FACE)

Z_adj = discs_adj.loc[Topt_rounded,'discount']
value_call_adj = black_option_price(Pfwd_adj, strike=K, implied_vol=ivol_price, time_to_expiry=Topt, discount_factor=Z_adj, option_type="call")
P_callable_adj = Pspot_adj - value_call_adj


option_table.loc['forward','shocked'] = Pfwd_adj
option_table.loc['discount','shocked'] = Z_adj
option_table.loc['call value','shocked'] = value_call_adj

option_table.style.format('{:.2f}',na_rep='').format('{:.2%}',subset=pd.IndexSlice[["ivol rate","ivol price"], :],na_rep='')





P_T1_adj = price_bond(discs_adj,cpnrate=cpnrate,ttm=T1)
P_T1_adj += accint

prices_adj = pd.DataFrame(index=prices.index, columns=['model'], dtype=float)
prices_adj['model'] = [P_T1_adj, Pspot_adj, P_callable_adj, value_call_adj]
prices_adj.style.format('{:.2f}',na_rep='').set_caption('shocked prices')








duration_table = pd.DataFrame(index=['hypothetical T1','hypothetical T2','callable'], columns=['formula'], dtype=float)
duration_table.loc['hypothetical T1','formula'] = duration_closed_formula(T1,ytm_table.loc['T1','hypothetical'],cpnrate = cpnrate)
duration_table.loc['hypothetical T2','formula'] = duration_closed_formula(T2,ytm_table.loc['T2','hypothetical'],cpnrate = cpnrate)

duration_table['numerical'] = -(prices_adj['model'] - prices['model']) / prices['model'] / RATESHOCK
#duration_table.loc['callable','bloomberg'] = quotes.loc['Duration',KEY_CALLABLE]
duration_table.style.format('{:.2f}',na_rep='').set_caption('duration')








RECALC_IVOL = False
oas_wrapper = lambda rateshock: price_callable_bond(discs,ttm=T2,tte=T1,cpnrate=cpnrate,ivol=ivol_price,strike=K,accint=accint,face=100,recalculate_ivol=RECALC_IVOL,rateshock=rateshock) - prices.loc['callable','market']
oas = fsolve(oas_wrapper,0)[0]

oas_table = prices.loc[['callable'],['model','market']].T
oas_table.loc['OAS','callable'] = oas
oas_table.style.format('{:.2f}').format('{:.2%}',subset=pd.IndexSlice["OAS", :])


RECALC_IVOL = False

MAX_SHOCK = discs.loc[:Tmaturity,'spot rate'].min()
scenarios = pd.DataFrame(index=np.arange(-MAX_SHOCK, MAX_SHOCK, .0005), columns=['callable'],dtype=float)

for dr in scenarios.index:
    scenarios.loc[dr] = price_callable_bond(discs,ttm=T2,tte=T1,cpnrate=cpnrate,ivol=ivol_price,strike=K,accint=accint,face=100,recalculate_ivol=RECALC_IVOL,rateshock=dr)

num_cpns_Topt = np.ceil(Topt * cpnfreq)
cum_payoffs_Topt = clean_strike+coupon_payment*num_cpns_Topt

ax = scenarios[['callable']].plot()
ax.axhline(dirty_strike,color='red',linestyle='--')
ax.axhline(cum_payoffs_Topt,color='green',linestyle='--')
plt.legend(['value of callable bond','payoff (at call)','payoff (cumulative to call)'])
plt.show()





























from ratecurves import *
from ficcvol import *


DATE = '2025-01-31'
curves = pd.read_excel(f'../data/cap_curves_{DATE}.xlsx', sheet_name=f'rate curves {DATE}').set_index('tenor')








N = 100
Tfloor = 3
isPayer=False
strikefloor = curves['swap rates'][Tfloor]
freqfloor = 4

fwdrate = curves.loc[Tfloor,'forwards']
fwdvol = curves.loc[Tfloor,'fwd vols']

Z = curves.loc[Tfloor,'discounts']


floorlet_value = N * (1/freqfloor) * blacks_formula(Tfloor-1/freqfloor,fwdvol,strikefloor,fwdrate,Z,isCall=isPayer)
display(f'Floorlet value at T={Tfloor} is ${floorlet_value:.4f}.')








maturities = np.arange(1/freqfloor,Tfloor+1/freqfloor,1/freqfloor)
floorlets = pd.DataFrame(index=maturities,columns=['price'])

for i,Tval in enumerate(floorlets.index):
    if i==0:
        floorlets.loc[Tval] = 0
    else:
        floorlets.loc[Tval] = N * (1/freqfloor) * blacks_formula(Tval-1/freqfloor,curves.loc[Tval,'fwd vols'],strikefloor,curves.loc[Tval,'forwards'],curves.loc[Tval,'discounts'],isCall=isPayer)                        


floorlets.style.format('${:.6f}').format_index('{:.2f}')


floor = floorlets.sum().to_frame().rename(columns={0:'floor'})
floor.style.format('${:.4f}')























DATE = '2025-01-31'
curves = pd.read_excel(f'../data/cap_curves_{DATE}.xlsx', sheet_name=f'rate curves {DATE}').set_index('tenor')


capcurves = flat_to_forward_vol(curves)

capcurves[['flat vols','fwd vols']].plot();
