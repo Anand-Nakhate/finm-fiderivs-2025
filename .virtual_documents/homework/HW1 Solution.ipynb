





import pandas as pd
import numpy as np
from scipy.stats import norm
from scipy.optimize import brentq

import matplotlib.pyplot as plt

import sys
sys.path.insert(0, '../cmds')
from ficcvol import *











FILE_BOND = '../data/callable_bonds_2025-02-13.xlsx'
FILE_CURVE = '../data/discount_curve_2025-02-13.xlsx'

KEY_CALLABLE = 'FHLMC 4.41 01/28/30'
KEY_REF_T1 = 'FHLMC 0.97 01/28/28'
KEY_REF_T2 = 'FHLMC 1 1/4 01/29/30'





import pandas as pd

info = pd.read_excel(FILE_BOND,sheet_name='info').set_index('info')
info.style.format('{:.2%}',subset=pd.IndexSlice[["Cpn Rate"], :]).format('{:,.0f}',subset=pd.IndexSlice[["Amount Issued"], :]).format('{:%Y-%m-%d}',subset=pd.IndexSlice[["Date Quoted","Date Issued","Date Matures","Date Next Call"], :])





quotes = pd.read_excel(FILE_BOND,sheet_name='quotes').set_index('quotes')
quotes.style.format('{:.2f}', subset=pd.IndexSlice[quotes.index[1:], :]).format('{:%Y-%m-%d}', subset=pd.IndexSlice['Date Quoted', :])





discs = pd.read_excel(FILE_CURVE,sheet_name='discount curve').set_index('ttm')
display(discs.head())
display(discs.tail())





# *Assumptions: We are interpolating the rates and the discount factors based on the discount/ forward curve





def price_bond(cusip, coupon_rate, date_quoted, date_issued, maturity_date, coupon_frequency, discount_df):
    dq, di, mdt = pd.to_datetime(date_quoted), pd.to_datetime(date_issued), pd.to_datetime(maturity_date)
    period_months = int(12 / coupon_frequency)
    coupon_dates = []
    current = mdt
    while current >= di:
        coupon_dates.append(current)
        current -= pd.DateOffset(months=period_months)
    coupon_dates.sort()
    remaining = [d for d in coupon_dates if d >= dq]
    if not remaining:
        return {'clean_price': 0.0, 'dirty_price': 0.0, 'accrued_interest': 0.0}
    times = np.array([(d - dq).days / 365 for d in remaining])
    flows = np.full(len(remaining), coupon_rate / coupon_frequency * 100.0)
    flows[-1] += 100.0
    tenors = np.array(sorted(discount_df.index.astype(float)))
    disc = discount_df.loc[tenors, 'discount'].values
    interp_disc = np.interp(times, tenors, disc)
    dirty_price = np.sum(flows * interp_disc)
    past = [d for d in coupon_dates if d <= dq]
    if past:
        last_cp = max(past)
        next_cp = min(d for d in coupon_dates if d > last_cp)
        accrual = (dq - last_cp).days / (next_cp - last_cp).days
    else:
        accrual = 0.0
    accrued_interest = coupon_rate / coupon_frequency * 100.0 * accrual
    clean_price = dirty_price - accrued_interest
    return {'cusip': cusip,'clean_price': clean_price, 'dirty_price': dirty_price, 'accrued_interest': accrued_interest}


ref_bond_1 = "FHLMC 0.97 01/28/28"
ref_bond_2 = "FHLMC 1 1/4 01/29/30"
callable_hypothetical_bond = "FHLMC 4.41 01/28/30"
price_3134HA4V2 = price_bond(cusip=info.loc["CUSIP"][ref_bond_2], 
                             coupon_rate=info.loc["Cpn Rate"][ref_bond_2],
                             date_quoted=info.loc["Date Quoted"][ref_bond_2], 
                             date_issued=info.loc["Date Issued"][ref_bond_2], 
                             maturity_date=info.loc["Date Matures"][ref_bond_2], 
                             coupon_frequency=info.loc["Cpn Freq"][ref_bond_2], 
                             discount_df=discs[["discount"]])

price_3134GWGK6 = price_bond(cusip=info.loc["CUSIP"][ref_bond_1],
                             coupon_rate=info.loc["Cpn Rate"][ref_bond_1],
                             date_quoted=info.loc["Date Quoted"][ref_bond_1], 
                             date_issued=info.loc["Date Issued"][ref_bond_1], 
                             maturity_date=info.loc["Date Matures"][ref_bond_1], 
                             coupon_frequency=info.loc["Cpn Freq"][ref_bond_1], 
                             discount_df=discs[["discount"]])

price_3134GW5F9 = price_bond(cusip=info.loc["CUSIP"][callable_hypothetical_bond], 
                             coupon_rate=info.loc["Cpn Rate"][callable_hypothetical_bond],
                             date_quoted=info.loc["Date Quoted"][callable_hypothetical_bond], 
                             date_issued=info.loc["Date Issued"][callable_hypothetical_bond], 
                             maturity_date=info.loc["Date Matures"][callable_hypothetical_bond], 
                             coupon_frequency=info.loc["Cpn Freq"][callable_hypothetical_bond], 
                             discount_df=discs[["discount"]])

bond_price_dicts = [price_3134GW5F9, price_3134HA4V2, price_3134GWGK6]
bond_price_df = pd.DataFrame(bond_price_dicts)
bond_price_df = bond_price_df.rename(columns={
    'cusip': 'CUSIP',
    'clean_price': 'Clean Price',
    'dirty_price': 'Dirty Price',
    'accrued_interest': 'Accrued Interest'
}).set_index('CUSIP')
bond_price_df





def forward_price_bond(coupon_rate, date_quoted, date_issued, maturity_date, coupon_frequency, discount_df, date_call):
    dq, di, md, dc = pd.to_datetime(date_quoted), pd.to_datetime(date_issued), pd.to_datetime(maturity_date), pd.to_datetime(date_call)
    period_months = int(12 / coupon_frequency)
    coupon_dates = []
    c = md
    while c >= di:
        coupon_dates.append(c)
        c -= pd.DateOffset(months=period_months)
    coupon_dates.sort()
    coupon_dates = [d for d in coupon_dates if d >= dq]
    if not coupon_dates:
        return 0.0
    times = np.array([(d - dq).days / 365 for d in coupon_dates])
    flows = np.full(len(coupon_dates), coupon_rate / coupon_frequency * 100.0)
    flows[-1] += 100.0
    tenors = discount_df.index.astype(float).values
    disc_vals = discount_df['discount'].values
    interp_disc = np.interp(times, tenors, disc_vals)
    total_pv = np.sum(flows * interp_disc)
    mask = np.array(coupon_dates) <= dc
    sum_before_call = np.sum(flows[mask] * interp_disc[mask]) if mask.any() else 0.0
    call_time = (dc - dq).days / 365
    df_call = np.interp(call_time, tenors, disc_vals)
    return (total_pv - sum_before_call) / (df_call)


forward_price_3134HA4V2 = forward_price_bond(coupon_rate=info.loc["Cpn Rate"][callable_hypothetical_bond],
                                             date_quoted=info.loc["Date Quoted"][callable_hypothetical_bond], 
                                             date_issued=info.loc["Date Issued"][callable_hypothetical_bond], 
                                             maturity_date=info.loc["Date Matures"][callable_hypothetical_bond], 
                                             coupon_frequency=info.loc["Cpn Freq"][callable_hypothetical_bond], 
                                             discount_df=discs[["discount"]],
                                             date_call=info.loc["Date Next Call"][callable_hypothetical_bond])

print(f"Forward Price of the callable bond: {info.loc["CUSIP"][callable_hypothetical_bond]} = {forward_price_3134HA4V2}")





def forward_rates_from_discounts(discount_df):
    discount_df = discount_df.sort_index()
    t = discount_df.index.values.astype(float)
    z = discount_df["discount"].values
    forward_discounts = z[1:] / z[:-1]
    forward_rates = (z[:-1] / z[1:] - 1) / (t[1:] - t[:-1])
    return pd.DataFrame(index=t[1:], data={"forward_rate": forward_rates, "forward_discount": forward_discounts})

def get_forward_rate(date_quoted, date_call, forward_rate_df):
    dq, dc = pd.to_datetime(date_quoted), pd.to_datetime(date_call)
    call_time = (dc - dq).days / 365
    times = forward_rate_df.index.astype(float).values
    rates = forward_rate_df["forward_rate"].values
    return np.interp(call_time, times, rates)


forward_rates = forward_rates_from_discounts(discs[["discount"]])
forward_rates.head()


duration = quotes.loc["Duration"][callable_hypothetical_bond]
print(f"Duration of the bond: {duration}")
      
implied_vol_rate = quotes.loc["Implied Vol"][callable_hypothetical_bond]
print(f"Implied Volatility of Rate: {implied_vol_rate}")

forward_rate = get_forward_rate(date_quoted=info.loc["Date Quoted"][callable_hypothetical_bond], 
                               date_call=info.loc["Date Next Call"][callable_hypothetical_bond],
                               forward_rate_df=forward_rates)
print(f"Forward Rate: {forward_rate}")

implied_vol_bond_forward_price = duration * implied_vol_rate *forward_rate
print(f"\nImplied vol of the bond: {info.loc["CUSIP"][callable_hypothetical_bond]}'s Forward Price = {implied_vol_bond_forward_price}")





def black_option_value(discount_df, F, K, implied_vol, date_quoted, date_call):
    dq, dc = pd.to_datetime(date_quoted), pd.to_datetime(date_call)
    T = (dc - dq).days / 365
    tenors = discount_df.index.astype(float).values
    disc_vals = discount_df["discount"].values
    df_T = np.interp(T, tenors, disc_vals)
    sigma_sqrt_T = implied_vol * np.sqrt(T)
    d1 = (np.log(F / K) + 0.5 * implied_vol**2 * T) / sigma_sqrt_T
    d2 = d1 - sigma_sqrt_T
    call_value = df_T * (F * norm.cdf(d1) - K * norm.cdf(d2))
    put_value = df_T * (K * norm.cdf(-d2) - F * norm.cdf(-d1))
    return {"call": call_value, "put": put_value}


value_embedded_option = black_option_value(discount_df=discs[["discount"]],
                                          F=forward_price_3134HA4V2,
                                          K=info.loc["Strike"][callable_hypothetical_bond],
                                          implied_vol=implied_vol_bond_forward_price/100,
                                          date_quoted=info.loc["Date Quoted"][callable_hypothetical_bond],
                                          date_call=info.loc["Date Next Call"][callable_hypothetical_bond])

call_option_value = value_embedded_option['call']
print(f"Call Option Value: {call_option_value}")

price_of_bond = price_3134GW5F9['dirty_price']
print(f"Vanilla Price of the bond: {price_of_bond}")

price_of_callable_bond = price_of_bond - call_option_value
print(f"\nCalculated Dirty Price of the Callable bond: {price_of_callable_bond}")
print(f"Quoted Dirty Price of the Callable bond: {quotes.loc["Dirty Price"][callable_hypothetical_bond]}")








def bond_ytm(price, coupon_rate, date_quoted, date_issued, maturity_date, coupon_frequency):
    dq, di, md = pd.to_datetime(date_quoted), pd.to_datetime(date_issued), pd.to_datetime(maturity_date)
    period_months = int(12 / coupon_frequency)
    coupon_dates = []
    c = md
    while c >= di:
        coupon_dates.append(c)
        c -= pd.DateOffset(months=period_months)
    coupon_dates.sort()
    future_dates = [d for d in coupon_dates if d > dq]
    if not future_dates:
        return 0.0
    times = np.array([(d - dq).days / 365 for d in future_dates])
    flows = np.full(len(times), coupon_rate / coupon_frequency * 100.0)
    flows[-1] += 100.0
    def pv_diff(y):
        return np.sum(flows / ((1 + y)**times)) - price
    return brentq(pv_diff, -0.999999, 10.0)


price_3134HA4V2_no_call = price_bond(cusip=info.loc["CUSIP"][callable_hypothetical_bond], 
                             coupon_rate=info.loc["Cpn Rate"][callable_hypothetical_bond],
                             date_quoted=info.loc["Date Quoted"][callable_hypothetical_bond], 
                             date_issued=info.loc["Date Issued"][callable_hypothetical_bond], 
                             maturity_date=info.loc["Date Matures"][callable_hypothetical_bond],
                             coupon_frequency=info.loc["Cpn Freq"][callable_hypothetical_bond], 
                             discount_df=discs[["discount"]])

ytm_no_call = bond_ytm(price=price_3134HA4V2_no_call['dirty_price'], 
                            coupon_rate=info.loc["Cpn Rate"][callable_hypothetical_bond], 
                            date_quoted=info.loc["Date Quoted"][callable_hypothetical_bond], 
                            date_issued=info.loc["Date Issued"][callable_hypothetical_bond], 
                            maturity_date=info.loc["Date Matures"][callable_hypothetical_bond],
                            coupon_frequency=info.loc["Cpn Freq"][callable_hypothetical_bond])

price_3134HA4V2_call = price_bond(cusip=info.loc["CUSIP"][callable_hypothetical_bond], 
                             coupon_rate=info.loc["Cpn Rate"][callable_hypothetical_bond],
                             date_quoted=info.loc["Date Quoted"][callable_hypothetical_bond], 
                             date_issued=info.loc["Date Issued"][callable_hypothetical_bond], 
                             maturity_date=info.loc["Date Next Call"][callable_hypothetical_bond], 
                             coupon_frequency=info.loc["Cpn Freq"][callable_hypothetical_bond], 
                             discount_df=discs[["discount"]])

ytm_called = bond_ytm(price=price_3134HA4V2_call['dirty_price'], 
                            coupon_rate=info.loc["Cpn Rate"][callable_hypothetical_bond], 
                            date_quoted=info.loc["Date Quoted"][callable_hypothetical_bond], 
                            date_issued=info.loc["Date Issued"][callable_hypothetical_bond], 
                            maturity_date=info.loc["Date Next Call"][callable_hypothetical_bond], 
                            coupon_frequency=info.loc["Cpn Freq"][callable_hypothetical_bond])

print(f"Calculated YTM of the callable bond, assuming that it can never be called: {ytm_no_call*100}")
print(f"Quoted YTM of the callable bond, assuming that it can never be called: {quotes.loc["YTM Maturity"][callable_hypothetical_bond]}")

print(f"\nCalculated YTM of the callable bond, assuming that it will certainly be called: {ytm_called*100}")
print(f"Quoted YTM of the callable bond, assuming that it will certainly be called: {quotes.loc["YTM Call"][callable_hypothetical_bond]}")








def bond_duration(coupon_rate, date_quoted, date_issued, maturity_date, coupon_frequency, discount_df):
    dq, di, md = pd.to_datetime(date_quoted), pd.to_datetime(date_issued), pd.to_datetime(maturity_date)
    period_months = int(12 / coupon_frequency)
    coupon_dates = []
    c = md
    while c >= di:
        coupon_dates.append(c)
        c -= pd.DateOffset(months=period_months)
    coupon_dates.sort()
    future_dates = [d for d in coupon_dates if d >= dq]
    if not future_dates:
        return 0.0
    times = np.array([(d - dq).days / 365 for d in future_dates])
    flows = np.full(len(times), coupon_rate / coupon_frequency * 100.0)
    flows[-1] += 100.0
    tenors = discount_df.index.astype(float).values
    disc_vals = discount_df["discount"].values
    interp_disc = np.interp(times, tenors, disc_vals)
    pv_flows = flows * interp_disc
    price = np.sum(pv_flows)
    weighted_times = times * pv_flows
    return np.sum(weighted_times) / price


duration_hypothetical_bond = bond_duration(coupon_rate=info.loc["Cpn Rate"][callable_hypothetical_bond], 
                                           date_quoted=info.loc["Date Quoted"][callable_hypothetical_bond], 
                                           date_issued=info.loc["Date Issued"][callable_hypothetical_bond], 
                                           maturity_date=info.loc["Date Matures"][callable_hypothetical_bond],
                                           coupon_frequency=info.loc["Cpn Freq"][callable_hypothetical_bond], 
                                           discount_df=discs[["discount"]])

print(f"Calculated Duration of hypothetical bond: {duration_hypothetical_bond}")
print(f"Quoted Duration of callable bond: {quotes.loc["Duration"][callable_hypothetical_bond]}")


def shift_discount_factors(discount_df, shift):
    tenors = discount_df.index.astype(float)
    new_discounts = discount_df["discount"].values * np.exp(-shift * tenors)
    return pd.DataFrame(new_discounts.values, index=discount_df.index, columns=["discount"])

def bond_duration_shift(cusip, coupon_rate, date_quoted, date_issued, maturity_date, coupon_frequency, discount_df, shift):
    P0 = price_bond(cusip, coupon_rate, date_quoted, date_issued, maturity_date, coupon_frequency, discount_df)['dirty_price']
    df_up = shift_discount_factors(discount_df, shift)
    df_down = shift_discount_factors(discount_df, -shift)
    P_up = price_bond(cusip, coupon_rate, date_quoted, date_issued, maturity_date, coupon_frequency, df_up)['dirty_price']
    P_down = price_bond(cusip, coupon_rate, date_quoted, date_issued, maturity_date, coupon_frequency, df_down)['dirty_price']
    return (P_down - P_up) / (2 * shift * P0)


df_shift_up = shift_discount_factors(discs[["discount"]], 0.0001)
df_shift_down = shift_discount_factors(discs[["discount"]], -0.0001)
duration_callable_bond = bond_duration_shift(cusip=info.loc["CUSIP"][callable_hypothetical_bond], 
                                             coupon_rate=info.loc["Cpn Rate"][callable_hypothetical_bond],
                                             date_quoted=info.loc["Date Quoted"][callable_hypothetical_bond], 
                                             date_issued=info.loc["Date Issued"][callable_hypothetical_bond], 
                                             maturity_date=info.loc["Date Next Call"][callable_hypothetical_bond], 
                                             coupon_frequency=info.loc["Cpn Freq"][callable_hypothetical_bond], 
                                             discount_df=discs[["discount"]],
                                             shift=0.0001)

print(f"Calculated Duration of callable bond: {duration_callable_bond}")
print(f"Quoted Duration of callable bond: {quotes.loc["Duration"][callable_hypothetical_bond]}")























df_cap_curves = pd.read_excel("../data/cap_curves_2025-01-31.xlsx", sheet_name="rate curves 2025-01-31")#.set_index("tenor")
df_cap_curves.head()





def price_floorlet(T, notional, strike, forward, discount, volatility, freq=0.25):
    sigma_sqrt_T = volatility * np.sqrt(T)
    d1 = (np.log(forward / strike) + 0.5 * volatility ** 2 * T) / sigma_sqrt_T
    d2 = d1 - sigma_sqrt_T
    # Compute Black's formula for a floorlet
    floorlet_price = discount * freq * notional * (strike * norm.cdf(-d2) - forward * norm.cdf(-d1))
    return floorlet_price


# Filter for T = 3 row
T = 3
row = df_cap_curves[df_cap_curves["tenor"] == T]

# Extract values
notional = 100
strike = row["swap rates"].values[0]  # Swap rate at T=3
forward = row["forwards"].values[0]  # Forward rate at T=3
discount = row["discounts"].values[0]  # Discount factor at T=3
volatility = row["flat vols"].values[0]  # Flat vol at T=3

# Display extracted data
print(f"T = {T}, Strike = {strike:.6f}, Forward = {forward:.6f}, Discount = {discount:.6f}, Volatility = {volatility:.6f}")
# Compute floorlet price using extracted data
floorlet_price = price_floorlet(T, notional, strike, forward, discount, volatility)
print(f"Computed Floorlet Price: {floorlet_price:.4f}")





def price_floor(T, notional, df):
    # Select tenors between 0.5 and T (exclude T=0.25)
    valid_tenors = df[(df["tenor"] > 0.25) & (df["tenor"] <= T)]
    
    # Extract relevant data
    strikes = valid_tenors["swap rates"].values  # K = T=3 swap rate
    forwards = valid_tenors["forwards"].values   # Forward rate F
    discounts = valid_tenors["discounts"].values # Discount factor Zτ
    vols = valid_tenors["flat vols"].values      # Flat volatility

    # Compute floorlet prices
    floorlet_prices = [
        price_floorlet(t, notional, k, f, z, v) for t, k, f, z, v in zip(
            valid_tenors["tenor"], strikes, forwards, discounts, vols
        )
    ]

    # Compute total floor price (matching the formula)
    floor_price = sum(floorlet_prices) * (notional / 4)  # 100/4 as in the formula
    return floor_price


# Compute the floor price
floor_price = price_floor(3, 100, df_cap_curves)
print(f"Floor Price: {floor_price:.4f}")














capcurves = flat_to_forward_vol(df_cap_curves)
cap_prices = capcurves[['cap prices']].iloc[1:]
cap_prices.head()


plt.figure(figsize=(8, 5))
plt.plot(cap_prices.index, cap_prices, linestyle='-')
plt.xlabel("Cap Expiration (Years)")
plt.ylabel("Cap Price")
plt.title("Cap Prices Across Expirations")
plt.grid()
plt.show()





forward_vols = capcurves.loc[capcurves.index[1:], 'fwd vols']
print("Forward Volatility")
display(forward_vols.head())

flat_vols = capcurves.loc[capcurves.index[1:], 'flat vols']
print("Flat Volatility")
display(flat_vols.head())


plt.figure(figsize=(8, 5))
plt.plot(forward_vols.index, forward_vols, linestyle='-', label="Forward Volatility")
plt.plot(flat_vols.index, flat_vols, linestyle='--', label="Flat Volatility")
plt.xlabel("Tenor (Years)")
plt.ylabel("Volatility")
plt.title("Forward Volatility vs Flat Volatility")
plt.legend()
plt.grid()
plt.show()



