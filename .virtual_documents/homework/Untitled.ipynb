import numpy as np
import pandas as pd

def any_to_any(x,freq_from,freq_to):
    def convert_scalar(r,f1,f2):
        if f1=='cont':
            e=np.exp(r)-1
        else:
            e=(1+r/f1)**f1-1
        if f2=='cont':
            return np.log(1+e)
        else:
            return f2*((1+e)**(1/f2)-1)
    if isinstance(x,(int,float)):
        return convert_scalar(x,freq_from,freq_to)
    return x.apply(lambda r: convert_scalar(r,freq_from,freq_to))

def any_to_continuous(x,freq_from):
    def convert_scalar(r,f):
        if f=='cont':
            return r
        return np.log((1+r/f)**f)
    if isinstance(x,(int,float)):
        return convert_scalar(x,freq_from)
    return x.apply(lambda r: convert_scalar(r,freq_from))

def continuous_to_any(x,freq_to):
    def convert_scalar(r,f):
        if f=='cont':
            return r
        e=np.exp(r)-1
        return f*((1+e)**(1/f)-1)
    if isinstance(x,(int,float)):
        return convert_scalar(x,freq_to)
    return x.apply(lambda r: convert_scalar(r,freq_to))

def continuous_to_discount_factors(x):
    if isinstance(x,(int,float)):
        return lambda t: np.exp(-x*t)
    if isinstance(x,pd.Series):
        return pd.Series(np.exp(-x.index*x),index=x.index)
    return x.apply(lambda col: np.exp(-col.index*col),axis=0)

def any_to_discount_factors(x,freq):
    def df_scalar(r,f):
        if f=='cont':
            return lambda t: np.exp(-r*t)
        e=(1+r/f)**f-1
        return lambda t: (1+e)**(-t)
    if isinstance(x,(int,float)):
        return df_scalar(x,freq)
    if freq=='cont':
        return x.apply(lambda r: np.exp(-x.index*r))
    return x.apply(lambda r: (1+((1+r/freq)**freq-1))**(-x.index))

