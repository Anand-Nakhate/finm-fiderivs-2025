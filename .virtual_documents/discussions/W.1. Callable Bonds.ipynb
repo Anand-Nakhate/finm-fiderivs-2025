













































































import numpy as np
import pandas as pd

import sys
sys.path.insert(0, '../cmds')
from ficcvol import *
#from binomial import *
from ratecurves import *

import datetime
import warnings
warnings.filterwarnings('ignore',category=FutureWarning)
import matplotlib.pyplot as plt
import seaborn as sns
%matplotlib inline
plt.rcParams['figure.figsize'] = (12,6)
plt.rcParams['font.size'] = 15
plt.rcParams['legend.fontsize'] = 13

from matplotlib.ticker import (MultipleLocator,
                               FormatStrFormatter,
                               AutoMinorLocator)


DATE = '2024-02-21'
curves = pd.read_excel(f'../data/cap_curves_{DATE}.xlsx', sheet_name=f'rate curves {DATE}').set_index('tenor')


curves


CALC_FWD = True
CALC_VOL = True

T=10
FACE=100
cpn_freq = 2
cpn = .06


Topt = 0.5
STRIKE = 100
CLEANCALL = True


from bondmath import bond_pricer_formula, bond_pricer_dcf

px_vanilla_alt = bond_pricer_formula(T,curves.loc[T,'swap rates'],cpn=cpn,freq=cpn_freq)

temp = curves[['discounts']].copy().iloc[1::2]
temp.loc[T:,'cashflow'] = 0
temp.loc[:T,'cashflow'] = FACE * cpn/cpn_freq
temp.loc[T,'cashflow'] += FACE

temp['pv cf'] = temp.prod(axis=1)
px_vanilla = temp['pv cf'].sum()

pd.DataFrame([px_vanilla, px_vanilla_alt],index=['spot rates', 'swap rate'],columns=['clean price']).style.format('${:.2f}')


px_vanilla_Topt = bond_pricer_formula(Topt,curves.loc[Topt,'spot rates'],cpn=cpn,freq=cpn_freq)
if CALC_FWD:    
    px_fwd = FACE * px_vanilla / px_vanilla_Topt
else:
    px_fwd = 103.31

pd.DataFrame([px_vanilla,px_vanilla_Topt,px_fwd],index=[f'maturity {T:.1f}',f'maturity {Topt:.1f}',f'forward from {Topt:.1f} to {T:.1f}'],columns=['price']).style.format('${:.2f}')


if CALC_VOL:
    from bondmath import duration_closed_formula
    
    duration = duration_closed_formula(T,curves.loc[T,'spot rates'],cpn,freq=cpn_freq)
    vol_bond = duration * curves.loc[Topt,'flat vols'] * curves.loc[T,'forwards']
    
    pd.DataFrame([curves.loc[Topt,'flat vols'], duration, vol_bond],index=['rate vol (flat)','bond duration','bond vol'],columns=['estimates']).style.format('{:.2%}')
else:
    vol_bond = .0268


px_calloption = blacks_formula(Topt,vol_bond,STRIKE,px_fwd,discount=curves.loc[Topt,'discounts'])
px_callable_bond = px_vanilla - px_calloption

tab = pd.DataFrame([px_vanilla,px_calloption,px_callable_bond],index=['vanilla bond','call option','callable bond'],columns=['formulaic prices'])
tab.style.format('{:.2f}')





T=9.5
Topt = 0.5


DATE = '2024-08-21'
curves = pd.read_excel(f'../data/cap_curves_{DATE}.xlsx', sheet_name=f'rate curves {DATE}').set_index('tenor')


#from bondmath import bond_pricer_formula, bond_pricer_dcf

px_vanilla_alt = bond_pricer_formula(T,curves.loc[T,'swap rates'],cpn=cpn,freq=cpn_freq)

temp = curves[['discounts']].copy().iloc[1::2]
temp.loc[T:,'cashflow'] = 0
temp.loc[:T,'cashflow'] = FACE * cpn/cpn_freq
temp.loc[T,'cashflow'] += FACE

temp['pv cf'] = temp.prod(axis=1)
px_vanilla = temp['pv cf'].sum()

pd.DataFrame([px_vanilla, px_vanilla_alt],index=['spot rates', 'swap rate'],columns=['clean price']).style.format('${:.2f}')


px_vanilla_Topt = bond_pricer_formula(Topt,curves.loc[Topt,'spot rates'],cpn=cpn,freq=cpn_freq)
if CALC_FWD:    
    px_fwd = FACE * px_vanilla / px_vanilla_Topt
else:
    px_fwd = 103.31

pd.DataFrame([px_vanilla,px_vanilla_Topt,px_fwd],index=[f'maturity {T:.1f}',f'maturity {Topt:.1f}',f'forward from {Topt:.1f} to {T:.1f}'],columns=['price']).style.format('${:.2f}')


if CALC_VOL:
    from bondmath import duration_closed_formula
    
    duration = duration_closed_formula(T,curves.loc[T,'spot rates'],cpn,freq=cpn_freq)
    vol_bond = duration * curves.loc[Topt,'flat vols'] * curves.loc[T,'forwards']
    
    pd.DataFrame([curves.loc[Topt,'flat vols'], duration, vol_bond],index=['rate vol (flat)','bond duration','bond vol'],columns=['estimates']).style.format('{:.2%}')
else:
    vol_bond = .0268


px_calloption = blacks_formula(Topt,vol_bond,STRIKE,px_fwd,discount=curves.loc[Topt,'discounts'])
px_callable_bond = px_vanilla - px_calloption

tab = pd.DataFrame([px_vanilla,px_calloption,px_callable_bond],index=['vanilla bond','call option','callable bond'],columns=['formulaic prices'])
tab.style.format('{:.2f}')



