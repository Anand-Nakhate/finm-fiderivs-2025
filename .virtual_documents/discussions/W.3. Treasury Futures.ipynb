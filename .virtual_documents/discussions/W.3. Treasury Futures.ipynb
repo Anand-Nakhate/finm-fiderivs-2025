


























from datetime import datetime
from datetime import date

date_issue = date(2023,2,28)
date_coupon = date(2023,8,31)
date_now = date(2023,4,18)
date_fwd = date(2023,8,1)

days_cpn = (date_coupon - date_issue).days
days_accint0 = (date_now - date_issue).days
days_accint1 = (date_fwd - date_issue).days
days_fwd = (date_fwd - date_now).days


import pandas as pd
import numpy as np

spot = 102+2/32
repo = .0485
cpn = .04
face = 100

accint0 = cpn*face/2 * (days_accint0 / days_cpn)
accint1 = cpn*face/2 * (days_accint1 / days_cpn)

fwd = (spot + accint0) * (1+repo * days_fwd/360) - accint1

fwd_spot = pd.DataFrame({'prices':[spot, fwd], 'carry':face*np.array([cpn,repo])}, index=['spot','forward'])
fwd_spot.loc['difference'] = [spot-fwd, (accint1-accint0) - face*(repo * days_fwd/360)]
fwd_spot.style.format('{:.4f}')



































DATE = '2023-04-21'
futtick = 'FVU3'

DATE = '2025-02-25'
futtick = 'FVM5'

FREQ = 52
FACE = 100

## Load Market Data
futdata = pd.read_excel(f'../data/fut_bond_data_{futtick}_{DATE}.xlsx', sheet_name=f'future').set_index('field').iloc[:,0]


flds_info = ['last_update_dt','last_tradeable_dt','fut_dlv_dt_last']
futdata.loc[flds_info].to_frame().style.format('{:%Y-%m-%d}')


flds_price = ['px_last']
futdata.loc[flds_price].to_frame().style.format('{:.2f}')





bonddata = pd.read_excel(f'../data/fut_bond_data_{futtick}_{DATE}.xlsx', sheet_name=f'bonds').set_index('ticker')
bondtab = bonddata[['maturity','px_last','cpn','conversion']]
bondtab.style.format({'px_last':'{:.2f}','cpn':'{:.2f}','conversion':'{:.4f}','maturity':'{:%Y-%m-%d}'})








flds_ctd = ['fut_ctd_px','fut_ctd_gross_basis','fut_ctd_net_basis']
temp_ctd_tab = futdata.loc[flds_ctd].to_frame()
temp_ctd_tab.index.name = futdata.loc['fut_ctd']
temp_ctd_tab.style.format('{:.2f}')





temp = bondtab['px_last'].div(bondtab['conversion'])
bondtab.loc[:,'delivery price'] = temp
bondtab.style.format({'px_last':'{:.2f}','cpn':'{:.2f}','conversion':'{:.4f}','maturity':'{:%Y-%m-%d}','delivery price':'{:.2f}'}).highlight_min('delivery price',color='lightgreen',axis=0)
































px = bonddata['px_last']

tab = bonddata[['px_last','conversion']].copy().rename(columns={'px_last':'bond price'})
tab['futures price'] = futdata.loc['px_last']
tab['futures invoice'] = tab['futures price'] * tab['conversion']
tab['gross basis'] = (tab['bond price'] - tab['futures invoice'])
tab['gross basis 32nds'] = tab['gross basis'] * 32
tab.style.format('{:.2f}')


gross_basis = (px - futdata.loc['px_last'] * bonddata['conversion']).to_frame().rename(columns={0:'dollars'})
gross_basis['32nds'] = gross_basis * 32
gross_basis.columns.name = 'gross basis'





days_settle = 0

cpn = bonddata['cpn']/100
repo = bonddata['repo_reporate']/100

days_fwd = futdata.loc['fut_days_expire'] - days_settle
days_cpn_period = bonddata['accrued_days_between_cpn_dates']
days_already_accrued = bonddata['days_acc'] + days_settle

int_already_acc = cpn*FACE/2 * (days_already_accrued / days_cpn_period)
pxdirty = px + int_already_acc

carry = ((FACE * cpn - repo * pxdirty) * days_fwd / 360).to_frame().rename(columns={0:'dollars'})
carry['32nds'] = carry * 32
net_basis = gross_basis - carry
net_basis.columns.name = 'net basis'


tabnet = bonddata[['cpn','repo_reporate']].copy()

tabnet['days fwd'] = days_fwd
tabnet['accrued int'] = int_already_acc
tabnet['dirty price'] = pxdirty
tabnet['carry'] = carry['dollars']
tabnet['gross basis'] = tab['gross basis']
tabnet['net basis'] = tabnet['gross basis'] - tabnet['carry']
tabnet['net basis (32nds)'] = tabnet['net basis'] * 32
tabnet.style.format('{:.2f}')


















