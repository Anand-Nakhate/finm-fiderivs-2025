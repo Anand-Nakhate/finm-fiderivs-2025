





import pandas as pd
import numpy as np
import datetime
from pandas.tseries.offsets import BDay
import warnings

import matplotlib.pyplot as plt
%matplotlib inline
plt.rcParams['figure.figsize'] = (12,6)
plt.rcParams['font.size'] = 15
plt.rcParams['legend.fontsize'] = 13

from matplotlib.ticker import (MultipleLocator,
                               FormatStrFormatter,
                               AutoMinorLocator)

import sys
sys.path.insert(0,'../cmds')
from options import *





TICK = 'AMZN'

DATAFILE = f'../data/option_data_{TICK}.xlsx'

calls = pd.read_excel(DATAFILE,sheet_name='call chain')
puts = pd.read_excel(DATAFILE,sheet_name='put chain')
data = pd.read_excel(DATAFILE,sheet_name='market data')
TICK, px, rf, DATE, EXPRYDATE = data['data']


tau = to_maturity(expiration=EXPRYDATE,current_date=DATE)

disc = np.exp(-rf*tau)


base = 5
pxrounded = base * math.floor(px / base)
idCall = (calls['strike'][calls['strike']%5==0] - pxrounded).abs().idxmin()
K = calls.loc[idCall,'strike']


ivolC = calls.loc[idCall,'impliedVolatility']

idPut = puts['strike'].sub(px).abs().idxmin()
ivolP = puts.loc[idPut,'impliedVolatility']

grid_px = np.arange(px/1.5,px*(4/3),.1)


























data


figtitle = f'Price ($P$): {TICK} for {K} on {EXPRYDATE}'

dataplot = pd.Series(index=grid_px,dtype=float)
for spot in grid_px:
    dataplot.loc[spot] = bs_price(under=spot,strike=K,T=tau/10,rf=rf,vol=ivolC)
    
dataplot.plot(ylabel='Option Price',xlabel='Stock Price',title=figtitle,linewidth=5)
plt.show()


grid_tau = np.array([.01,5,21,252])/252
labs_tau = ['now','1w','1m','1y']


figtitle = f'Price ($P$): {TICK} for {K} on {EXPRYDATE}'

dataplot = pd.DataFrame(index=grid_px,columns=labs_tau, dtype=float)

fig,ax = plt.subplots(2,2,figsize=(10,8))

for idx,t in enumerate(grid_tau):
    
    for spot in grid_px:
        dataplot.loc[spot,labs_tau[idx]] = bs_price(under=spot,strike=K,T=t,rf=rf,vol=ivolC)
    
    dataplot.iloc[:,idx].plot(ax=ax[idx%2,math.floor(idx/2)],ylabel='Option Price',xlabel='Stock Price',title=f'Expiring: {labs_tau[idx]}',linewidth=5)

plt.suptitle(figtitle)
plt.tight_layout()
plt.show()








figtitle = f'Delta ($\\Delta$): {TICK} for {K} on {EXPRYDATE}'

dataplot = pd.Series(index=grid_px,dtype=float)
for spot in grid_px:
    dataplot.loc[spot] = bs_delta(under=spot,strike=K,T=tau,rf=rf,vol=ivolC)
    
dataplot.plot(ylabel='Delta',xlabel='Stock Price',title=figtitle,linewidth=5)
plt.show()





figtitle = f'Gamma ($\\Gamma$): {TICK} for {K} on {EXPRYDATE}'

dataplot = pd.Series(index=grid_px,dtype=float)
for spot in grid_px:
    dataplot.loc[spot] = bs_gamma(under=spot,strike=K,T=tau,rf=rf,vol=ivolC)
    
dataplot.plot(ylabel='Gamma',xlabel='Stock Price',title=figtitle,linewidth=5)
plt.show()





figtitle = f'Theta ($\\Theta$): {TICK} for {K} on {EXPRYDATE}'

dataplot = pd.Series(index=grid_px,dtype=float)
for spot in grid_px:
    dataplot.loc[spot] = bs_theta(under=spot,strike=K,T=tau,rf=rf,vol=ivolC)/252
    
dataplot.plot(ylabel='Daily Theta',xlabel='Stock Price',title=figtitle,linewidth=5)
plt.show()

grid_t = np.arange(1/252,.25,1/252)
dataplot = pd.Series(index=grid_t*252,dtype=float)
for t in grid_t:
    dataplot.loc[t*252] = bs_theta(under=px,strike=K,T=t,rf=rf,vol=ivolC)/252
    
dataplot.plot(ylabel='Daily Theta',xlabel='Time to Expiry (trading days)',title=figtitle,linewidth=5)
plt.show()





figtitle = f'Vega ($vega$): {TICK} for {K} on {EXPRYDATE}'

dataplot = pd.Series(index=grid_px,dtype=float)
for spot in grid_px:
    dataplot.loc[spot] = bs_vega(under=spot,strike=K,T=tau,rf=rf,vol=ivolC)
    
dataplot.plot(ylabel='Vega',xlabel='Stock Price',title=figtitle,linewidth=5)
plt.show()


figtitle = f'Rho ($\\rho$): {TICK} for {K} on {EXPRYDATE}'

dataplot = pd.Series(index=grid_px,dtype=float)
for spot in grid_px:
    dataplot.loc[spot] = bs_rho(under=spot,strike=K,T=tau,rf=rf,vol=ivolC)
    
dataplot.plot(ylabel='Rho',xlabel='Stock Price',title=figtitle,linewidth=5)
plt.show()











TSTEP = 1/52

grid_px = np.arange(px/1.2,px*(5/4),.1)
dataplot = pd.DataFrame(grid_px,columns = ['grid'], dtype=float)
idpx = (dataplot['grid'] - px).abs().idxmin()
dataplot.set_index('grid',inplace=True)


figtitle = f'Convexity'

for spot in grid_px:    
    dataplot.loc[spot,'bs price'] = bs_price(under=spot,strike=K,T=tau,rf=rf,vol=ivolC)

beta = bs_delta(under=px,strike=K,T=tau,rf=rf,vol=ivolC)
alpha = dataplot['bs price'].iloc[idpx] - beta * px
dataplot['delta hedge'] = alpha + beta * grid_px
dataplot.plot(ylabel='Option Price',xlabel='Stock Price',linewidth=2,title=figtitle)
plt.show()





Tgrid = [tau - TSTEP]

for tau in Tgrid:
    for spot in grid_px:
        dataplot.loc[spot,f'one week later'] = bs_price(under=spot,strike=K,T=tau,rf=rf,vol=ivolC)





hedged = dataplot.copy().sub(dataplot.copy()[['delta hedge']].values,axis=1).drop(columns='delta hedge')
hedged.rename(columns={'bs price':'gross payoff'},inplace=True)


figtitle = 'Hedged Position'
hedged['gross payoff'].plot(ylabel='Option Price',xlabel='Stock Price',linewidth=2,title=figtitle)
plt.show()


figtitle = 'Convexity and Theta'
dataplot.plot(ylabel='Option Price',xlabel='Stock Price',linewidth=2,title=figtitle,color = ['r', 'k','b'])
plt.show()


figtitle = 'Hedged Position and Theta'

hedged.plot(ylabel='Option Price',xlabel='Stock Price',linewidth=2,title=figtitle)
plt.show()





tau_example = .25
ivolC_example = ivolC

figtitle = 'BS Bounds and Theta'

disc = np.exp(-rf*tau_example)
grid_px = np.arange(min(px,K)/1.2,max(px,K)*1.2,.1)
dataplot_bounds = pd.DataFrame(index=grid_px, dtype=float)
for spot in grid_px:
    dataplot_bounds.loc[spot,f'expiration'] = bs_price(under=spot,strike=K,T=.001,rf=rf,vol=ivolC_example)
    dataplot_bounds.loc[spot,f'pv expiration'] = bs_price(under=spot,strike=disc * K,T=.001,rf=rf,vol=ivolC_example)
    
    dataplot_bounds.loc[spot,f'bs value: expiration = {tau_example:.2f}, ivolC = {ivolC_example:.1%}'] = bs_price(under=spot,strike=K,T=tau_example,rf=rf,vol=ivolC_example)

dataplot_bounds.plot(ylabel='Option Price',xlabel='Stock Price',linewidth=2,title=figtitle,color=['black','red','blue'])
plt.show()








px_fields = ['lastPrice']

p_call = calls.loc[idCall,px_fields].mean()
p_put = puts.loc[idPut,px_fields].mean()

temp = [p_call-p_put, px-K, px-K*disc]
tab_bounds_american = pd.DataFrame(data=temp, index=['call - put', 'lower bound', 'upper bound'],columns=[f'{TICK}, {EXPRYDATE}, {K}']).T
tab_bounds_american.style.format('{:,.2f}')





imp_vol = pd.DataFrame(columns=tab_bounds_american.index, index = ['call','put'], data=[calls.loc[idCall,'impliedVolatility'], puts.loc[idPut,'impliedVolatility']]).T
imp_vol.style.format('{:.2%}')


















