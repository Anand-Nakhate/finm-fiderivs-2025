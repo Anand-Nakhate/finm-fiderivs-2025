





import numpy as np
import pandas as pd
import seaborn as sns


import warnings
warnings.filterwarnings('ignore',category=FutureWarning)

from datetime import date
from datetime import datetime

import sys
sys.path.insert(0, '../cmds')
from ficcvol import *
from binomial import *
from ratecurves import *
sys.path.insert(0, '../dev')
from bintree import *





DATE = '2025-01-31'
FILEIN = f'../data/fiderivs_data_{DATE}.xlsx'
#CMPNDQUOTES = 4
CMPND_RATETREE = None

CMPND_RATECURVES = 4
freqcurve = 4
dt = 1/freqcurve

sheet_curves = 'rate curves'
sheet_tree = 'rate tree'
sheet_volskew = 'bloomberg vcub'
sheet_sabrparams = 'sabr params'


ratetree = pd.read_excel(FILEIN, sheet_name=sheet_tree).set_index('state')
ratetree.columns.name = 'time'
refratetree = freqcurve * (np.exp(ratetree / freqcurve)-1)
label_ratetree = f'Tree: Rates (compounding={freqcurve})'


curves = pd.read_excel(FILEIN, sheet_name=sheet_curves).set_index('tenor')
volskew = pd.read_excel(FILEIN, sheet_name=sheet_volskew)


display_bintree_valuation(ratetree,refratetree,charttype='df',title='Rates (compounding={freqcurve})',fmt='{:.1%}')#,figsize=(7,4))








SECURITY = 'floor'
isPayer = False
T=3
freq = 4

CHARTTYPE = 'heatmap'

output = bintrees(SECURITY,ratetree,curves,T=T,cffreq=freq,isPayer=isPayer,cmpnd_ratetree=CMPND_RATETREE)

fmt_rtree = display_bintree_valuation(ratetree,output['tree refrates'],title=f'rates (compounding = {freq})',charttype=CHARTTYPE,fmt='.0%')
fmt_cftree = display_bintree_valuation(ratetree,output['tree cf'],title=f'{SECURITY} cashflows',charttype=CHARTTYPE)
fmt_valtree = display_bintree_valuation(ratetree,output['tree value'],title=f'{SECURITY} value',charttype=CHARTTYPE)

display(fmt_rtree)
display(fmt_cftree)
display(fmt_valtree)
display(output['table'].style.format('{:.2f}'))








SECURITY = 'swap'

Tunder = 3
Topt = 2
T = Tunder + Topt
freq = 4
isPayer = True

output = bintrees(SECURITY,ratetree,curves,T=T,Topt=Topt,cffreq=freq,isPayer=isPayer,cmpnd_ratetree=CMPND_RATETREE)
valtrees=dict()
valtrees['swap'] = output['tree value']

fmt_rtree = display_bintree_valuation(ratetree,output['tree refrates'],title=f'rates (compounding = {freq})',charttype=CHARTTYPE,fmt='.0%',figsize=(15,7))
fmt_cftree = display_bintree_valuation(ratetree,output['tree cf'],title=f'{SECURITY} cashflows',charttype=CHARTTYPE,figsize=(15,7))
fmt_valtree = display_bintree_valuation(ratetree,output['tree value'],title=f'{SECURITY} value',charttype=CHARTTYPE,figsize=(15,7))

display(fmt_rtree)
display(fmt_cftree)
display(fmt_valtree)
display(output['table'].style.format('{:.2f}'))





strike = curves.loc[T,'swap rates']
output = bintrees(SECURITY,ratetree,curves,T=T,Topt=Topt,strike = strike, cffreq=freq,isPayer=isPayer,cmpnd_ratetree=CMPND_RATETREE)
display(output['table'].style.format('{:.4f}'))








SECURITY = 'swaption'
STYLE = 'european'





swapvol_data = pd.read_excel(FILEIN, sheet_name='bloomberg vcub').set_index('instrument')
swapvol = swapvol_data.loc['swaption',0]/100


output = bintrees(SECURITY,ratetree,curves,T=T,Topt=Topt,undertree=valtrees['swap'],style=STYLE,ivol=swapvol,cffreq=freq,isPayer=isPayer,cmpnd_ratetree=CMPND_RATETREE)
valtrees['swaption european'] = output['tree value']

fmt_rtree = display_bintree_valuation(ratetree,output['tree refrates'],title=f'rates (compounding = {freq})',charttype=CHARTTYPE,fmt='.0%')
fmt_cftree = display_bintree_valuation(ratetree,output['tree cf'],title=f'{SECURITY} cashflows',charttype=CHARTTYPE)
fmt_valtree = display_bintree_valuation(ratetree,output['tree value'],title=f'{SECURITY} value',charttype=CHARTTYPE)

display(fmt_rtree)
display(fmt_cftree)
display(fmt_valtree)
display(output['table'].style.format('{:.2f}'))





STYLE='american'
output = bintrees(SECURITY,ratetree,curves,T=T,Topt=Topt,undertree=valtrees['swap'],style=STYLE,ivol=swapvol,cffreq=freq,isPayer=isPayer,cmpnd_ratetree=CMPND_RATETREE)
valtrees['swaption american'] = output['tree value']

fmt_rtree = display_bintree_valuation(ratetree,output['tree refrates'],title=f'rates (compounding = {freq})',charttype=CHARTTYPE,fmt='.0%')
fmt_cftree = display_bintree_valuation(ratetree,output['tree cf'],title=f'{SECURITY} cashflows',charttype=CHARTTYPE)
fmt_valtree = display_bintree_valuation(ratetree,output['tree value'],title=f'{SECURITY} value',charttype=CHARTTYPE)

display(fmt_rtree)
display(fmt_cftree)
display(fmt_valtree)
display(output['tree exercise'])
display(output['table'].style.format('{:.2f}'))








T = 5
CPNFREQ = 2

CPN = .0441

SECURITY = 'bond'

output = bintrees(SECURITY,ratetree,curves,T=T,cpnrate=CPN,cffreq=CPNFREQ,cmpnd_ratetree=CMPND_RATETREE)
valtrees['clean bond'] = output['tree clean']

fmt_rtree = display_bintree_valuation(ratetree,output['tree refrates'],title=f'rates (compounding = {freq})',charttype=CHARTTYPE,fmt='.0%',figsize=(15,7))
fmt_cftree = display_bintree_valuation(ratetree,output['tree cf'],title=f'{SECURITY} cashflows',charttype=CHARTTYPE,figsize=(15,7))
fmt_dirty = display_bintree_valuation(ratetree,output['tree dirty'],title=f'{SECURITY} dirty',charttype=CHARTTYPE,figsize=(15,7))
fmt_clean = display_bintree_valuation(ratetree,output['tree clean'],title=f'{SECURITY} clean',charttype=CHARTTYPE,figsize=(15,7))

display(fmt_rtree)
display(fmt_cftree)
display(fmt_dirty)
display(fmt_clean)
display(output['table'].style.format('{:.2f}'))








SECURITY = 'callable bond'
STYLES = ['european','bermudan','american']
DISP_STYLE = 'bermudan'

Topt = 3
STRIKE = 100
isPayer = True

tabdata = pd.DataFrame(dtype=float,index=STYLES,columns=['embedded call','callable (clean)']).T
tabdata.insert(0,'non-callable',np.array([0,valtrees['clean bond'].iloc[0,0]]))
tabdata = tabdata.T

#tabdata_baseline = pd.DataFrame(columns=['vanilla'],data=[0,valtrees['clean bond'].iloc[0,0]],index = tabdata.columns)
#tabdata = pd.concat([tabdata,tabdata_baseline],axis=0)

output = dict()
for style in STYLES:
    output[style] = bintrees(SECURITY,ratetree,curves,T=T,Topt=Topt,undertree = valtrees['clean bond'],strike=STRIKE, cpnrate=CPN, style=style, cffreq=CPNFREQ, isPayer=isPayer,cmpnd_ratetree=CMPND_RATETREE,cmpnd_ratecurve=CMPND_RATECURVES, quote_date=DATE)
    tabdata.loc[style] = [output[style]['tree call'].iloc[0,0], output[style]['tree clean'].iloc[0,0]]



fmt_rtree = display_bintree_valuation(ratetree,output[DISP_STYLE]['tree refrates'],title=f'rates (compounding = {freq})',charttype=CHARTTYPE,fmt='.0%',figsize=(15,7))
fmt_call = display_bintree_valuation(ratetree,output[DISP_STYLE]['tree call'],title=f'embedded call',charttype=CHARTTYPE,figsize=(15,7))
fmt_clean = display_bintree_valuation(ratetree,output[DISP_STYLE]['tree clean'],title=f'{SECURITY} clean',charttype=CHARTTYPE,figsize=(15,7))

display(fmt_rtree)
display(fmt_call)
display(fmt_clean)
display(output[DISP_STYLE]['tree exercise'])
display(tabdata.style.format('{:.2f}'))
display(output['european']['table'].style.format('{:.2f}'))



