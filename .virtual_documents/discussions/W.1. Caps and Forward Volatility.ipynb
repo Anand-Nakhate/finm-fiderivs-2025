




























































































import numpy as np
import pandas as pdf

import sys
sys.path.insert(0, '../cmds')
from ficcvol import *
#from binomial import *
from ratecurves import *


import datetime
import warnings

import matplotlib.pyplot as plt
import seaborn as sns
%matplotlib inline
plt.rcParams['figure.figsize'] = (12,6)
plt.rcParams['font.size'] = 15
plt.rcParams['legend.fontsize'] = 13

from matplotlib.ticker import (MultipleLocator,
                               FormatStrFormatter,
                               AutoMinorLocator)


DATE = '2025-01-31'
curves = pd.read_excel(f'../data/cap_curves_{DATE}.xlsx', sheet_name=f'rate curves {DATE}').set_index('tenor')


capcurves = flat_to_forward_vol(curves)

capcurves[['flat vols','fwd vols']].plot();


capcurves[['flat vols','cap prices','fwd vols']].style.format({'flat vols':'{:.2%}','caplet prices':'{:.2f}','fwd vols':'{:.2%}','cap prices':'{:.2f}'})
