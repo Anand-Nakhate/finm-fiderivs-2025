
































from pathlib import Path
import sys
import pandas as pd

# Get the directory of the notebook (assumes Jupyter Notebook is always used)
BASE_DIR = Path().resolve()

# Define paths for data and modules
DATA_DIR = BASE_DIR / "data"
MODULES_DIR = BASE_DIR / "modules"

# Check if expected directories exist
if not DATA_DIR.exists():
    print(f"Warning: Data directory '{DATA_DIR}' not found. Check your file structure.")

if not MODULES_DIR.exists():
    print(f"Warning: Modules directory '{MODULES_DIR}' not found. Check your file structure.")

# Ensure Python can import from the modules directory
if str(MODULES_DIR) not in sys.path:
    sys.path.append(str(MODULES_DIR))

# Load exam data
EXAMPLE_DATA_PATH = DATA_DIR / "fiderivs_2025-03-10.xlsx"

if EXAMPLE_DATA_PATH.exists():
    example_data = pd.read_excel(EXAMPLE_DATA_PATH)
else:
    print(f"Warning: '{EXAMPLE_DATA_PATH.name}' not found. Ensure it's in the correct directory.")






from datetime import datetime, timedelta
from datetime import date
from dateutil.relativedelta import relativedelta
import numpy as np
from math import log, sqrt
from scipy.stats import norm

from ficcvol import *

import warnings
warnings.filterwarnings("ignore", category=FutureWarning)








DATE = '2025-03-10'
FILEIN = f'./data/fiderivs_{DATE}.xlsx'

sheet_curves = f'rate curves'

curves = pd.read_excel(FILEIN, sheet_name=sheet_curves).set_index('tenor')
curves








T=5
COUPN_FREQ = 4
COUPN_RATE=0.0036


def price_bond_from_discounts(df, annual_coupon_rate = 0.036, face_value = 100.0) -> float:
    coupon_amount = annual_coupon_rate * face_value / 4.0  
    payment_tenors = [0.25 * i for i in range(1, 21)]  
    coupon_pv = 0.0
    for t in payment_tenors:
        df_t = df.loc[t, 'discounts']
        coupon_pv += coupon_amount * df_t
    df_5y = df.loc[5.0, 'discounts']
    principal_pv = face_value * df_5y
    bond_price = coupon_pv + principal_pv
    return bond_price


bond_price = price_bond_from_discounts(df=curves, annual_coupon_rate = 0.036, face_value = 100.0)
print(f"Bond price: {bond_price}")








capcurves = flat_to_forward_vol(curves)
forward_vols = capcurves.loc[capcurves.index[1:], 'fwd vols']
print("Forward Volatility")
display(forward_vols.to_frame())








def blacks_formula(T,vol,strike, fwd, discount=1.0, isCall=True):
    if T <= 0 or vol <= 0 or fwd <= 0 or strike <= 0:
        return 0.0
    sigT = vol * sqrt(T)
    d1 = (log(fwd/strike) / sigT) + 0.5 * sigT
    d2 = d1 - sigT
    if isCall:
        return discount * (fwd * norm.cdf(d1) - strike * norm.cdf(d2))
    else:
        return discount * (strike * norm.cdf(-d2) - fwd * norm.cdf(-d1))


def price_cap_or_floor(strike, isCap=True, notional=100.0, freq=4, maturity=5.0):
    total_value = 0.0
    dt = 1.0 / freq
    schedule = np.arange(dt, maturity + dt, dt)
    
    for T_end in schedule:
        T_start = T_end - dt  
        if T_start <= 0:
            continue
        vol   = curves.loc[T_end, 'flat vols']
        fwd   = curves.loc[T_end, 'forwards']
        df    = curves.loc[T_end, 'discounts']
        
        accrual = dt
        isCall = isCap
        piece_value = notional * accrual * blacks_formula(
            T = T_start,
            vol = vol,
            strike = strike,
            fwd = fwd,
            discount = df,
            isCall = isCall
        )
        total_value += piece_value
    return total_value


atm_5y=curves.loc[5.00,'forwards']
strike_minus_150=atm_5y-0.0150
strike_atm=atm_5y
strike_plus_150=atm_5y+0.0150

print("ATM forward rate (5Y) =", f"{atm_5y*100:0.4f} %")
print("Strike (ATM - 150bps) =", f"{(strike_minus_150)*100:0.4f} %")
print("Strike (ATM)          =", f"{(strike_atm)*100:0.4f} %")
print("Strike (ATM + 150bps) =", f"{(strike_plus_150)*100:0.4f} %")

bond_price=100*curves.loc[5.00,'discounts']

# i) CAP at ATM
cap_atm = price_cap_or_floor(strike=strike_atm, isCap=True, maturity=5.0)
# ii) FLOOR at ATM
floor_atm = price_cap_or_floor(strike=strike_atm, isCap=False, maturity=5.0)
# iii) CAP at (ATM + 150bps)
cap_otm = price_cap_or_floor(strike=strike_plus_150, isCap=True, maturity=5.0)
# iv) FLOOR at (ATM - 150bps)
floor_otm = price_cap_or_floor(strike=strike_minus_150, isCap=False, maturity=5.0)

print("\n")
print("CAP (ATM) price:          $", f"{cap_atm:,.6f}")
print("FLOOR (ATM) price:        $", f"{floor_atm:,.6f}")
print("CAP  (+150bps) price:     $", f"{cap_otm:,.6f}")
print("FLOOR (-150bps) price:    $", f"{floor_otm:,.6f}")








values=pd.DataFrame(
    data=[bond_price,cap_atm,floor_atm,cap_otm,floor_otm],
    columns=['price'],
    index=['bond','cap ATM','floor ATM','cap OTM','floor OTM']
)


contracts = pd.DataFrame(data=[1,1,-1,-1,1],columns = ['contracts'],index=values.index)
contracts.style.format('{:.0f}',na_rep='')


portfolio=values.join(contracts)
portfolio['value']=portfolio['price']*portfolio['contracts']
print(portfolio)
print(portfolio['value'].sum())








def shift_discount_factors(discount_df, shift):
    tenors = discount_df.index.astype(float)
    new_discounts = discount_df["discounts"].values * np.exp(-shift * tenors)
    return pd.DataFrame(new_discounts.values, index=discount_df.index, columns=["discounts"])

shifted_df = shift_discount_factors(curves[["discounts"]], 0.0001)
shifted_df




















sabr_parameters = pd.DataFrame(
    {'beta': 0.2500,
    'alpha': 0.0214,
    'nu': 0.6000,
    'rho': -0.2000
    },
    index=['parameter']).T

sabr_parameters.style.format('{:.4f}').set_caption('SABR (full)')





STRIKE = .03
doSLIM = True

beta,alpha,nu,rho = sabr_parameters.iloc[:,0]

volOTM =  sabr(beta,nu,rho,alpha,F,STRIKE,Topt)








flat_vols_otm = pd.DataFrame([.50,.25],index=STRIKES_OFFSET[[0,2]],columns=['flat vols'])
flat_vols_otm.index.name = 'OTM spread (bps)'
flat_vols_otm.style.format('{:.1%}')

















sheet_tree = 'rate tree'

ratetree = pd.read_excel(FILEIN, sheet_name=sheet_tree).set_index('state')
ratetree.columns.name = 'time'

ratetree.style.format('{:.1%}',na_rep='').format_index('{:.2f}',axis=1)








def bond_cashflow_tree(states, cols, face, coupon_annual, maturity):
    cf = pd.DataFrame(0, index=states, columns=cols)
    c = face * (coupon_annual / 4)
    tm = np.array(cf.columns.tolist())
    if maturity not in tm:
        tm = np.append(tm, maturity)
    tm = np.sort(tm)
    cf = cf.reindex(columns=tm, fill_value=0)
    pt = np.arange(0.25, maturity + 0.001, 0.25)
    for p in pt:
        if p < maturity:
            cf[p] = c
        else:
            cf[p] = face + c
    return cf


face_value=100
coupon_rate=0.036
maturity=5
cf_tree=bond_cashflow_tree(
    states=ratetree.index,
    cols=ratetree.columns,
    face=face_value,
    coupon_annual=coupon_rate,
    maturity=maturity
)
cf_tree.style.format(na_rep='').format_index('{:.2f}',axis=1)








def accrued_interest(t, face, coupon_annual):
    lc = 0.25 * np.floor(t / 0.25)
    f = (t - lc) / 0.25
    return face * (coupon_annual / 4) * f

def bond_value_tree(ratetree, cf_tree, face, coupon_annual):
    tm = np.sort(cf_tree.columns)
    vd = pd.DataFrame(0, index=cf_tree.index, columns=tm)
    vd.loc[:, tm[-1]] = cf_tree.loc[:, tm[-1]]
    for i in range(len(tm) - 2, -1, -1):
        dt = tm[i+1] - tm[i]
        for s in vd.index:
            sd = s + 1 if s + 1 in vd.index else s
            ev = 0.5 * vd.loc[s, tm[i+1]] + 0.5 * vd.loc[sd, tm[i+1]]
            vd.loc[s, tm[i]] = cf_tree.loc[s, tm[i]] + np.exp(-ratetree.loc[s, tm[i]] * dt) * ev
    vc = vd.copy()
    for x in tm:
        vc[x] = vc[x] - accrued_interest(x, face, coupon_annual)
    return vd, vc


val_dirty,val_clean=bond_value_tree(ratetree,cf_tree,face_value,coupon_rate)
val_dirty.style.format(na_rep='').format_index('{:.2f}',axis=1)








def structured_note_cashflow_tree(ratetree, face, floor_rate, cap_rate, maturity):
    times = sorted(ratetree.columns)
    cf_tree = pd.DataFrame(0.0, index=ratetree.index, columns=times)

    for s in ratetree.index:
        for t in times:
            rate = ratetree.loc[s, t]
            if int(float(t)) + 0.25 <= maturity:
                floored  = max(rate, floor_rate)
                floored_cap = min(floored, cap_rate)
                raw_coupon = face * floored_cap * 0.25
                discounted_coupon = raw_coupon * np.exp(-rate * 0.25)
                cf_tree.loc[s, t] = discounted_coupon
            
            if np.isclose(int(float(t)), maturity):
                cf_tree.loc[s, t] += face

    return cf_tree


structured_note_cashflow_tree(ratetree, face=100, floor_rate=0.02, cap_rate=0.05, maturity=5).style.format(na_rep='')



