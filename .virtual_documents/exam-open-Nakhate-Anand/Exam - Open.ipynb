
































from pathlib import Path
import sys
import pandas as pd

# Get the directory of the notebook (assumes Jupyter Notebook is always used)
BASE_DIR = Path().resolve()

# Define paths for data and modules
DATA_DIR = BASE_DIR / "data"
MODULES_DIR = BASE_DIR / "modules"

# Check if expected directories exist
if not DATA_DIR.exists():
    print(f"Warning: Data directory '{DATA_DIR}' not found. Check your file structure.")

if not MODULES_DIR.exists():
    print(f"Warning: Modules directory '{MODULES_DIR}' not found. Check your file structure.")

# Ensure Python can import from the modules directory
if str(MODULES_DIR) not in sys.path:
    sys.path.append(str(MODULES_DIR))

# Load exam data
EXAMPLE_DATA_PATH = DATA_DIR / "fiderivs_2025-03-10.xlsx"

if EXAMPLE_DATA_PATH.exists():
    example_data = pd.read_excel(EXAMPLE_DATA_PATH)
else:
    print(f"Warning: '{EXAMPLE_DATA_PATH.name}' not found. Ensure it's in the correct directory.")






from datetime import datetime, timedelta
from datetime import date
from dateutil.relativedelta import relativedelta
import numpy as np
from math import log, sqrt
from scipy.stats import norm

from ficcvol import *

import warnings
warnings.filterwarnings("ignore", category=FutureWarning)








DATE = '2025-03-10'
FILEIN = f'./data/fiderivs_{DATE}.xlsx'

sheet_curves = f'rate curves'

curves = pd.read_excel(FILEIN, sheet_name=sheet_curves).set_index('tenor')
curves








T=5
COUPN_FREQ = 4
COUPN_RATE=0.0036


def price_bond_from_discounts(df, annual_coupon_rate = 0.036, face_value = 100.0) -> float:
    coupon_amount = annual_coupon_rate * face_value / 4.0  
    payment_tenors = [0.25 * i for i in range(1, 21)]  
    coupon_pv = 0.0
    for t in payment_tenors:
        df_t = df.loc[t, 'discounts']
        coupon_pv += coupon_amount * df_t
    df_5y = df.loc[5.0, 'discounts']
    principal_pv = face_value * df_5y
    bond_price = coupon_pv + principal_pv
    return bond_price


bond_price = price_bond_from_discounts(df=curves, annual_coupon_rate = 0.036, face_value = 100.0)
print(f"Bond price: {bond_price}")








capcurves = flat_to_forward_vol(curves)
forward_vols = capcurves.loc[capcurves.index[1:], 'fwd vols']
print("Forward Volatility")
display(forward_vols.to_frame())








def blacks_formula(T,vol,strike, fwd, discount=1.0, isCall=True):
    if T <= 0 or vol <= 0 or fwd <= 0 or strike <= 0:
        return 0.0
    sigT = vol * sqrt(T)
    d1 = (log(fwd/strike) / sigT) + 0.5 * sigT
    d2 = d1 - sigT
    if isCall:
        return discount * (fwd * norm.cdf(d1) - strike * norm.cdf(d2))
    else:
        return discount * (strike * norm.cdf(-d2) - fwd * norm.cdf(-d1))


def price_cap_or_floor(strike, isCap=True, notional=100.0, freq=4, maturity=5.0):
    total_value = 0.0
    dt = 1.0 / freq
    schedule = np.arange(dt, maturity + dt, dt)
    
    for T_end in schedule:
        T_start = T_end - dt  
        if T_start <= 0:
            continue
        vol   = curves.loc[T_end, 'flat vols']
        fwd   = curves.loc[T_end, 'forwards']
        df    = curves.loc[T_end, 'discounts']
        
        accrual = dt
        isCall = isCap
        piece_value = notional * accrual * blacks_formula(
            T = T_start,
            vol = vol,
            strike = strike,
            fwd = fwd,
            discount = df,
            isCall = isCall
        )
        total_value += piece_value
    return total_value


atm_5y=curves.loc[5.00,'forwards']
strike_minus_150=atm_5y-0.0150
strike_atm=atm_5y
strike_plus_150=atm_5y+0.0150

print("ATM forward rate (5Y) =", f"{atm_5y*100:0.4f} %")
print("Strike (ATM - 150bps) =", f"{(strike_minus_150)*100:0.4f} %")
print("Strike (ATM)          =", f"{(strike_atm)*100:0.4f} %")
print("Strike (ATM + 150bps) =", f"{(strike_plus_150)*100:0.4f} %")

bond_price=100*curves.loc[5.00,'discounts']

# i) CAP at ATM
cap_atm = price_cap_or_floor(strike=strike_atm, isCap=True, maturity=5.0)
# ii) FLOOR at ATM
floor_atm = price_cap_or_floor(strike=strike_atm, isCap=False, maturity=5.0)
# iii) CAP at (ATM + 150bps)
cap_otm = price_cap_or_floor(strike=strike_plus_150, isCap=True, maturity=5.0)
# iv) FLOOR at (ATM - 150bps)
floor_otm = price_cap_or_floor(strike=strike_minus_150, isCap=False, maturity=5.0)

print("\n")
print("CAP (ATM) price:          $", f"{cap_atm:,.6f}")
print("FLOOR (ATM) price:        $", f"{floor_atm:,.6f}")
print("CAP  (+150bps) price:     $", f"{cap_otm:,.6f}")
print("FLOOR (-150bps) price:    $", f"{floor_otm:,.6f}")








values=pd.DataFrame(
    data=[bond_price,cap_atm,floor_atm,cap_otm,floor_otm],
    columns=['price'],
    index=['bond','cap ATM','floor ATM','cap OTM','floor OTM']
)


contracts = pd.DataFrame(data=[1,1,-1,-1,1],columns = ['contracts'],index=values.index)
contracts.style.format('{:.0f}',na_rep='')


portfolio=values.join(contracts)
portfolio['value']=portfolio['price']*portfolio['contracts']
print(portfolio)
print(portfolio['value'].sum())
portfolio_value_original = portfolio['value'].sum()








def rebuild_shocked_curves(base,shock=0.0001):
    c = base.copy()
    c['spot_shocked'] = c['spot rates']+shock
    c['discount_shocked'] = 0.0
    for t in c.index:
        r = c.loc[t,'spot_shocked']
        c.loc[t,'discount_shocked'] = 1.0/((1.0+r/4.0)**(4.0*t))
    c['forward_shocked'] = np.nan
    tenors = sorted(c.index)
    for i in range(1,len(tenors)):
        t0 = tenors[i-1]
        t1 = tenors[i]
        d0 = c.loc[t0,'discount_shocked']
        d1 = c.loc[t1,'discount_shocked']
        c.loc[t1,'forward_shocked'] = 4.0*(d0/d1 -1.0)
    return c

shocked_curves = rebuild_shocked_curves(curves, 0.0001)
shocked_curves





def price_bond_from_discounts_shocked(df, annual_coupon_rate=0.036, face_value=100.0):
    coupon_amount = annual_coupon_rate * face_value / 4.0
    payment_tenors = [0.25 * i for i in range(1, 21)]
    coupon_pv = 0.0
    for t in payment_tenors:
        coupon_pv += coupon_amount * df.loc[t, 'discount_shocked']
    principal_pv = face_value * df.loc[5.0, 'discount_shocked']
    return coupon_pv + principal_pv

def price_cap_or_floor_shocked(strike, isCap=True, notional=100.0, freq=4, maturity=5.0, data=None):
    total_value = 0.0
    dt = 1.0 / freq
    schedule = np.arange(dt, maturity + dt, dt)
    for T_end in schedule:
        T_start = T_end - dt
        if T_start <= 0:
            continue
        vol = data.loc[T_end, 'flat vols']
        fwd = data.loc[T_end, 'forward_shocked']
        df_ = data.loc[T_end, 'discount_shocked']
        piece_value = notional * dt * blacks_formula(
            T=T_start, vol=vol, strike=strike, fwd=fwd, discount=df_, isCall=isCap
        )
        total_value += piece_value
    return total_value

bond_price_shocked = price_bond_from_discounts_shocked(shocked_curves, 0.036, 100.0)
cap_atm_shocked = price_cap_or_floor_shocked(strike_atm, True, 100.0, 4, 5.0, shocked_curves)
floor_atm_shocked = price_cap_or_floor_shocked(strike_atm, False, 100.0, 4, 5.0, shocked_curves)
cap_otm_shocked = price_cap_or_floor_shocked(strike_plus_150, True, 100.0, 4, 5.0, shocked_curves)
floor_otm_shocked = price_cap_or_floor_shocked(strike_minus_150, False, 100.0, 4, 5.0, shocked_curves)

values_shocked = pd.DataFrame(
    [
        bond_price_shocked, 
        cap_atm_shocked, 
        floor_atm_shocked, 
        cap_otm_shocked, 
        floor_otm_shocked
    ],
    columns=['price_shocked'],
    index=['bond','cap ATM','floor ATM','cap OTM','floor OTM']
)
portfolio_shocked = values_shocked.join(contracts)
portfolio_shocked['value_shocked'] = portfolio_shocked['price_shocked'] * portfolio_shocked['contracts']
portfolio_value_shocked = portfolio_shocked['value_shocked'].sum()

def compute_duration(p0, p1, shock=0.0001):
    return -((p1 - p0) / p0) / shock

duration_results = {}
for item in portfolio.index:
    old_price = portfolio.loc[item, 'price']
    new_price = portfolio_shocked.loc[item, 'price_shocked']
    dur = compute_duration(old_price, new_price)
    duration_results[item] = dur

total_dur = compute_duration(portfolio_value_original, portfolio_value_shocked)

print("Prices (original):")
print(portfolio[['price','contracts','value']])
print("\nPrices (shocked):")
print(portfolio_shocked[['price_shocked','contracts','value_shocked']])
print("\nDuration (per component):")
for k,v in duration_results.items():
    print(k, v)
print("\nTotal Portfolio Duration:", total_dur)








import numpy as np
from scipy.optimize import brentq

def build_oas_curves(base, oas=0.0):
    c = base.copy()
    c['spot_oas'] = c['spot rates'] + oas
    c['discount_oas'] = 0.0
    for t in c.index:
        r = c.loc[t, 'spot_oas']
        c.loc[t, 'discount_oas'] = 1.0 / ((1.0 + r/4.0)**(4.0 * t))
    c['forward_oas'] = np.nan
    tenors = sorted(c.index)
    for i in range(1, len(tenors)):
        t0 = tenors[i-1]
        t1 = tenors[i]
        d0 = c.loc[t0, 'discount_oas']
        d1 = c.loc[t1, 'discount_oas']
        c.loc[t1, 'forward_oas'] = 4.0 * (d0 / d1 - 1.0)
    return c

def price_bond_from_discounts_oas(df, annual_coupon_rate=0.036, face_value=100.0):
    coupon_amount = annual_coupon_rate * face_value / 4.0
    coupon_pv = 0.0
    for t in [0.25 * i for i in range(1, 21)]:
        coupon_pv += coupon_amount * df.loc[t, 'discount_oas']
    principal_pv = face_value * df.loc[5.0, 'discount_oas']
    return coupon_pv + principal_pv

def price_cap_or_floor_oas(strike, isCap=True, notional=100.0, freq=4, maturity=5.0, data=None):
    total_value = 0.0
    dt = 1.0 / freq
    for T_end in np.arange(dt, maturity + dt, dt):
        T_start = T_end - dt
        if T_start <= 0:
            continue
        vol = data.loc[T_end, 'flat vols']
        fwd = data.loc[T_end, 'forward_oas']
        df_ = data.loc[T_end, 'discount_oas']
        sigT = vol * np.sqrt(T_start)
        if T_start <= 0 or vol <= 0 or fwd <= 0 or strike <= 0:
            piece_value = 0.0
        else:
            d1 = (np.log(fwd/strike) / sigT) + 0.5 * sigT
            d2 = d1 - sigT
            if isCap:
                piece_value = df_ * (fwd * 0.5*(1+np.sign(d1)) - strike * 0.5*(1+np.sign(d2)))
            else:
                piece_value = df_ * (strike * 0.5*(1-np.sign(d2)) - fwd * 0.5*(1-np.sign(d1)))
        total_value += notional * dt * piece_value
    return total_value

def price_portfolio_oas(oas):
    c = build_oas_curves(curves, oas)
    bond_val = price_bond_from_discounts_oas(c, 0.036, 100.0)
    capATM_val = price_cap_or_floor_oas(strike_atm, True, 100.0, 4, 5.0, c)
    floorATM_val = price_cap_or_floor_oas(strike_atm, False, 100.0, 4, 5.0, c)
    capOTM_val = price_cap_or_floor_oas(strike_plus_150, True, 100.0, 4, 5.0, c)
    floorOTM_val = price_cap_or_floor_oas(strike_minus_150, False, 100.0, 4, 5.0, c)
    val_bond = bond_val * 1
    val_capATM = capATM_val * 1
    val_floorATM = floorATM_val * (-1)
    val_capOTM = capOTM_val * (-1)
    val_floorOTM = floorOTM_val * 1
    return val_bond + val_capATM + val_floorATM + val_capOTM + val_floorOTM

oas_solution = brentq(lambda x: price_portfolio_oas(x) - 100.0, -0.10, 0.10)
print("OAS (decimal):", oas_solution)
print("Portfolio Value at OAS:", price_portfolio_oas(oas_solution))








sabr_parameters = pd.DataFrame(
    {'beta': 0.2500,
    'alpha': 0.0214,
    'nu': 0.6000,
    'rho': -0.2000
    },
    index=['parameter']).T

sabr_parameters.style.format('{:.4f}').set_caption('SABR (full)')





import numpy as np
from math import log, sqrt, exp

def sabr_implied_vol(f, k, t, alpha, beta, rho, nu):
    if f <= 0 or k <= 0 or alpha <= 0 or t <= 0:
        return 0.0
    if abs(f - k) < 1e-15:
        return alpha / (f ** (1.0 - beta))
    one_minus_beta = 1.0 - beta
    log_fk = log(f / k)
    fk_pow = (f ** one_minus_beta - k ** one_minus_beta)
    if abs(fk_pow) < 1e-15:
        fk_pow = one_minus_beta * f ** one_minus_beta * log_fk
    z = (nu / alpha) * fk_pow
    f_mid = (f * k) ** 0.5
    A = alpha / (f_mid ** one_minus_beta)
    log_fk_sq = log_fk * log_fk
    corr_factor = 1.0 + (one_minus_beta**2 / 24.0) * log_fk_sq + (one_minus_beta**4 / 1920.0) * (log_fk_sq**2)
    A = A / corr_factor
    B_term = ( (one_minus_beta**2 / 24.0) * (alpha**2 / (f_mid ** (2.0 * one_minus_beta))) 
               + 0.25 * (rho * beta * nu * alpha) / (f_mid ** one_minus_beta) 
               + ((2.0 - 3.0 * rho**2) * (nu**2) / 24.0) ) * t
    B = 1.0 + B_term
    xz_num = sqrt(1.0 - 2.0*rho*z + z*z) + z - rho
    xz_den = 1.0 - rho
    if xz_num <= 0 or abs(xz_den) < 1e-15:
        return A * B
    xz = log(xz_num / xz_den)
    if abs(z) < 1e-15:
        return A * B
    return A * (z / xz) * B

sabr_params = {
    'alpha': 0.0214,
    'beta': 0.25,
    'rho': -0.20,
    'nu': 0.60
}

fwd_5y = 0.0372
strike_plus_150 = fwd_5y + 0.0150
strike_minus_150 = fwd_5y - 0.0150
T = 5.0

cap_otm_vol = sabr_implied_vol(
    fwd_5y, strike_plus_150, T,
    sabr_params['alpha'], 
    sabr_params['beta'], 
    sabr_params['rho'], 
    sabr_params['nu']
)

floor_otm_vol = sabr_implied_vol(
    fwd_5y, strike_minus_150, T,
    sabr_params['alpha'], 
    sabr_params['beta'], 
    sabr_params['rho'], 
    sabr_params['nu']
)

print("OTM Cap Flat Vol (SABR):", cap_otm_vol)
print("OTM Floor Flat Vol (SABR):", floor_otm_vol)











# flat_vols_otm = pd.DataFrame([.50,.25],index=STRIKES_OFFSET[[0,2]],columns=['flat vols'])
# flat_vols_otm.index.name = 'OTM spread (bps)'
# flat_vols_otm.style.format('{:.1%}')


import numpy as np

def price_cap_or_floor_new_otm_vol(strike, isCap=True, notional=100.0, freq=4, maturity=5.0):
    total_value = 0.0
    dt = 1.0 / freq
    schedule = np.arange(dt, maturity + dt, dt)
    for T_end in schedule:
        T_start = T_end - dt
        if T_start <= 0:
            continue
        disc = curves.loc[T_end, 'discounts']
        fwd  = curves.loc[T_end, 'forwards']
        # Use 25% for +150 bps OTM cap, 50% for -150 bps OTM floor; otherwise original flat vol
        if abs(strike - (atm_5y + 0.015)) < 1e-14:
            vol = 0.25
        elif abs(strike - (atm_5y - 0.015)) < 1e-14:
            vol = 0.50
        else:
            vol = curves.loc[T_end, 'flat vols']
        total_value += notional * dt * blacks_formula(
            T = T_start,
            vol = vol,
            strike = strike,
            fwd = fwd,
            discount = disc,
            isCall = isCap
        )
    return total_value

cap_atm_new   = price_cap_or_floor_new_otm_vol(strike_atm, True, 100.0, 4, 5.0)
floor_atm_new = price_cap_or_floor_new_otm_vol(strike_atm, False, 100.0, 4, 5.0)
cap_otm_new   = price_cap_or_floor_new_otm_vol(strike_plus_150, True, 100.0, 4, 5.0)
floor_otm_new = price_cap_or_floor_new_otm_vol(strike_minus_150, False, 100.0, 4, 5.0)

vals_new = pd.DataFrame(
    [bond_price, cap_atm_new, floor_atm_new, cap_otm_new, floor_otm_new],
    columns=['price_new'],
    index=['bond','cap ATM','floor ATM','cap OTM','floor OTM']
)

portfolio_new = vals_new.join(contracts)
portfolio_new['value_new'] = portfolio_new['price_new'] * portfolio_new['contracts']
print(portfolio_new)
print("New portfolio total value:", portfolio_new['value_new'].sum())











import numpy as np
import matplotlib.pyplot as plt

def price_bond_from_discounts_shocked(df, annual_coupon_rate=0.036, face_value=100.0):
    coupon_amount = annual_coupon_rate * face_value / 4.0
    s = 0.0
    for t in [0.25 * i for i in range(1, 21)]:
        s += coupon_amount * df.loc[t, 'discount_shocked']
    s += face_value * df.loc[5.0, 'discount_shocked']
    return s

def price_cap_or_floor_new_otm_vol_shocked(strike, isCap=True, notional=100.0, freq=4, maturity=5.0, data=None):
    v = 0.0
    dt = 1.0 / freq
    for T_end in np.arange(dt, maturity + dt, dt):
        T_start = T_end - dt
        if T_start <= 0:
            continue
        disc = data.loc[T_end, 'discount_shocked']
        fwd  = data.loc[T_end, 'forward_shocked']
        if abs(strike - (atm_5y + 0.015)) < 1e-14:
            vol = 0.25
        elif abs(strike - (atm_5y - 0.015)) < 1e-14:
            vol = 0.50
        else:
            vol = curves.loc[T_end, 'flat vols']
        v_piece = notional * dt * blacks_formula(T_start, vol, strike, fwd, disc, isCap)
        v += v_piece
    return v

def rebuild_shocked_curves(base, shock=0.0):
    c = base.copy()
    c['spot_shocked'] = c['spot rates'] + shock
    c['discount_shocked'] = 0.0
    for t in c.index:
        r = c.loc[t,'spot_shocked']
        c.loc[t,'discount_shocked'] = 1.0/((1.0+r/4.0)**(4.0*t))
    c['forward_shocked'] = np.nan
    tenors = sorted(c.index)
    for i in range(1,len(tenors)):
        t0 = tenors[i-1]
        t1 = tenors[i]
        d0 = c.loc[t0,'discount_shocked']
        d1 = c.loc[t1,'discount_shocked']
        c.loc[t1,'forward_shocked'] = 4.0*(d0/d1 -1.0)
    return c

def price_portfolio_with_shock(shock):
    scurves = rebuild_shocked_curves(curves, shock)
    pb = price_bond_from_discounts_shocked(scurves, 0.036, 100.0)
    ca = price_cap_or_floor_new_otm_vol_shocked(strike_atm, True, 100.0, 4, 5.0, scurves)
    fa = price_cap_or_floor_new_otm_vol_shocked(strike_atm, False, 100.0, 4, 5.0, scurves)
    co = price_cap_or_floor_new_otm_vol_shocked(strike_plus_150, True, 100.0, 4, 5.0, scurves)
    fo = price_cap_or_floor_new_otm_vol_shocked(strike_minus_150, False, 100.0, 4, 5.0, scurves)
    return (pb * 1) + (ca * 1) + (fa * -1) + (co * -1) + (fo * 1)

shock_values = np.linspace(-0.02, 0.02, 21)
portfolio_values = [price_portfolio_with_shock(s) for s in shock_values]

plt.plot(shock_values, portfolio_values, marker='o')
plt.xlabel("Parallel Shift (decimal)")
plt.ylabel("Portfolio Value")
plt.title("Portfolio Value vs. Parallel Rate Shift")
plt.show()

print("The shape of the plot can reveal convexity or lack thereof. In theory, the presence of options can introduce some convexity.") 












sheet_tree = 'rate tree'

ratetree = pd.read_excel(FILEIN, sheet_name=sheet_tree).set_index('state')
ratetree.columns.name = 'time'

ratetree.style.format('{:.1%}',na_rep='').format_index('{:.2f}',axis=1)








def bond_cashflow_tree(states, cols, face, coupon_annual, maturity):
    cf = pd.DataFrame(0, index=states, columns=cols)
    c = face * (coupon_annual / 4)
    tm = np.array(cf.columns.tolist())
    if maturity not in tm:
        tm = np.append(tm, maturity)
    tm = np.sort(tm)
    cf = cf.reindex(columns=tm, fill_value=0)
    pt = np.arange(0.25, maturity + 0.001, 0.25)
    for p in pt:
        if p < maturity:
            cf[p] = c
        else:
            cf[p] = face + c
    return cf


face_value=100
coupon_rate=0.036
maturity=5
cf_tree=bond_cashflow_tree(
    states=ratetree.index,
    cols=ratetree.columns,
    face=face_value,
    coupon_annual=coupon_rate,
    maturity=maturity
)
cf_tree.style.format(na_rep='').format_index('{:.2f}',axis=1)








def accrued_interest(t, face, coupon_annual):
    lc = 0.25 * np.floor(t / 0.25)
    f = (t - lc) / 0.25
    return face * (coupon_annual / 4) * f

def bond_value_tree(ratetree, cf_tree, face, coupon_annual):
    tm = np.sort(cf_tree.columns)
    vd = pd.DataFrame(0, index=cf_tree.index, columns=tm)
    vd.loc[:, tm[-1]] = cf_tree.loc[:, tm[-1]]
    for i in range(len(tm) - 2, -1, -1):
        dt = tm[i+1] - tm[i]
        for s in vd.index:
            sd = s + 1 if s + 1 in vd.index else s
            ev = 0.5 * vd.loc[s, tm[i+1]] + 0.5 * vd.loc[sd, tm[i+1]]
            vd.loc[s, tm[i]] = cf_tree.loc[s, tm[i]] + np.exp(-ratetree.loc[s, tm[i]] * dt) * ev
    vc = vd.copy()
    for x in tm:
        vc[x] = vc[x] - accrued_interest(x, face, coupon_annual)
    return vd, vc


val_dirty,val_clean=bond_value_tree(ratetree,cf_tree,face_value,coupon_rate)
val_dirty.style.format(na_rep='').format_index('{:.2f}',axis=1)








def structured_note_cashflow_tree(ratetree, face, floor_rate, cap_rate, maturity):
    times = sorted(ratetree.columns)
    cf_tree = pd.DataFrame(0.0, index=ratetree.index, columns=times)

    for s in ratetree.index:
        for t in times:
            rate = ratetree.loc[s, t]
            if int(float(t)) + 0.25 <= maturity:
                floored  = max(rate, floor_rate)
                floored_cap = min(floored, cap_rate)
                raw_coupon = face * floored_cap * 0.25
                discounted_coupon = raw_coupon * np.exp(-rate * 0.25)
                cf_tree.loc[s, t] = discounted_coupon
            
            if np.isclose(int(float(t)), maturity):
                cf_tree.loc[s, t] += face

    return cf_tree


structured_note_cashflow_tree(ratetree, face=100, floor_rate=0.02, cap_rate=0.05, maturity=5).style.format(na_rep='')









