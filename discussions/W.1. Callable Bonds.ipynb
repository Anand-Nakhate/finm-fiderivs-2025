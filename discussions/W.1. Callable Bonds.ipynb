{
 "cells": [
  {
   "cell_type": "markdown",
   "metadata": {},
   "source": [
    "# Callable Bonds\n",
    "\n",
    "\n",
    "## FINM 37500: Fixed Income Derivatives\n",
    "\n",
    "### Mark Hendricks\n",
    "\n",
    "#### Winter 2025"
   ]
  },
  {
   "cell_type": "markdown",
   "metadata": {},
   "source": [
    "***"
   ]
  },
  {
   "cell_type": "markdown",
   "metadata": {},
   "source": [
    "# Pricing a Callable Bond"
   ]
  },
  {
   "cell_type": "markdown",
   "metadata": {},
   "source": [
    "- Biggest issuers of callable bonds - Corporations. (Banks)\n",
    "- Credit Risk - Yes, but we can also look at government agencies - credit risk (similar to treasuries)\n",
    "- Ex: Freddie Mac (US Institutions)\n",
    "- World Development Bank\n",
    "- EU/ Asian/ International Agencies - Sponsership of group of countries (Development Banks)"
   ]
  },
  {
   "cell_type": "markdown",
   "metadata": {},
   "source": [
    "##### Freddie Mac\n",
    "- Corporations that package Mortgages?\n",
    "- Another institution (Fannie Mae, Gennie Mae) - Federal Home Loan (Original Name)\n",
    "- These agencies were made to make the mortgage market liquid - low mortgages\n",
    "- Standard US Mortgage Terms - Fixed Rate 30Yrs ( Hard to find - IR Risk, Credit Risk) Can find in US because of these institutions are willing to buy these mortgages. Pachage these into bonds to fund this.\n",
    "- 2008 Crisis - These institutions were under a lot of stress. Treasury took them in. At this point, it is Officially owned by the treasury. (Conservator)\n",
    "- US Treasury is not the direct issuer.  They do get a credit rating.\n",
    "- Spread between US treasury and Freddie Mac Treasury ~ 20 bps (Very different from corporate bonds) - Liquidity could be a cause for the spread. \n",
    "- Freddie Mac Bonds - Huge notional of bond issuance. "
   ]
  },
  {
   "cell_type": "markdown",
   "metadata": {},
   "source": [
    "## Freddie Mac\n",
    "\n",
    "The U.S. has many forms of *agency* debt in addition to *Treasury* debt. The largest of these *agency* issuers are the housing entities commonly referred to as Freddie Mac and Fannie Mae. While technically distinct from the U.S. Treasury, they are widely seen as having the full credit and backing of the Treasury--particularly after the bailouts of 2008.\n",
    "\n",
    "Thus, we will examine this agency debt as (credit) risk-free, just like Treasury debt.\n",
    "* Freddie Mac typically trades about 20bps higher yield than treasuries. \n",
    "* Though this may reflect some credit risk, it may reflect mostly an illiquidity discount.\n",
    "\n",
    "\n",
    "Consider the Freddie Mac bonds in the table."
   ]
  },
  {
   "cell_type": "markdown",
   "metadata": {},
   "source": [
    "| BB Ticker | BBID    | CUSIP     | Quote | Issue | Maturity | Call | Days to Call | Issue Size | Cpn Freq | Cpn Rate | Clean Price | Dirty Price |\n",
    "|----------|---------|-----------|------------|------------|---------|---------|--------|------------|---------------|------|-------|-------------|\n",
    "| FHLMC 5.8 01/28/39 Corp    | COZF5837751 | 3134H1QQ9 | 2024-02-21 | 2024-01-28  | 2039-01-28 | 2024-07-28 | 158 | $$15 million | Semi-Annual | 5.80%       | $98.890 | 99.244|\n",
    "| FHLMC 6 02/21/34 Corp     | COZD1131782 | 3134H1TN3 | 2024-02-21 | 2024-02-21  | 2034-02-21 | 2024-08-21 | 182 | $15 million | Semi-Annual | 6.00%       | $100.000 | 100.000 |\n"
   ]
  },
  {
   "cell_type": "markdown",
   "metadata": {},
   "source": [
    "- FHLMC - Freddie Mac\n",
    "- 5.8 - Coupon\n"
   ]
  },
  {
   "cell_type": "markdown",
   "metadata": {},
   "source": [
    "### Callable Bond\n",
    "\n",
    "One important difference between Treasury debt and this bond is that this bond is **callable**\n",
    "* Note that the holder of the bond is short this call option; (the issuer has the optionality.) \n",
    "\n",
    "#### Style\n",
    "* Bermudan style. That is, exercised on a set of (quarterly) dates.\n",
    "* Here, we simplify to European style.\n",
    "* This simplification would be fairly accurate for callable bonds where the first Bermudan date is several years out. \n",
    "* And many callable bonds are European exercise, but they tend to be corporates (often banks) and we want to avoid dealing with credit risk in this course.\n",
    "\n",
    "#### Strike\n",
    "* Strike is 100.\n",
    "* The strike is based on the **clean** price of the bond, meaning the price which does not account for accrued interest.\n",
    "* For this bond, the call dates are coupon dates, so the clean and dirty prices are the same."
   ]
  },
  {
   "cell_type": "markdown",
   "metadata": {},
   "source": [
    "### Forward Bond Price\n",
    "\n",
    "For Black's formula, we need the **forward** bond price. \n",
    "\n",
    "This is straightforward to calculate, though it requires a few assumptions. \n",
    "\n",
    "$$P_{\\text{forward}}(T_\\text{option}\\to T) = \\frac{P(T) - \\sum_{i=1}^n Z(T_i)C_i}{100Z(T_\\text{option})}$$\n",
    "\n",
    "where $n$ denotes the number of cashflows (coupons) between $t$ and $T_{\\text{option}}$, and $C_i$ denote the size of those coupons."
   ]
  },
  {
   "cell_type": "markdown",
   "metadata": {},
   "source": [
    "### Implied Volatility\n",
    "\n",
    "What is the implied vol of the bond price?\n",
    "* Suppose you know that the implied vol of rates is `2.68%`.\n",
    "* We know that up to a linear approximation, the vol of rates will scale to the vol of bonds via the duration of the bond.\n",
    "\n",
    "Thus, we can approximate...\n",
    "\n",
    "$$\\sigma_{\\text{bond}} \\approx D \\times \\sigma_{\\text{rate}}\\times r$$"
   ]
  },
  {
   "cell_type": "markdown",
   "metadata": {},
   "source": [
    "***"
   ]
  },
  {
   "cell_type": "markdown",
   "metadata": {},
   "source": [
    "## Pricing\n",
    "\n",
    "#### Approach\n",
    "The approach is to decompose the Freddie Mac callable bond into...\n",
    "\n",
    "$$\\text{callable bond} = \\text{vanilla bond} - \\text{call option on vanilla bond}$$\n",
    "\n",
    "Price the vanilla bond\n",
    "* Use the basic bond pricing formula to price each of the two vanilla bonds.\n",
    "\n",
    "Price the embedded option\n",
    "* Use Black's formula to price this implicit call option and the resulting callable bond.\n",
    "\n",
    "Price the callable bond\n",
    "* Note that the price of the callable bond is the value of the vanilla bond minus this American option.\n",
    "\n",
    "How close is the modeled price to the market quoted price now that you are accounting for the short embedded call option? "
   ]
  },
  {
   "cell_type": "markdown",
   "metadata": {},
   "source": [
    "### Solving for Implied Volatility\n",
    "\n",
    "What is the market's implied value of the embedded option?\n",
    "\n",
    "Use this to solve for the implied price volatility and implied rate volatility."
   ]
  },
  {
   "cell_type": "markdown",
   "metadata": {},
   "source": [
    "### OAS\n",
    "\n",
    "The **option adjusted spread** is the spread one would need to add to the spot curve, (or the forward curve), to get the modeled price to match the market price of the derivative. \n",
    "\n",
    "That is, how many bps would you need to add or subtract to all the spot rates in order to perfectly price this callable bond? \n",
    "\n",
    "* Ignore the effect of the rate curve shift on implied volatilities.\n",
    "\n",
    "* Ignore the effect of the rate curve shift on cashflows.\n",
    "\n",
    "This **OAS** is a common way to quote whether a derivative seems to be undervalued (positive OAS) or overvalued (negative OAS.) Of course, the OAS is dependent on our modeling choices, so it could also indicate the model is bad."
   ]
  },
  {
   "cell_type": "markdown",
   "metadata": {},
   "source": []
  },
  {
   "cell_type": "markdown",
   "metadata": {},
   "source": [
    "***"
   ]
  },
  {
   "cell_type": "markdown",
   "metadata": {},
   "source": [
    "## Differences with Callable Bonds\n",
    "\n",
    "Note a few things\n",
    "* there is negative convexity in the callable bond\n",
    "* callable bond's price is lower at all rate levels\n",
    "* callable bond's value does not go above par for any rate level"
   ]
  },
  {
   "cell_type": "markdown",
   "metadata": {},
   "source": [
    "<img src=\"../refs/negative_convexity.png\" width=\"1000\">\n",
    "\n",
    ".\n",
    "\n",
    "<img src=\"../refs/callable_vs_vanilla.png\" width=\"1000\">"
   ]
  },
  {
   "cell_type": "markdown",
   "metadata": {},
   "source": [
    "***"
   ]
  },
  {
   "cell_type": "markdown",
   "metadata": {},
   "source": [
    "## Exercising the Option\n",
    "\n",
    "Re-value each bond at their respective call dates.\n",
    "\n",
    "Should Freddie Mac call either bond?"
   ]
  },
  {
   "cell_type": "markdown",
   "metadata": {},
   "source": [
    "### Black's Assumptions\n",
    "\n",
    "Which assumptions of Black's formula do we prefer to Black-Scholes for this problem?"
   ]
  },
  {
   "cell_type": "markdown",
   "metadata": {},
   "source": [
    "### Are Callable Bonds Overpriced?\n",
    "\n",
    "Our modeled price of the callable bond doesn't exactly match the market's quoted price.\n",
    "\n",
    "Our model could be poorly...\n",
    "* **calibrated** (settlement timing, discount rates, forward rates, implied vol)\n",
    "* **modeled** (market frictions, non-Brownian dynamics, etc.)\n",
    "\n",
    "But the market could be mispricing these bonds!\n",
    "* Callable bonds are seemingly overpriced in many situations.\n",
    "* Perhaps the issuer does not exercise (call) at optimal times.\n",
    "* Why might this overpricing be hard to arbitrage?\n",
    "* Francis Longstaff (1992) has a good discussion of mispriced callable Treasury bonds."
   ]
  },
  {
   "cell_type": "markdown",
   "metadata": {},
   "source": [
    "***"
   ]
  }
 ],
 "metadata": {
  "kernelspec": {
   "display_name": "Python 3 (ipykernel)",
   "language": "python",
   "name": "python3"
  },
  "language_info": {
   "codemirror_mode": {
    "name": "ipython",
    "version": 3
   },
   "file_extension": ".py",
   "mimetype": "text/x-python",
   "name": "python",
   "nbconvert_exporter": "python",
   "pygments_lexer": "ipython3",
   "version": "3.12.4"
  }
 },
 "nbformat": 4,
 "nbformat_minor": 4
}
