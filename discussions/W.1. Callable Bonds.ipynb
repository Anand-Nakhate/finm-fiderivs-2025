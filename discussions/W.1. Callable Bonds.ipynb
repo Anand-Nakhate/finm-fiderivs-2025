{
 "cells": [
  {
   "cell_type": "markdown",
   "metadata": {},
   "source": [
    "# Callable Bonds\n",
    "\n",
    "\n",
    "## FINM 37500: Fixed Income Derivatives\n",
    "\n",
    "### Mark Hendricks\n",
    "\n",
    "#### Winter 2025"
   ]
  },
  {
   "cell_type": "markdown",
   "metadata": {},
   "source": [
    "***"
   ]
  },
  {
   "cell_type": "markdown",
   "metadata": {},
   "source": [
    "# Pricing a Callable Bond"
   ]
  },
  {
   "cell_type": "markdown",
   "metadata": {},
   "source": [
    "- Biggest issuers of callable bonds - Corporations. (Banks)\n",
    "- Credit Risk - Yes, but we can also look at government agencies - credit risk (similar to treasuries)\n",
    "- Ex: Freddie Mac (US Institutions)\n",
    "- World Development Bank\n",
    "- EU/ Asian/ International Agencies - Sponsership of group of countries (Development Banks)"
   ]
  },
  {
   "cell_type": "markdown",
   "metadata": {},
   "source": [
    "##### Freddie Mac\n",
    "- Corporations that package Mortgages?\n",
    "- Another institution (Fannie Mae, Gennie Mae) - Federal Home Loan (Original Name)\n",
    "- These agencies were made to make the mortgage market liquid - low mortgages\n",
    "- Standard US Mortgage Terms - Fixed Rate 30Yrs ( Hard to find - IR Risk, Credit Risk) Can find in US because of these institutions are willing to buy these mortgages. Pachage these into bonds to fund this.\n",
    "- 2008 Crisis - These institutions were under a lot of stress. Treasury took them in. At this point, it is Officially owned by the treasury. (Conservator)\n",
    "- US Treasury is not the direct issuer.  They do get a credit rating.\n",
    "- Spread between US treasury and Freddie Mac Treasury ~ 20 bps (Very different from corporate bonds) - Liquidity could be a cause for the spread. \n",
    "- Freddie Mac Bonds - Huge notional of bond issuance. "
   ]
  },
  {
   "cell_type": "markdown",
   "metadata": {},
   "source": [
    "## Freddie Mac\n",
    "\n",
    "The U.S. has many forms of *agency* debt in addition to *Treasury* debt. The largest of these *agency* issuers are the housing entities commonly referred to as Freddie Mac and Fannie Mae. While technically distinct from the U.S. Treasury, they are widely seen as having the full credit and backing of the Treasury--particularly after the bailouts of 2008.\n",
    "\n",
    "Thus, we will examine this agency debt as (credit) risk-free, just like Treasury debt.\n",
    "* Freddie Mac typically trades about 20bps higher yield than treasuries. \n",
    "* Though this may reflect some credit risk, it may reflect mostly an illiquidity discount.\n",
    "\n",
    "\n",
    "Consider the Freddie Mac bonds in the table."
   ]
  },
  {
   "cell_type": "markdown",
   "metadata": {},
   "source": [
    "| BB Ticker | BBID    | CUSIP     | Quote | Issue | Maturity | Call | Days to Call | Issue Size | Cpn Freq | Cpn Rate | Clean Price | Dirty Price |\n",
    "|----------|---------|-----------|------------|------------|---------|---------|--------|------------|---------------|------|-------|-------------|\n",
    "| FHLMC 5.8 01/28/39 Corp    | COZF5837751 | 3134H1QQ9 | 2024-02-21 | 2024-01-28  | 2039-01-28 | 2024-07-28 | 158 | $$15 million | Semi-Annual | 5.80%       | $98.890 | 99.244|\n",
    "| FHLMC 6 02/21/34 Corp     | COZD1131782 | 3134H1TN3 | 2024-02-21 | 2024-02-21  | 2034-02-21 | 2024-08-21 | 182 | $15 million | Semi-Annual | 6.00%       | $100.000 | 100.000 |\n"
   ]
  },
  {
   "cell_type": "markdown",
   "metadata": {},
   "source": [
    "- FHLMC - Freddie Mac\n",
    "- 5.8 - Coupon\n"
   ]
  },
  {
   "cell_type": "markdown",
   "metadata": {},
   "source": [
    "### Callable Bond\n",
    "\n",
    "One important difference between Treasury debt and this bond is that this bond is **callable**\n",
    "* Note that the holder of the bond is short this call option; (the issuer has the optionality.) \n",
    "\n",
    "#### Style\n",
    "* Bermudan style. That is, exercised on a set of (quarterly) dates.\n",
    "* Here, we simplify to European style.\n",
    "* This simplification would be fairly accurate for callable bonds where the first Bermudan date is several years out. \n",
    "* And many callable bonds are European exercise, but they tend to be corporates (often banks) and we want to avoid dealing with credit risk in this course.\n",
    "\n",
    "#### Strike\n",
    "* Strike is 100.\n",
    "* The strike is based on the **clean** price of the bond, meaning the price which does not account for accrued interest.\n",
    "* For this bond, the call dates are coupon dates, so the clean and dirty prices are the same."
   ]
  },
  {
   "cell_type": "markdown",
   "metadata": {},
   "source": [
    "### Forward Bond Price\n",
    "\n",
    "For Black's formula, we need the **forward** bond price. \n",
    "\n",
    "This is straightforward to calculate, though it requires a few assumptions. \n",
    "\n",
    "$$P_{\\text{forward}}(T_\\text{option}\\to T) = \\frac{P(T) - \\sum_{i=1}^n Z(T_i)C_i}{100Z(T_\\text{option})}$$\n",
    "\n",
    "where $n$ denotes the number of cashflows (coupons) between $t$ and $T_{\\text{option}}$, and $C_i$ denote the size of those coupons."
   ]
  },
  {
   "cell_type": "markdown",
   "metadata": {},
   "source": [
    "### Implied Volatility\n",
    "\n",
    "What is the implied vol of the bond price?\n",
    "* Suppose you know that the implied vol of rates is `2.68%`.\n",
    "* We know that up to a linear approximation, the vol of rates will scale to the vol of bonds via the duration of the bond.\n",
    "\n",
    "Thus, we can approximate...\n",
    "\n",
    "$$\\sigma_{\\text{bond}} \\approx D \\times \\sigma_{\\text{rate}}\\times r$$"
   ]
  },
  {
   "cell_type": "markdown",
   "metadata": {},
   "source": [
    "***"
   ]
  },
  {
   "cell_type": "markdown",
   "metadata": {},
   "source": [
    "## Pricing\n",
    "\n",
    "#### Approach\n",
    "The approach is to decompose the Freddie Mac callable bond into...\n",
    "\n",
    "$$\\text{callable bond} = \\text{vanilla bond} - \\text{call option on vanilla bond}$$\n",
    "\n",
    "Price the vanilla bond\n",
    "* Use the basic bond pricing formula to price each of the two vanilla bonds.\n",
    "\n",
    "Price the embedded option\n",
    "* Use Black's formula to price this implicit call option and the resulting callable bond.\n",
    "\n",
    "Price the callable bond\n",
    "* Note that the price of the callable bond is the value of the vanilla bond minus this American option.\n",
    "\n",
    "How close is the modeled price to the market quoted price now that you are accounting for the short embedded call option? "
   ]
  },
  {
   "cell_type": "markdown",
   "metadata": {},
   "source": [
    "### Solving for Implied Volatility\n",
    "\n",
    "What is the market's implied value of the embedded option?\n",
    "\n",
    "Use this to solve for the implied price volatility and implied rate volatility."
   ]
  },
  {
   "cell_type": "markdown",
   "metadata": {},
   "source": [
    "### OAS\n",
    "\n",
    "The **option adjusted spread** is the spread one would need to add to the spot curve, (or the forward curve), to get the modeled price to match the market price of the derivative. \n",
    "\n",
    "That is, how many bps would you need to add or subtract to all the spot rates in order to perfectly price this callable bond? \n",
    "\n",
    "* Ignore the effect of the rate curve shift on implied volatilities.\n",
    "\n",
    "* Ignore the effect of the rate curve shift on cashflows.\n",
    "\n",
    "This **OAS** is a common way to quote whether a derivative seems to be undervalued (positive OAS) or overvalued (negative OAS.) Of course, the OAS is dependent on our modeling choices, so it could also indicate the model is bad."
   ]
  },
  {
   "cell_type": "markdown",
   "metadata": {},
   "source": []
  },
  {
   "cell_type": "markdown",
   "metadata": {},
   "source": [
    "***"
   ]
  },
  {
   "cell_type": "markdown",
   "metadata": {},
   "source": [
    "## Differences with Callable Bonds\n",
    "\n",
    "Note a few things\n",
    "* there is negative convexity in the callable bond\n",
    "* callable bond's price is lower at all rate levels\n",
    "* callable bond's value does not go above par for any rate level"
   ]
  },
  {
   "cell_type": "markdown",
   "metadata": {},
   "source": [
    "<img src=\"../refs/negative_convexity.png\" width=\"1000\">\n",
    "\n",
    ".\n",
    "\n",
    "<img src=\"../refs/callable_vs_vanilla.png\" width=\"1000\">"
   ]
  },
  {
   "cell_type": "markdown",
   "metadata": {},
   "source": [
    "***"
   ]
  },
  {
   "cell_type": "markdown",
   "metadata": {},
   "source": [
    "## Exercising the Option\n",
    "\n",
    "Re-value each bond at their respective call dates.\n",
    "\n",
    "Should Freddie Mac call either bond?"
   ]
  },
  {
   "cell_type": "markdown",
   "metadata": {},
   "source": [
    "### Black's Assumptions\n",
    "\n",
    "Which assumptions of Black's formula do we prefer to Black-Scholes for this problem?"
   ]
  },
  {
   "cell_type": "markdown",
   "metadata": {},
   "source": [
    "### Are Callable Bonds Overpriced?\n",
    "\n",
    "Our modeled price of the callable bond doesn't exactly match the market's quoted price.\n",
    "\n",
    "Our model could be poorly...\n",
    "* **calibrated** (settlement timing, discount rates, forward rates, implied vol)\n",
    "* **modeled** (market frictions, non-Brownian dynamics, etc.)\n",
    "\n",
    "But the market could be mispricing these bonds!\n",
    "* Callable bonds are seemingly overpriced in many situations.\n",
    "* Perhaps the issuer does not exercise (call) at optimal times.\n",
    "* Why might this overpricing be hard to arbitrage?\n",
    "* Francis Longstaff (1992) has a good discussion of mispriced callable Treasury bonds."
   ]
  },
  {
   "cell_type": "markdown",
   "metadata": {},
   "source": [
    "***"
   ]
  },
  {
   "cell_type": "markdown",
   "metadata": {},
   "source": [
    "# **<span style=\"color:red\">Solution 2</span>**"
   ]
  },
  {
   "cell_type": "markdown",
   "metadata": {},
   "source": [
    "### Parameters of the Bond"
   ]
  },
  {
   "cell_type": "code",
   "execution_count": 3,
   "metadata": {},
   "outputs": [],
   "source": [
    "import numpy as np\n",
    "import pandas as pd\n",
    "\n",
    "import sys\n",
    "sys.path.insert(0, '../cmds')\n",
    "from ficcvol import *\n",
    "#from binomial import *\n",
    "from ratecurves import *\n",
    "\n",
    "import datetime\n",
    "import warnings\n",
    "warnings.filterwarnings('ignore',category=FutureWarning)\n",
    "import matplotlib.pyplot as plt\n",
    "import seaborn as sns\n",
    "%matplotlib inline\n",
    "plt.rcParams['figure.figsize'] = (12,6)\n",
    "plt.rcParams['font.size'] = 15\n",
    "plt.rcParams['legend.fontsize'] = 13\n",
    "\n",
    "from matplotlib.ticker import (MultipleLocator,\n",
    "                               FormatStrFormatter,\n",
    "                               AutoMinorLocator)"
   ]
  },
  {
   "cell_type": "code",
   "execution_count": 4,
   "metadata": {},
   "outputs": [],
   "source": [
    "DATE = '2024-02-21'\n",
    "curves = pd.read_excel(f'../data/cap_curves_{DATE}.xlsx', sheet_name=f'rate curves {DATE}').set_index('tenor')"
   ]
  },
  {
   "cell_type": "code",
   "execution_count": 5,
   "metadata": {},
   "outputs": [
    {
     "data": {
      "text/html": [
       "<div>\n",
       "<style scoped>\n",
       "    .dataframe tbody tr th:only-of-type {\n",
       "        vertical-align: middle;\n",
       "    }\n",
       "\n",
       "    .dataframe tbody tr th {\n",
       "        vertical-align: top;\n",
       "    }\n",
       "\n",
       "    .dataframe thead th {\n",
       "        text-align: right;\n",
       "    }\n",
       "</style>\n",
       "<table border=\"1\" class=\"dataframe\">\n",
       "  <thead>\n",
       "    <tr style=\"text-align: right;\">\n",
       "      <th></th>\n",
       "      <th>swap rates</th>\n",
       "      <th>spot rates</th>\n",
       "      <th>discounts</th>\n",
       "      <th>forwards</th>\n",
       "      <th>flat vols</th>\n",
       "      <th>fwd vols</th>\n",
       "    </tr>\n",
       "    <tr>\n",
       "      <th>tenor</th>\n",
       "      <th></th>\n",
       "      <th></th>\n",
       "      <th></th>\n",
       "      <th></th>\n",
       "      <th></th>\n",
       "      <th></th>\n",
       "    </tr>\n",
       "  </thead>\n",
       "  <tbody>\n",
       "    <tr>\n",
       "      <th>0.25</th>\n",
       "      <td>0.052237</td>\n",
       "      <td>0.052237</td>\n",
       "      <td>0.987109</td>\n",
       "      <td>NaN</td>\n",
       "      <td>NaN</td>\n",
       "      <td>NaN</td>\n",
       "    </tr>\n",
       "    <tr>\n",
       "      <th>0.50</th>\n",
       "      <td>0.051662</td>\n",
       "      <td>0.051658</td>\n",
       "      <td>0.974663</td>\n",
       "      <td>0.051080</td>\n",
       "      <td>0.165977</td>\n",
       "      <td>0.165977</td>\n",
       "    </tr>\n",
       "    <tr>\n",
       "      <th>0.75</th>\n",
       "      <td>0.050705</td>\n",
       "      <td>0.050690</td>\n",
       "      <td>0.962926</td>\n",
       "      <td>0.048756</td>\n",
       "      <td>0.191234</td>\n",
       "      <td>0.210421</td>\n",
       "    </tr>\n",
       "    <tr>\n",
       "      <th>1.00</th>\n",
       "      <td>0.049585</td>\n",
       "      <td>0.049554</td>\n",
       "      <td>0.951944</td>\n",
       "      <td>0.046145</td>\n",
       "      <td>0.216491</td>\n",
       "      <td>0.253934</td>\n",
       "    </tr>\n",
       "    <tr>\n",
       "      <th>1.25</th>\n",
       "      <td>0.047977</td>\n",
       "      <td>0.047913</td>\n",
       "      <td>0.942202</td>\n",
       "      <td>0.041357</td>\n",
       "      <td>0.257488</td>\n",
       "      <td>0.352958</td>\n",
       "    </tr>\n",
       "    <tr>\n",
       "      <th>1.50</th>\n",
       "      <td>0.046607</td>\n",
       "      <td>0.046515</td>\n",
       "      <td>0.932981</td>\n",
       "      <td>0.039534</td>\n",
       "      <td>0.288170</td>\n",
       "      <td>0.371568</td>\n",
       "    </tr>\n",
       "    <tr>\n",
       "      <th>1.75</th>\n",
       "      <td>0.045506</td>\n",
       "      <td>0.045391</td>\n",
       "      <td>0.924052</td>\n",
       "      <td>0.038654</td>\n",
       "      <td>0.310071</td>\n",
       "      <td>0.378711</td>\n",
       "    </tr>\n",
       "    <tr>\n",
       "      <th>2.00</th>\n",
       "      <td>0.044605</td>\n",
       "      <td>0.044471</td>\n",
       "      <td>0.915348</td>\n",
       "      <td>0.038032</td>\n",
       "      <td>0.324724</td>\n",
       "      <td>0.376913</td>\n",
       "    </tr>\n",
       "    <tr>\n",
       "      <th>2.25</th>\n",
       "      <td>0.043634</td>\n",
       "      <td>0.043474</td>\n",
       "      <td>0.907295</td>\n",
       "      <td>0.035506</td>\n",
       "      <td>0.333665</td>\n",
       "      <td>0.366914</td>\n",
       "    </tr>\n",
       "    <tr>\n",
       "      <th>2.50</th>\n",
       "      <td>0.042954</td>\n",
       "      <td>0.042779</td>\n",
       "      <td>0.899083</td>\n",
       "      <td>0.036534</td>\n",
       "      <td>0.338425</td>\n",
       "      <td>0.355751</td>\n",
       "    </tr>\n",
       "    <tr>\n",
       "      <th>2.75</th>\n",
       "      <td>0.042438</td>\n",
       "      <td>0.042252</td>\n",
       "      <td>0.890846</td>\n",
       "      <td>0.036988</td>\n",
       "      <td>0.340540</td>\n",
       "      <td>0.346438</td>\n",
       "    </tr>\n",
       "    <tr>\n",
       "      <th>3.00</th>\n",
       "      <td>0.042041</td>\n",
       "      <td>0.041849</td>\n",
       "      <td>0.882589</td>\n",
       "      <td>0.037418</td>\n",
       "      <td>0.341542</td>\n",
       "      <td>0.342987</td>\n",
       "    </tr>\n",
       "    <tr>\n",
       "      <th>3.25</th>\n",
       "      <td>0.041607</td>\n",
       "      <td>0.041404</td>\n",
       "      <td>0.874702</td>\n",
       "      <td>0.036068</td>\n",
       "      <td>0.342628</td>\n",
       "      <td>0.345261</td>\n",
       "    </tr>\n",
       "    <tr>\n",
       "      <th>3.50</th>\n",
       "      <td>0.041204</td>\n",
       "      <td>0.040989</td>\n",
       "      <td>0.866987</td>\n",
       "      <td>0.035593</td>\n",
       "      <td>0.343639</td>\n",
       "      <td>0.347090</td>\n",
       "    </tr>\n",
       "    <tr>\n",
       "      <th>3.75</th>\n",
       "      <td>0.040924</td>\n",
       "      <td>0.040704</td>\n",
       "      <td>0.859101</td>\n",
       "      <td>0.036717</td>\n",
       "      <td>0.344079</td>\n",
       "      <td>0.344609</td>\n",
       "    </tr>\n",
       "    <tr>\n",
       "      <th>4.00</th>\n",
       "      <td>0.040696</td>\n",
       "      <td>0.040473</td>\n",
       "      <td>0.851226</td>\n",
       "      <td>0.037007</td>\n",
       "      <td>0.343451</td>\n",
       "      <td>0.334358</td>\n",
       "    </tr>\n",
       "    <tr>\n",
       "      <th>4.25</th>\n",
       "      <td>0.040439</td>\n",
       "      <td>0.040209</td>\n",
       "      <td>0.843634</td>\n",
       "      <td>0.035997</td>\n",
       "      <td>0.341462</td>\n",
       "      <td>0.316536</td>\n",
       "    </tr>\n",
       "    <tr>\n",
       "      <th>4.50</th>\n",
       "      <td>0.040201</td>\n",
       "      <td>0.039964</td>\n",
       "      <td>0.836152</td>\n",
       "      <td>0.035793</td>\n",
       "      <td>0.338627</td>\n",
       "      <td>0.302549</td>\n",
       "    </tr>\n",
       "    <tr>\n",
       "      <th>4.75</th>\n",
       "      <td>0.040037</td>\n",
       "      <td>0.039797</td>\n",
       "      <td>0.828529</td>\n",
       "      <td>0.036800</td>\n",
       "      <td>0.335663</td>\n",
       "      <td>0.297550</td>\n",
       "    </tr>\n",
       "    <tr>\n",
       "      <th>5.00</th>\n",
       "      <td>0.039918</td>\n",
       "      <td>0.039680</td>\n",
       "      <td>0.820845</td>\n",
       "      <td>0.037445</td>\n",
       "      <td>0.333286</td>\n",
       "      <td>0.301410</td>\n",
       "    </tr>\n",
       "    <tr>\n",
       "      <th>5.25</th>\n",
       "      <td>0.039807</td>\n",
       "      <td>0.039569</td>\n",
       "      <td>0.813252</td>\n",
       "      <td>0.037347</td>\n",
       "      <td>0.331991</td>\n",
       "      <td>0.313075</td>\n",
       "    </tr>\n",
       "    <tr>\n",
       "      <th>5.50</th>\n",
       "      <td>0.039698</td>\n",
       "      <td>0.039459</td>\n",
       "      <td>0.805766</td>\n",
       "      <td>0.037160</td>\n",
       "      <td>0.331374</td>\n",
       "      <td>0.321302</td>\n",
       "    </tr>\n",
       "    <tr>\n",
       "      <th>5.75</th>\n",
       "      <td>0.039595</td>\n",
       "      <td>0.039356</td>\n",
       "      <td>0.798365</td>\n",
       "      <td>0.037081</td>\n",
       "      <td>0.330809</td>\n",
       "      <td>0.321102</td>\n",
       "    </tr>\n",
       "    <tr>\n",
       "      <th>6.00</th>\n",
       "      <td>0.039503</td>\n",
       "      <td>0.039263</td>\n",
       "      <td>0.791023</td>\n",
       "      <td>0.037128</td>\n",
       "      <td>0.329669</td>\n",
       "      <td>0.310289</td>\n",
       "    </tr>\n",
       "    <tr>\n",
       "      <th>6.25</th>\n",
       "      <td>0.039424</td>\n",
       "      <td>0.039184</td>\n",
       "      <td>0.783717</td>\n",
       "      <td>0.037290</td>\n",
       "      <td>0.327509</td>\n",
       "      <td>0.290142</td>\n",
       "    </tr>\n",
       "    <tr>\n",
       "      <th>6.50</th>\n",
       "      <td>0.039357</td>\n",
       "      <td>0.039117</td>\n",
       "      <td>0.776446</td>\n",
       "      <td>0.037457</td>\n",
       "      <td>0.324611</td>\n",
       "      <td>0.272749</td>\n",
       "    </tr>\n",
       "    <tr>\n",
       "      <th>6.75</th>\n",
       "      <td>0.039299</td>\n",
       "      <td>0.039061</td>\n",
       "      <td>0.769217</td>\n",
       "      <td>0.037592</td>\n",
       "      <td>0.321438</td>\n",
       "      <td>0.262406</td>\n",
       "    </tr>\n",
       "    <tr>\n",
       "      <th>7.00</th>\n",
       "      <td>0.039248</td>\n",
       "      <td>0.039012</td>\n",
       "      <td>0.762038</td>\n",
       "      <td>0.037682</td>\n",
       "      <td>0.318454</td>\n",
       "      <td>0.260553</td>\n",
       "    </tr>\n",
       "    <tr>\n",
       "      <th>7.25</th>\n",
       "      <td>0.039202</td>\n",
       "      <td>0.038968</td>\n",
       "      <td>0.754917</td>\n",
       "      <td>0.037731</td>\n",
       "      <td>0.316004</td>\n",
       "      <td>0.266329</td>\n",
       "    </tr>\n",
       "    <tr>\n",
       "      <th>7.50</th>\n",
       "      <td>0.039161</td>\n",
       "      <td>0.038928</td>\n",
       "      <td>0.747852</td>\n",
       "      <td>0.037790</td>\n",
       "      <td>0.313967</td>\n",
       "      <td>0.270860</td>\n",
       "    </tr>\n",
       "    <tr>\n",
       "      <th>7.75</th>\n",
       "      <td>0.039125</td>\n",
       "      <td>0.038894</td>\n",
       "      <td>0.740837</td>\n",
       "      <td>0.037872</td>\n",
       "      <td>0.312103</td>\n",
       "      <td>0.271073</td>\n",
       "    </tr>\n",
       "    <tr>\n",
       "      <th>8.00</th>\n",
       "      <td>0.039094</td>\n",
       "      <td>0.038866</td>\n",
       "      <td>0.733869</td>\n",
       "      <td>0.037979</td>\n",
       "      <td>0.310171</td>\n",
       "      <td>0.266129</td>\n",
       "    </tr>\n",
       "    <tr>\n",
       "      <th>8.25</th>\n",
       "      <td>0.039069</td>\n",
       "      <td>0.038843</td>\n",
       "      <td>0.726944</td>\n",
       "      <td>0.038106</td>\n",
       "      <td>0.307991</td>\n",
       "      <td>0.256660</td>\n",
       "    </tr>\n",
       "    <tr>\n",
       "      <th>8.50</th>\n",
       "      <td>0.039048</td>\n",
       "      <td>0.038825</td>\n",
       "      <td>0.720063</td>\n",
       "      <td>0.038229</td>\n",
       "      <td>0.305623</td>\n",
       "      <td>0.247987</td>\n",
       "    </tr>\n",
       "    <tr>\n",
       "      <th>8.75</th>\n",
       "      <td>0.039030</td>\n",
       "      <td>0.038811</td>\n",
       "      <td>0.713226</td>\n",
       "      <td>0.038339</td>\n",
       "      <td>0.303182</td>\n",
       "      <td>0.241813</td>\n",
       "    </tr>\n",
       "    <tr>\n",
       "      <th>9.00</th>\n",
       "      <td>0.039016</td>\n",
       "      <td>0.038800</td>\n",
       "      <td>0.706439</td>\n",
       "      <td>0.038433</td>\n",
       "      <td>0.300785</td>\n",
       "      <td>0.238525</td>\n",
       "    </tr>\n",
       "    <tr>\n",
       "      <th>9.25</th>\n",
       "      <td>0.039005</td>\n",
       "      <td>0.038792</td>\n",
       "      <td>0.699703</td>\n",
       "      <td>0.038507</td>\n",
       "      <td>0.298552</td>\n",
       "      <td>0.238526</td>\n",
       "    </tr>\n",
       "    <tr>\n",
       "      <th>9.50</th>\n",
       "      <td>0.038995</td>\n",
       "      <td>0.038786</td>\n",
       "      <td>0.693023</td>\n",
       "      <td>0.038557</td>\n",
       "      <td>0.296597</td>\n",
       "      <td>0.242249</td>\n",
       "    </tr>\n",
       "    <tr>\n",
       "      <th>9.75</th>\n",
       "      <td>0.038986</td>\n",
       "      <td>0.038781</td>\n",
       "      <td>0.686403</td>\n",
       "      <td>0.038580</td>\n",
       "      <td>0.295040</td>\n",
       "      <td>0.250163</td>\n",
       "    </tr>\n",
       "    <tr>\n",
       "      <th>10.00</th>\n",
       "      <td>0.038978</td>\n",
       "      <td>0.038776</td>\n",
       "      <td>0.679847</td>\n",
       "      <td>0.038572</td>\n",
       "      <td>0.293997</td>\n",
       "      <td>0.262794</td>\n",
       "    </tr>\n",
       "  </tbody>\n",
       "</table>\n",
       "</div>"
      ],
      "text/plain": [
       "       swap rates  spot rates  discounts  forwards  flat vols  fwd vols\n",
       "tenor                                                                  \n",
       "0.25     0.052237    0.052237   0.987109       NaN        NaN       NaN\n",
       "0.50     0.051662    0.051658   0.974663  0.051080   0.165977  0.165977\n",
       "0.75     0.050705    0.050690   0.962926  0.048756   0.191234  0.210421\n",
       "1.00     0.049585    0.049554   0.951944  0.046145   0.216491  0.253934\n",
       "1.25     0.047977    0.047913   0.942202  0.041357   0.257488  0.352958\n",
       "1.50     0.046607    0.046515   0.932981  0.039534   0.288170  0.371568\n",
       "1.75     0.045506    0.045391   0.924052  0.038654   0.310071  0.378711\n",
       "2.00     0.044605    0.044471   0.915348  0.038032   0.324724  0.376913\n",
       "2.25     0.043634    0.043474   0.907295  0.035506   0.333665  0.366914\n",
       "2.50     0.042954    0.042779   0.899083  0.036534   0.338425  0.355751\n",
       "2.75     0.042438    0.042252   0.890846  0.036988   0.340540  0.346438\n",
       "3.00     0.042041    0.041849   0.882589  0.037418   0.341542  0.342987\n",
       "3.25     0.041607    0.041404   0.874702  0.036068   0.342628  0.345261\n",
       "3.50     0.041204    0.040989   0.866987  0.035593   0.343639  0.347090\n",
       "3.75     0.040924    0.040704   0.859101  0.036717   0.344079  0.344609\n",
       "4.00     0.040696    0.040473   0.851226  0.037007   0.343451  0.334358\n",
       "4.25     0.040439    0.040209   0.843634  0.035997   0.341462  0.316536\n",
       "4.50     0.040201    0.039964   0.836152  0.035793   0.338627  0.302549\n",
       "4.75     0.040037    0.039797   0.828529  0.036800   0.335663  0.297550\n",
       "5.00     0.039918    0.039680   0.820845  0.037445   0.333286  0.301410\n",
       "5.25     0.039807    0.039569   0.813252  0.037347   0.331991  0.313075\n",
       "5.50     0.039698    0.039459   0.805766  0.037160   0.331374  0.321302\n",
       "5.75     0.039595    0.039356   0.798365  0.037081   0.330809  0.321102\n",
       "6.00     0.039503    0.039263   0.791023  0.037128   0.329669  0.310289\n",
       "6.25     0.039424    0.039184   0.783717  0.037290   0.327509  0.290142\n",
       "6.50     0.039357    0.039117   0.776446  0.037457   0.324611  0.272749\n",
       "6.75     0.039299    0.039061   0.769217  0.037592   0.321438  0.262406\n",
       "7.00     0.039248    0.039012   0.762038  0.037682   0.318454  0.260553\n",
       "7.25     0.039202    0.038968   0.754917  0.037731   0.316004  0.266329\n",
       "7.50     0.039161    0.038928   0.747852  0.037790   0.313967  0.270860\n",
       "7.75     0.039125    0.038894   0.740837  0.037872   0.312103  0.271073\n",
       "8.00     0.039094    0.038866   0.733869  0.037979   0.310171  0.266129\n",
       "8.25     0.039069    0.038843   0.726944  0.038106   0.307991  0.256660\n",
       "8.50     0.039048    0.038825   0.720063  0.038229   0.305623  0.247987\n",
       "8.75     0.039030    0.038811   0.713226  0.038339   0.303182  0.241813\n",
       "9.00     0.039016    0.038800   0.706439  0.038433   0.300785  0.238525\n",
       "9.25     0.039005    0.038792   0.699703  0.038507   0.298552  0.238526\n",
       "9.50     0.038995    0.038786   0.693023  0.038557   0.296597  0.242249\n",
       "9.75     0.038986    0.038781   0.686403  0.038580   0.295040  0.250163\n",
       "10.00    0.038978    0.038776   0.679847  0.038572   0.293997  0.262794"
      ]
     },
     "execution_count": 5,
     "metadata": {},
     "output_type": "execute_result"
    }
   ],
   "source": [
    "curves"
   ]
  },
  {
   "cell_type": "code",
   "execution_count": 6,
   "metadata": {},
   "outputs": [],
   "source": [
    "CALC_FWD = True\n",
    "CALC_VOL = True\n",
    "\n",
    "T=10\n",
    "FACE=100\n",
    "cpn_freq = 2\n",
    "cpn = .06"
   ]
  },
  {
   "cell_type": "code",
   "execution_count": 7,
   "metadata": {},
   "outputs": [],
   "source": [
    "Topt = 0.5\n",
    "STRIKE = 100\n",
    "CLEANCALL = True"
   ]
  },
  {
   "cell_type": "code",
   "execution_count": 8,
   "metadata": {},
   "outputs": [
    {
     "data": {
      "text/html": [
       "<style type=\"text/css\">\n",
       "</style>\n",
       "<table id=\"T_d49d4\">\n",
       "  <thead>\n",
       "    <tr>\n",
       "      <th class=\"blank level0\" >&nbsp;</th>\n",
       "      <th id=\"T_d49d4_level0_col0\" class=\"col_heading level0 col0\" >clean price</th>\n",
       "    </tr>\n",
       "  </thead>\n",
       "  <tbody>\n",
       "    <tr>\n",
       "      <th id=\"T_d49d4_level0_row0\" class=\"row_heading level0 row0\" >spot rates</th>\n",
       "      <td id=\"T_d49d4_row0_col0\" class=\"data row0 col0\" >$117.03</td>\n",
       "    </tr>\n",
       "    <tr>\n",
       "      <th id=\"T_d49d4_level0_row1\" class=\"row_heading level0 row1\" >swap rate</th>\n",
       "      <td id=\"T_d49d4_row1_col0\" class=\"data row1 col0\" >$117.27</td>\n",
       "    </tr>\n",
       "  </tbody>\n",
       "</table>\n"
      ],
      "text/plain": [
       "<pandas.io.formats.style.Styler at 0x12377ea50>"
      ]
     },
     "execution_count": 8,
     "metadata": {},
     "output_type": "execute_result"
    }
   ],
   "source": [
    "from bondmath import bond_pricer_formula, bond_pricer_dcf\n",
    "\n",
    "px_vanilla_alt = bond_pricer_formula(T,curves.loc[T,'swap rates'],cpn=cpn,freq=cpn_freq)\n",
    "\n",
    "temp = curves[['discounts']].copy().iloc[1::2]\n",
    "temp.loc[T:,'cashflow'] = 0\n",
    "temp.loc[:T,'cashflow'] = FACE * cpn/cpn_freq\n",
    "temp.loc[T,'cashflow'] += FACE\n",
    "\n",
    "temp['pv cf'] = temp.prod(axis=1)\n",
    "px_vanilla = temp['pv cf'].sum()\n",
    "\n",
    "pd.DataFrame([px_vanilla, px_vanilla_alt],index=['spot rates', 'swap rate'],columns=['clean price']).style.format('${:.2f}')"
   ]
  },
  {
   "cell_type": "code",
   "execution_count": 9,
   "metadata": {},
   "outputs": [
    {
     "data": {
      "text/html": [
       "<style type=\"text/css\">\n",
       "</style>\n",
       "<table id=\"T_1464f\">\n",
       "  <thead>\n",
       "    <tr>\n",
       "      <th class=\"blank level0\" >&nbsp;</th>\n",
       "      <th id=\"T_1464f_level0_col0\" class=\"col_heading level0 col0\" >price</th>\n",
       "    </tr>\n",
       "  </thead>\n",
       "  <tbody>\n",
       "    <tr>\n",
       "      <th id=\"T_1464f_level0_row0\" class=\"row_heading level0 row0\" >maturity 10.0</th>\n",
       "      <td id=\"T_1464f_row0_col0\" class=\"data row0 col0\" >$117.03</td>\n",
       "    </tr>\n",
       "    <tr>\n",
       "      <th id=\"T_1464f_level0_row1\" class=\"row_heading level0 row1\" >maturity 0.5</th>\n",
       "      <td id=\"T_1464f_row1_col0\" class=\"data row1 col0\" >$100.41</td>\n",
       "    </tr>\n",
       "    <tr>\n",
       "      <th id=\"T_1464f_level0_row2\" class=\"row_heading level0 row2\" >forward from 0.5 to 10.0</th>\n",
       "      <td id=\"T_1464f_row2_col0\" class=\"data row2 col0\" >$116.56</td>\n",
       "    </tr>\n",
       "  </tbody>\n",
       "</table>\n"
      ],
      "text/plain": [
       "<pandas.io.formats.style.Styler at 0x12373dbd0>"
      ]
     },
     "execution_count": 9,
     "metadata": {},
     "output_type": "execute_result"
    }
   ],
   "source": [
    "px_vanilla_Topt = bond_pricer_formula(Topt,curves.loc[Topt,'spot rates'],cpn=cpn,freq=cpn_freq)\n",
    "if CALC_FWD:    \n",
    "    px_fwd = FACE * px_vanilla / px_vanilla_Topt\n",
    "else:\n",
    "    px_fwd = 103.31\n",
    "\n",
    "pd.DataFrame([px_vanilla,px_vanilla_Topt,px_fwd],index=[f'maturity {T:.1f}',f'maturity {Topt:.1f}',f'forward from {Topt:.1f} to {T:.1f}'],columns=['price']).style.format('${:.2f}')"
   ]
  },
  {
   "cell_type": "code",
   "execution_count": 10,
   "metadata": {},
   "outputs": [],
   "source": [
    "if CALC_VOL:\n",
    "    from bondmath import duration_closed_formula\n",
    "    \n",
    "    duration = duration_closed_formula(T,curves.loc[T,'spot rates'],cpn,freq=cpn_freq)\n",
    "    vol_bond = duration * curves.loc[Topt,'flat vols'] * curves.loc[T,'forwards']\n",
    "    \n",
    "    pd.DataFrame([curves.loc[Topt,'flat vols'], duration, vol_bond],index=['rate vol (flat)','bond duration','bond vol'],columns=['estimates']).style.format('{:.2%}')\n",
    "else:\n",
    "    vol_bond = .0268"
   ]
  },
  {
   "cell_type": "code",
   "execution_count": 11,
   "metadata": {},
   "outputs": [
    {
     "data": {
      "text/html": [
       "<style type=\"text/css\">\n",
       "</style>\n",
       "<table id=\"T_832cf\">\n",
       "  <thead>\n",
       "    <tr>\n",
       "      <th class=\"blank level0\" >&nbsp;</th>\n",
       "      <th id=\"T_832cf_level0_col0\" class=\"col_heading level0 col0\" >formulaic prices</th>\n",
       "    </tr>\n",
       "  </thead>\n",
       "  <tbody>\n",
       "    <tr>\n",
       "      <th id=\"T_832cf_level0_row0\" class=\"row_heading level0 row0\" >vanilla bond</th>\n",
       "      <td id=\"T_832cf_row0_col0\" class=\"data row0 col0\" >117.03</td>\n",
       "    </tr>\n",
       "    <tr>\n",
       "      <th id=\"T_832cf_level0_row1\" class=\"row_heading level0 row1\" >call option</th>\n",
       "      <td id=\"T_832cf_row1_col0\" class=\"data row1 col0\" >16.14</td>\n",
       "    </tr>\n",
       "    <tr>\n",
       "      <th id=\"T_832cf_level0_row2\" class=\"row_heading level0 row2\" >callable bond</th>\n",
       "      <td id=\"T_832cf_row2_col0\" class=\"data row2 col0\" >100.89</td>\n",
       "    </tr>\n",
       "  </tbody>\n",
       "</table>\n"
      ],
      "text/plain": [
       "<pandas.io.formats.style.Styler at 0x12373dd10>"
      ]
     },
     "execution_count": 11,
     "metadata": {},
     "output_type": "execute_result"
    }
   ],
   "source": [
    "px_calloption = blacks_formula(Topt,vol_bond,STRIKE,px_fwd,discount=curves.loc[Topt,'discounts'])\n",
    "px_callable_bond = px_vanilla - px_calloption\n",
    "\n",
    "tab = pd.DataFrame([px_vanilla,px_calloption,px_callable_bond],index=['vanilla bond','call option','callable bond'],columns=['formulaic prices'])\n",
    "tab.style.format('{:.2f}')"
   ]
  },
  {
   "cell_type": "markdown",
   "metadata": {},
   "source": [
    "***"
   ]
  },
  {
   "cell_type": "code",
   "execution_count": 12,
   "metadata": {},
   "outputs": [],
   "source": [
    "T=9.5\n",
    "Topt = 0.5"
   ]
  },
  {
   "cell_type": "code",
   "execution_count": 13,
   "metadata": {},
   "outputs": [],
   "source": [
    "DATE = '2024-08-21'\n",
    "curves = pd.read_excel(f'../data/cap_curves_{DATE}.xlsx', sheet_name=f'rate curves {DATE}').set_index('tenor')"
   ]
  },
  {
   "cell_type": "code",
   "execution_count": 14,
   "metadata": {},
   "outputs": [
    {
     "data": {
      "text/html": [
       "<style type=\"text/css\">\n",
       "</style>\n",
       "<table id=\"T_d1e5a\">\n",
       "  <thead>\n",
       "    <tr>\n",
       "      <th class=\"blank level0\" >&nbsp;</th>\n",
       "      <th id=\"T_d1e5a_level0_col0\" class=\"col_heading level0 col0\" >clean price</th>\n",
       "    </tr>\n",
       "  </thead>\n",
       "  <tbody>\n",
       "    <tr>\n",
       "      <th id=\"T_d1e5a_level0_row0\" class=\"row_heading level0 row0\" >spot rates</th>\n",
       "      <td id=\"T_d1e5a_row0_col0\" class=\"data row0 col0\" >$121.53</td>\n",
       "    </tr>\n",
       "    <tr>\n",
       "      <th id=\"T_d1e5a_level0_row1\" class=\"row_heading level0 row1\" >swap rate</th>\n",
       "      <td id=\"T_d1e5a_row1_col0\" class=\"data row1 col0\" >$121.69</td>\n",
       "    </tr>\n",
       "  </tbody>\n",
       "</table>\n"
      ],
      "text/plain": [
       "<pandas.io.formats.style.Styler at 0x12373df90>"
      ]
     },
     "execution_count": 14,
     "metadata": {},
     "output_type": "execute_result"
    }
   ],
   "source": [
    "#from bondmath import bond_pricer_formula, bond_pricer_dcf\n",
    "\n",
    "px_vanilla_alt = bond_pricer_formula(T,curves.loc[T,'swap rates'],cpn=cpn,freq=cpn_freq)\n",
    "\n",
    "temp = curves[['discounts']].copy().iloc[1::2]\n",
    "temp.loc[T:,'cashflow'] = 0\n",
    "temp.loc[:T,'cashflow'] = FACE * cpn/cpn_freq\n",
    "temp.loc[T,'cashflow'] += FACE\n",
    "\n",
    "temp['pv cf'] = temp.prod(axis=1)\n",
    "px_vanilla = temp['pv cf'].sum()\n",
    "\n",
    "pd.DataFrame([px_vanilla, px_vanilla_alt],index=['spot rates', 'swap rate'],columns=['clean price']).style.format('${:.2f}')"
   ]
  },
  {
   "cell_type": "code",
   "execution_count": 15,
   "metadata": {},
   "outputs": [
    {
     "data": {
      "text/html": [
       "<style type=\"text/css\">\n",
       "</style>\n",
       "<table id=\"T_8d53e\">\n",
       "  <thead>\n",
       "    <tr>\n",
       "      <th class=\"blank level0\" >&nbsp;</th>\n",
       "      <th id=\"T_8d53e_level0_col0\" class=\"col_heading level0 col0\" >price</th>\n",
       "    </tr>\n",
       "  </thead>\n",
       "  <tbody>\n",
       "    <tr>\n",
       "      <th id=\"T_8d53e_level0_row0\" class=\"row_heading level0 row0\" >maturity 9.5</th>\n",
       "      <td id=\"T_8d53e_row0_col0\" class=\"data row0 col0\" >$121.53</td>\n",
       "    </tr>\n",
       "    <tr>\n",
       "      <th id=\"T_8d53e_level0_row1\" class=\"row_heading level0 row1\" >maturity 0.5</th>\n",
       "      <td id=\"T_8d53e_row1_col0\" class=\"data row1 col0\" >$100.65</td>\n",
       "    </tr>\n",
       "    <tr>\n",
       "      <th id=\"T_8d53e_level0_row2\" class=\"row_heading level0 row2\" >forward from 0.5 to 9.5</th>\n",
       "      <td id=\"T_8d53e_row2_col0\" class=\"data row2 col0\" >$120.74</td>\n",
       "    </tr>\n",
       "  </tbody>\n",
       "</table>\n"
      ],
      "text/plain": [
       "<pandas.io.formats.style.Styler at 0x12373e0d0>"
      ]
     },
     "execution_count": 15,
     "metadata": {},
     "output_type": "execute_result"
    }
   ],
   "source": [
    "px_vanilla_Topt = bond_pricer_formula(Topt,curves.loc[Topt,'spot rates'],cpn=cpn,freq=cpn_freq)\n",
    "if CALC_FWD:    \n",
    "    px_fwd = FACE * px_vanilla / px_vanilla_Topt\n",
    "else:\n",
    "    px_fwd = 103.31\n",
    "\n",
    "pd.DataFrame([px_vanilla,px_vanilla_Topt,px_fwd],index=[f'maturity {T:.1f}',f'maturity {Topt:.1f}',f'forward from {Topt:.1f} to {T:.1f}'],columns=['price']).style.format('${:.2f}')"
   ]
  },
  {
   "cell_type": "code",
   "execution_count": 16,
   "metadata": {},
   "outputs": [],
   "source": [
    "if CALC_VOL:\n",
    "    from bondmath import duration_closed_formula\n",
    "    \n",
    "    duration = duration_closed_formula(T,curves.loc[T,'spot rates'],cpn,freq=cpn_freq)\n",
    "    vol_bond = duration * curves.loc[Topt,'flat vols'] * curves.loc[T,'forwards']\n",
    "    \n",
    "    pd.DataFrame([curves.loc[Topt,'flat vols'], duration, vol_bond],index=['rate vol (flat)','bond duration','bond vol'],columns=['estimates']).style.format('{:.2%}')\n",
    "else:\n",
    "    vol_bond = .0268"
   ]
  },
  {
   "cell_type": "code",
   "execution_count": 17,
   "metadata": {},
   "outputs": [
    {
     "data": {
      "text/html": [
       "<style type=\"text/css\">\n",
       "</style>\n",
       "<table id=\"T_375f8\">\n",
       "  <thead>\n",
       "    <tr>\n",
       "      <th class=\"blank level0\" >&nbsp;</th>\n",
       "      <th id=\"T_375f8_level0_col0\" class=\"col_heading level0 col0\" >formulaic prices</th>\n",
       "    </tr>\n",
       "  </thead>\n",
       "  <tbody>\n",
       "    <tr>\n",
       "      <th id=\"T_375f8_level0_row0\" class=\"row_heading level0 row0\" >vanilla bond</th>\n",
       "      <td id=\"T_375f8_row0_col0\" class=\"data row0 col0\" >121.53</td>\n",
       "    </tr>\n",
       "    <tr>\n",
       "      <th id=\"T_375f8_level0_row1\" class=\"row_heading level0 row1\" >call option</th>\n",
       "      <td id=\"T_375f8_row1_col0\" class=\"data row1 col0\" >20.26</td>\n",
       "    </tr>\n",
       "    <tr>\n",
       "      <th id=\"T_375f8_level0_row2\" class=\"row_heading level0 row2\" >callable bond</th>\n",
       "      <td id=\"T_375f8_row2_col0\" class=\"data row2 col0\" >101.26</td>\n",
       "    </tr>\n",
       "  </tbody>\n",
       "</table>\n"
      ],
      "text/plain": [
       "<pandas.io.formats.style.Styler at 0x12373e210>"
      ]
     },
     "execution_count": 17,
     "metadata": {},
     "output_type": "execute_result"
    }
   ],
   "source": [
    "px_calloption = blacks_formula(Topt,vol_bond,STRIKE,px_fwd,discount=curves.loc[Topt,'discounts'])\n",
    "px_callable_bond = px_vanilla - px_calloption\n",
    "\n",
    "tab = pd.DataFrame([px_vanilla,px_calloption,px_callable_bond],index=['vanilla bond','call option','callable bond'],columns=['formulaic prices'])\n",
    "tab.style.format('{:.2f}')"
   ]
  },
  {
   "cell_type": "markdown",
   "metadata": {},
   "source": [
    "***"
   ]
  }
 ],
 "metadata": {
  "kernelspec": {
   "display_name": "Python 3 (ipykernel)",
   "language": "python",
   "name": "python3"
  },
  "language_info": {
   "codemirror_mode": {
    "name": "ipython",
    "version": 3
   },
   "file_extension": ".py",
   "mimetype": "text/x-python",
   "name": "python",
   "nbconvert_exporter": "python",
   "pygments_lexer": "ipython3",
   "version": "3.12.4"
  }
 },
 "nbformat": 4,
 "nbformat_minor": 4
}
