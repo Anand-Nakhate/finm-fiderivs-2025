{
 "cells": [
  {
   "cell_type": "markdown",
   "id": "2aac43d2",
   "metadata": {},
   "source": [
    "# Caps and Forward Volatility\n",
    "\n",
    "\n",
    "## FINM 37500: Fixed Income Derivatives\n",
    "\n",
    "### Mark Hendricks\n",
    "\n",
    "#### Winter 2025"
   ]
  },
  {
   "cell_type": "markdown",
   "id": "cfa0e51c",
   "metadata": {},
   "source": [
    "LaTeX notation\n",
    "$$\\newcommand{\\floorlet}{c}$$\n",
    "$$\\newcommand{\\dt}{dt}$$\n",
    "$$\\newcommand{\\flatvol}{\\overline{\\sigma}}$$\n",
    "$$\\newcommand{\\flatvolT}{\\overline{\\sigma_{T}}}$$\n",
    "$$\\newcommand{\\fwdvol}{\\overrightarrow{\\sigma}}$$\n",
    "$$\\newcommand{\\fwdvolTi}{\\overrightarrow{\\sigma_{T_i}}}$$\n",
    "\n",
    "\n",
    "$$\\newcommand{\\Efwd}{\\tilde{E}}$$\n",
    "$\\newcommand{\\strike}{K}$\n",
    "\n",
    "$\\newcommand{\\nargcond}{d_{1}}$\n",
    "$\\newcommand{\\nargexer}{d_{2}}$\n",
    "\n",
    "$\\newcommand{\\EcondS}{\\hat{S}_{\\text{conditional}}}$\n",
    "$\\newcommand{\\probexer}{\\hat{\\mathcal{P}}_{\\text{exercise}}}$\n",
    "\n",
    "$\\newcommand{\\Black}{\\mathcal{B}}$\n",
    "$\\newcommand{\\Blackcall}{\\Black_{\\text{call}}}$\n",
    "$\\newcommand{\\Blackput}{\\Black_{\\text{put}}}$"
   ]
  },
  {
   "cell_type": "markdown",
   "id": "80f48950",
   "metadata": {},
   "source": [
    "***"
   ]
  },
  {
   "cell_type": "markdown",
   "id": "10b14bc7-e1e4-4408-a771-b9808c176614",
   "metadata": {},
   "source": [
    "# Caps and Floors"
   ]
  },
  {
   "cell_type": "markdown",
   "id": "53c5b8d3-4e3f-4281-84d1-1daeeeed6079",
   "metadata": {},
   "source": [
    "### Caplets and Floorlets\n",
    "\n",
    "A **caplet** is a derivative with the following payoff:\n",
    "$$\\text{caplet payoff}_{T} = \\frac{100}{n}\\max(r_{T-1/n}-K,0)$$\n",
    "* $K$ is the strike, which is an interest rate.\n",
    "* $r$ is the $n$-times compounded interest rate.\n",
    "* notional is 100, without loss of generality.\n",
    "\n",
    "A **floorlet** is a derivative with the following payoff:\n",
    "$$\\text{floorlet payoff}_{T} = \\frac{100}{n}\\max(K-r_{T-1/n},0)$$\n",
    "\n",
    "One could think of the caplet as a *call* option on an interest rate and the floorlet as a *put*.\n",
    "* Like a vanilla call option in equities, a caplet is a benchmark derivative for fixed income.\n",
    "\n",
    "Note that the floating rate, $r$ is...\n",
    "* compounded at frequency $n$\n",
    "* in arrears"
   ]
  },
  {
   "cell_type": "markdown",
   "id": "be65dc80-a896-43d6-834e-5e113c3e38f0",
   "metadata": {},
   "source": [
    "## Caps and Floors\n",
    "\n",
    "The largest OTC rate derivatives are caps, floors, and swaptions.\n",
    "\n",
    "A **cap** is a portfolio of caplets\n",
    "* each with the same strike, $K$\n",
    "* at a sequence of caplet maturities\n",
    "\n",
    "Similarly for a **floor**.\n",
    "\n",
    "Markets trade and price these *portfolios* such that we must consider them in a bit more detail."
   ]
  },
  {
   "cell_type": "markdown",
   "id": "b43751df-a8cc-4cfb-93fd-b68d563fe99b",
   "metadata": {},
   "source": [
    "### Cap Timing\n",
    "\n",
    "Two important implications:\n",
    "\n",
    "1. The first caplet is missing from the cap! A semiannually-paying cap with expiration at $T=3$ will not include a caplet expiring at $T=.5$. The first caplet will expire at $T=1$.\n",
    "\n",
    "2. When pricing the cap, one must be careful to discount the final payoff by the risk-free rate.\n",
    "\n",
    "And similarly for floors."
   ]
  },
  {
   "cell_type": "markdown",
   "id": "7dda38ea-6183-4098-a73c-de0ba8dad7df",
   "metadata": {},
   "source": [
    "## Using Black's Formula\n",
    "\n",
    "$$\\begin{align}\n",
    "B_{\\text{call}}(\\sigma, T, K, F, Z) = &\\; Z\\left[F\\mathcal{N}\\left(d_1\\right) - K\\mathcal{N}(d_2)\\right] \\\\\n",
    "d_1 =& \\frac{\\ln\\left(\\frac{f}{K}\\right) + \\frac{\\sigma^2}{2}T}{\\sigma\\sqrt{T}} \\\\\n",
    "d_2 =& d_1 -\\sigma\\sqrt{T}\n",
    "\\end{align}\n",
    "$$\n",
    "\n",
    "#### Parameterization\n",
    "For pricing a cap or floor, note the following:\n",
    "* the formula above is using (w.l.o.g.) $t=0$.\n",
    "* typically is made up of **quarterly** caplets.\n",
    "* uses a single implied volatility, the **flat volatility** at $T$ for every caplet corresponding to the cap of $T$.\n",
    "* in Black's formula, uses $T-0.25$ as the rate for the caplet is determined one period before it is paid.\n",
    "\n",
    "As for the cap parameters,\n",
    "* the cap's ATM strike is the swap rate with the same tenor. So the $T=2$ cap is struck at the swap rate of $\\tau=2$.\n",
    "\n",
    "Thus, the corresponding value in Black's fomula for a caplet is\n",
    "$$P^{\\text{cap}}_{T} = \\frac{100}{4} \\sum_{\\tau=.5}^T B_{\\text{call}}(\\overline{\\sigma}_T, \\tau-.25, K=s_T, F=f_{\\tau}, \\text{disc}=Z_{\\tau})$$\n",
    "Note here that for every caplet in cap $T$, we plug in the same \n",
    "* flat vol with tenor $T$.\n",
    "* strike which is the swap rate of maturity $T$.\n",
    "\n",
    "#### Notation\n",
    "The notation above is using subscripts for tenor / maturity rather than time period. That is, \n",
    "* $Z_{\\tau}$ denotes $Z(t, t+\\tau)$ which is today's discount factor for maturity $\\tau$.\n",
    "* Similarly for the swap rate of tenor $T$, denoted above $s_T$ and forward rate $f(t,t+\\tau-.25, t+\\tau)$ denoted simply $f_{\\tau}$.\n"
   ]
  },
  {
   "cell_type": "markdown",
   "id": "5e5df59a-590d-4f32-ac0c-e7fea975ea87",
   "metadata": {},
   "source": [
    "***"
   ]
  },
  {
   "cell_type": "markdown",
   "id": "738b21f2-dc32-48ac-a7e8-7381dafe1972",
   "metadata": {},
   "source": [
    "# Flat vs Forward Volatility"
   ]
  },
  {
   "cell_type": "markdown",
   "id": "aaee1ef9",
   "metadata": {},
   "source": [
    "## Flat Volatility\n",
    "\n",
    "The **flat** volatility is the **implied** volatility that matches the market price of a given **cap** or **floor**.\n",
    "\n",
    "### A single implied vol for the bundle!\n",
    "\n",
    "Note that a cap (floor) is a portfolio of various options.\n",
    "\n",
    "Yet the **flat** volatility is quoting a single implied volatility to price each caplet (floorlet), even though it contains options at different maturities.\n",
    "\n",
    "$$p_{\\text{cap}}(T) = \\sum_{i=1}^n p_{\\text{caplet}}(T_i,\\flatvolT)$$\n",
    "\n",
    "In this sense, the **flat** volatility is a quoting convention.\n",
    "* It quotes the price of the bundle of caplets (floorlets) for a given maturity.\n",
    "* It is inconsistent: it prices the caplets (floorlets) based on which bundle they are in instead of which maturity they have.\n",
    "* The $T=.5$ and $T=1$ cap both have a caplet at $T=.5$, yet the **flat** volatility assigns them different vols, due to being in different bundles (caps)."
   ]
  },
  {
   "cell_type": "markdown",
   "id": "a7d7e17e",
   "metadata": {},
   "source": [
    "### Sound Familiar?\n",
    "\n",
    "This is **exactly** the issue with **yield-to-maturity**!\n",
    "* YTM is a useful way to quote bond prices to account for differing maturities / coupouns.\n",
    "* Flat vol is a useful way to quote cap/floor prices to account for differing expirations / strikes."
   ]
  },
  {
   "cell_type": "markdown",
   "id": "3675cc0d",
   "metadata": {},
   "source": [
    "## Forward Volatility\n",
    "\n",
    "For pricing, we need an implied volatility that is applicable to every **caplet** (floorlet) of a given maturity, $T_i$.\n",
    "\n",
    "Then, pricing a **cap**, which is a bundle of **caplets** would be done with...\n",
    "\n",
    "$$p_{\\text{cap}}(T) = \\sum_{i=1}^n p_{\\text{caplet}}(T_i,\\fwdvolTi)$$"
   ]
  },
  {
   "cell_type": "markdown",
   "id": "5e0e9ec2",
   "metadata": {},
   "source": [
    "### Pricing\n",
    "\n",
    "Neither YTM nor flat volatility is appropriate to use for discounted cashflow pricing!\n",
    "\n",
    "Forward volatilities are appropriate--exactly as the **discount (spot) rate** is for bonds.\n",
    "\n",
    "I'll bet you can guess what we need to do...\n",
    "\n",
    "### Extracting Forward Volatilites from Flat Volatilities\n",
    "\n",
    "We can **bootstrap** the forward volatilities.\n",
    "\n",
    "1. Get a set of caps with expirations on a grid of dates, $T_i$, starting with $i=1$. Make sure there is a cap expiring on each $T_i$.\n",
    "2. Uncover $\\fwdvol$ for $i=1$ by noting it equals the flat vol.\n",
    "3. For $i=2$, use the $\\fwdvol$ for $i=1$ and $\\flatvol$ for $i=1$ to uncover $\\fwdvol$ for $i=2$.\n",
    "\n",
    "This is also referred to as *stripping* the forward volatilities."
   ]
  },
  {
   "cell_type": "markdown",
   "id": "124b1c8f",
   "metadata": {},
   "source": [
    "## Volatility of the Forward Measure\n",
    "\n",
    "Consider using Black's model and forward-measure pricing to...\n",
    "* extract the forward measure (similar to the risk neutral measure) from caps\n",
    "* apply the measure to swaptions\n",
    "\n",
    "We can extract what we need from caps with the...\n",
    "* quoted cap prices \n",
    "* forward rates\n",
    "* discount factors\n",
    "\n",
    "With the **forward volatilities**...\n",
    "* convert them to forward-measure volatility\n",
    "* price interest-rate derivatives using this forward measure in...\n",
    "    - Black's model\n",
    "    - extensions or relatives of Black's model\n",
    "    - monte carlo simulation"
   ]
  },
  {
   "cell_type": "markdown",
   "id": "84a411a7-e750-4275-9e97-9367d909e388",
   "metadata": {},
   "source": [
    "***"
   ]
  },
  {
   "cell_type": "markdown",
   "id": "91e5d1a3",
   "metadata": {},
   "source": [
    "# Estimating Forward Volatilities"
   ]
  },
  {
   "cell_type": "markdown",
   "id": "c43d40ac",
   "metadata": {},
   "source": [
    "### Black's Formula\n",
    "\n",
    "In practice, there is a more common approach to parameterizing the tree than the two-variable optimization above of simultaneously solving $\\theta_i$ and $\\sigma_i$ at each step.\n",
    "\n",
    "Recall the continuous-time **Black's Formula**.\n",
    "\n",
    "Any derivative of a forward is a martingale:\n",
    "$$f(F,t) = Z(t,T)\\Efwd\\left[f(F,T)\\right]$$\n",
    "where \n",
    "* $F$ denotes the forward of an arbitrary asset.\n",
    "* and $\\Efwd$ denotes the expectation under the **forward measure**\n",
    "\n",
    "$$\\begin{align}\n",
    "\\Blackcall(t)\\; =&\\; Z(t,T)\\left[F_t\\mathcal{N}(\\nargcond) - \\strike \\mathcal{N}\\left(\\nargexer\\right)\\right]\\\\\n",
    "\\Blackput(t)\\; =&\\; Z(t,T)\\left[\\strike\\mathcal{N}(-\\nargexer) - F_t \\mathcal{N}\\left(-\\nargcond\\right)\\right]\n",
    "\\end{align}$$\n",
    "\n",
    "where $\\nargcond$ and $\\nargexer$ are\n",
    "\n",
    "$\\begin{align}\n",
    "\\nargcond = \\frac{\\ln\\left(\\frac{F_t}{\\strike}\\right) + \\frac{\\sigma^2}{2}T}{\\sigma\\sqrt{T}} \\hspace{1cm} \n",
    "\\nargexer = \\nargcond -\\sigma\\sqrt{T}\n",
    "\\end{align}$"
   ]
  },
  {
   "cell_type": "markdown",
   "id": "3d04778e",
   "metadata": {},
   "source": [
    "## Implied vol (Black)\n",
    "\n",
    "1. Use the caps / floors to strip out caplets / floorlets in a term structure for maturities $0\\le t \\le T$.\n",
    "2. Solve Black's formula for $\\sigma_t$ for each maturity such that Black's formula matches the market price."
   ]
  },
  {
   "cell_type": "markdown",
   "id": "56146877-6933-4ea8-b450-8736d888513d",
   "metadata": {},
   "source": [
    "## Market Quoting Convention\n",
    "\n",
    "**It is the market convention for quoting cap and floor prices.**\n",
    "\n",
    "A cap will be quoted with a flat vol.\n",
    "* To determine the actual market price, plug this flat vol into Black's formula for each corresponding caplet.\n",
    "\n",
    "Questions:\n",
    "* What if you do not want to model with Black's formula? Is this a problem?\n",
    "* Why are caps, floors, and swaptions quoted in terms of implied vol?"
   ]
  },
  {
   "cell_type": "markdown",
   "id": "567b9a95-1969-46a3-802b-75c933242d9b",
   "metadata": {},
   "source": [
    "### \"Normal\" quotes\n",
    "\n",
    "In recent years, it is common to see a \"normal\" quote for implied volatilities.\n",
    "* In recent years, the issue of negative rates / prices has become relevant.\n",
    "* Thus, \"normal\" models such as Bachelier are standard.\n",
    "* (Black's formula relies on lognormal dynamics.)\n",
    "* These normal vol quotes can be converted to Black vols and vice-versa.\n",
    "* Bloomberg displays quotes in both measures, for instance.\n",
    "\n",
    "$$\\sigma_B = \\frac{\\sigma_N}{f}$$\n",
    "\n",
    "where \n",
    "* $f$ is the forward rate.\n",
    "* $\\sigma_B$ is the \"Black\" vol\n",
    "* $\\sigma_N$ is the \"normal\" vol\n",
    "\n",
    "The formula holds for **ATM** (at-the-money) options. \n",
    "* For OTM (out-of-the-money) options, some further adjustment is needed.\n",
    "* See Hagan's SABR paper and related papers for details."
   ]
  },
  {
   "cell_type": "markdown",
   "id": "02e885fe",
   "metadata": {},
   "source": [
    "#### Note on Bloomberg Quotes\n",
    "\n",
    "Cap quotes in Bloomberg are downloaded in **normal** vol.\n",
    "* The terminal allows user to view lognormal (Black) vol, but when using the API, seemingly restricts to normal.\n",
    "\n",
    "The normal vols are reported in basis points.\n",
    "* divide by $100$ to get to percent\n",
    "* divide by $100$ to convert from percent to decimal."
   ]
  },
  {
   "cell_type": "markdown",
   "id": "1d91b576",
   "metadata": {},
   "source": [
    "***"
   ]
  },
  {
   "cell_type": "markdown",
   "id": "2576f227",
   "metadata": {},
   "source": [
    "# Formula for Caps and Caplets"
   ]
  },
  {
   "cell_type": "markdown",
   "id": "0d5282bb",
   "metadata": {},
   "source": [
    "We consider **quarterly** caps.\n",
    "* they have caplets expiring each quarter, with $.5\\le \\tau \\le T$.\n",
    "* the flat volatility at $T$ is input for every caplet corresponding to the cap of $T$.\n",
    "\n",
    "#### Careful!\n",
    "* in Black's formula, use $T-0.25$ as the rate for the caplet is determined one period before it is paid.\n",
    "\n",
    "### Payoff and Valuation\n",
    "The payoff of each caplet is\n",
    "$$\\frac{100}{4}\\max(r-K,0)$$\n",
    "\n",
    "Thus, the corresponding value in Black's fomula for a caplet is\n",
    "$$P_{\\text{cap}}(t,T,K) = \\frac{100}{4} \\sum_{\\tau}^T \\Blackcall(\\overline{\\sigma}_T, \\tau-1/4, K, f_{\\tau}, Z_\\tau)$$\n",
    "\n",
    "where $\\tau$ equals $\\frac{j}{4}$ over the range of integers $j$, $2\\le j \\le 4T$.\n",
    "\n",
    "Note here that for every caplet in cap $T$, we plug in the same \n",
    "* flat vol with tenor $T$.\n",
    "* strike, which in this example is ATM and thus equals the time-$t$ swap rate of maturity $T$."
   ]
  },
  {
   "cell_type": "markdown",
   "id": "f7b20740",
   "metadata": {},
   "source": [
    "## Cap parameters\n",
    "Consider the ATM (at-the-money) cap:\n",
    "* the cap's strike is the swap rate with the same tenor. \n",
    "* cap has expiration $T=2$.\n",
    "* the notional of the cap is \\$100."
   ]
  },
  {
   "cell_type": "markdown",
   "id": "a1d11cb2-f7f3-4b6b-9de0-8e4942fdfa4a",
   "metadata": {},
   "source": [
    "***"
   ]
  },
  {
   "cell_type": "markdown",
   "id": "2264810c-dfde-499d-ba23-89d12ec2f0ed",
   "metadata": {},
   "source": [
    "# Stripping Caps"
   ]
  },
  {
   "cell_type": "markdown",
   "id": "7da2aa2a",
   "metadata": {},
   "source": [
    "## Getting Caplet Prices and Forward Vols\n",
    "\n",
    "We can use the flat volatility to get the price of the caps.\n",
    "\n",
    "Using the cap prices, we strip out the\n",
    "* caplet prices\n",
    "* forward volatility at $\\tau$ which properly prices caplet $\\tau$ using Black's formula."
   ]
  },
  {
   "cell_type": "code",
   "execution_count": 1,
   "id": "dc7e266d",
   "metadata": {
    "jupyter": {
     "source_hidden": true
    }
   },
   "outputs": [],
   "source": [
    "import numpy as np\n",
    "import pandas as pdf\n",
    "\n",
    "import sys\n",
    "sys.path.insert(0, '../cmds')\n",
    "from ficcvol import *\n",
    "#from binomial import *\n",
    "from ratecurves import *"
   ]
  },
  {
   "cell_type": "code",
   "execution_count": 2,
   "id": "3a090fc9",
   "metadata": {
    "jupyter": {
     "source_hidden": true
    },
    "scrolled": true
   },
   "outputs": [],
   "source": [
    "import datetime\n",
    "import warnings\n",
    "\n",
    "import matplotlib.pyplot as plt\n",
    "import seaborn as sns\n",
    "%matplotlib inline\n",
    "plt.rcParams['figure.figsize'] = (12,6)\n",
    "plt.rcParams['font.size'] = 15\n",
    "plt.rcParams['legend.fontsize'] = 13\n",
    "\n",
    "from matplotlib.ticker import (MultipleLocator,\n",
    "                               FormatStrFormatter,\n",
    "                               AutoMinorLocator)"
   ]
  },
  {
   "cell_type": "code",
   "execution_count": 3,
   "id": "ece4358b",
   "metadata": {
    "jupyter": {
     "source_hidden": true
    }
   },
   "outputs": [],
   "source": [
    "DATE = '2025-01-31'\n",
    "curves = pd.read_excel(f'../data/cap_curves_{DATE}.xlsx', sheet_name=f'rate curves {DATE}').set_index('tenor')"
   ]
  },
  {
   "cell_type": "code",
   "execution_count": 4,
   "id": "25836291",
   "metadata": {
    "jupyter": {
     "source_hidden": true
    }
   },
   "outputs": [
    {
     "data": {
      "image/png": "[encoded data removed]",
      "text/plain": [
       "<Figure size 1200x600 with 1 Axes>"
      ]
     },
     "metadata": {},
     "output_type": "display_data"
    }
   ],
   "source": [
    "capcurves = flat_to_forward_vol(curves)\n",
    "\n",
    "capcurves[['flat vols','fwd vols']].plot();"
   ]
  },
  {
   "cell_type": "code",
   "execution_count": 5,
   "id": "ed8554ef",
   "metadata": {
    "jupyter": {
     "source_hidden": true
    }
   },
   "outputs": [
    {
     "data": {
      "text/html": [
       "<style type=\"text/css\">\n",
       "</style>\n",
       "<table id=\"T_d9cb5\">\n",
       "  <thead>\n",
       "    <tr>\n",
       "      <th class=\"blank level0\" >&nbsp;</th>\n",
       "      <th id=\"T_d9cb5_level0_col0\" class=\"col_heading level0 col0\" >flat vols</th>\n",
       "      <th id=\"T_d9cb5_level0_col1\" class=\"col_heading level0 col1\" >cap prices</th>\n",
       "      <th id=\"T_d9cb5_level0_col2\" class=\"col_heading level0 col2\" >fwd vols</th>\n",
       "    </tr>\n",
       "    <tr>\n",
       "      <th class=\"index_name level0\" >tenor</th>\n",
       "      <th class=\"blank col0\" >&nbsp;</th>\n",
       "      <th class=\"blank col1\" >&nbsp;</th>\n",
       "      <th class=\"blank col2\" >&nbsp;</th>\n",
       "    </tr>\n",
       "  </thead>\n",
       "  <tbody>\n",
       "    <tr>\n",
       "      <th id=\"T_d9cb5_level0_row0\" class=\"row_heading level0 row0\" >0.250000</th>\n",
       "      <td id=\"T_d9cb5_row0_col0\" class=\"data row0 col0\" >nan%</td>\n",
       "      <td id=\"T_d9cb5_row0_col1\" class=\"data row0 col1\" >nan</td>\n",
       "      <td id=\"T_d9cb5_row0_col2\" class=\"data row0 col2\" >nan%</td>\n",
       "    </tr>\n",
       "    <tr>\n",
       "      <th id=\"T_d9cb5_level0_row1\" class=\"row_heading level0 row1\" >0.500000</th>\n",
       "      <td id=\"T_d9cb5_row1_col0\" class=\"data row1 col0\" >10.15%</td>\n",
       "      <td id=\"T_d9cb5_row1_col1\" class=\"data row1 col1\" >0.02</td>\n",
       "      <td id=\"T_d9cb5_row1_col2\" class=\"data row1 col2\" >10.15%</td>\n",
       "    </tr>\n",
       "    <tr>\n",
       "      <th id=\"T_d9cb5_level0_row2\" class=\"row_heading level0 row2\" >0.750000</th>\n",
       "      <td id=\"T_d9cb5_row2_col0\" class=\"data row2 col0\" >11.69%</td>\n",
       "      <td id=\"T_d9cb5_row2_col1\" class=\"data row2 col1\" >0.05</td>\n",
       "      <td id=\"T_d9cb5_row2_col2\" class=\"data row2 col2\" >12.85%</td>\n",
       "    </tr>\n",
       "    <tr>\n",
       "      <th id=\"T_d9cb5_level0_row3\" class=\"row_heading level0 row3\" >1.000000</th>\n",
       "      <td id=\"T_d9cb5_row3_col0\" class=\"data row3 col0\" >13.24%</td>\n",
       "      <td id=\"T_d9cb5_row3_col1\" class=\"data row3 col1\" >0.09</td>\n",
       "      <td id=\"T_d9cb5_row3_col2\" class=\"data row3 col2\" >15.46%</td>\n",
       "    </tr>\n",
       "    <tr>\n",
       "      <th id=\"T_d9cb5_level0_row4\" class=\"row_heading level0 row4\" >1.250000</th>\n",
       "      <td id=\"T_d9cb5_row4_col0\" class=\"data row4 col0\" >15.94%</td>\n",
       "      <td id=\"T_d9cb5_row4_col1\" class=\"data row4 col1\" >0.17</td>\n",
       "      <td id=\"T_d9cb5_row4_col2\" class=\"data row4 col2\" >21.91%</td>\n",
       "    </tr>\n",
       "    <tr>\n",
       "      <th id=\"T_d9cb5_level0_row5\" class=\"row_heading level0 row5\" >1.500000</th>\n",
       "      <td id=\"T_d9cb5_row5_col0\" class=\"data row5 col0\" >18.09%</td>\n",
       "      <td id=\"T_d9cb5_row5_col1\" class=\"data row5 col1\" >0.27</td>\n",
       "      <td id=\"T_d9cb5_row5_col2\" class=\"data row5 col2\" >23.96%</td>\n",
       "    </tr>\n",
       "    <tr>\n",
       "      <th id=\"T_d9cb5_level0_row6\" class=\"row_heading level0 row6\" >1.750000</th>\n",
       "      <td id=\"T_d9cb5_row6_col0\" class=\"data row6 col0\" >19.74%</td>\n",
       "      <td id=\"T_d9cb5_row6_col1\" class=\"data row6 col1\" >0.38</td>\n",
       "      <td id=\"T_d9cb5_row6_col2\" class=\"data row6 col2\" >25.41%</td>\n",
       "    </tr>\n",
       "    <tr>\n",
       "      <th id=\"T_d9cb5_level0_row7\" class=\"row_heading level0 row7\" >2.000000</th>\n",
       "      <td id=\"T_d9cb5_row7_col0\" class=\"data row7 col0\" >20.99%</td>\n",
       "      <td id=\"T_d9cb5_row7_col1\" class=\"data row7 col1\" >0.50</td>\n",
       "      <td id=\"T_d9cb5_row7_col2\" class=\"data row7 col2\" >26.16%</td>\n",
       "    </tr>\n",
       "    <tr>\n",
       "      <th id=\"T_d9cb5_level0_row8\" class=\"row_heading level0 row8\" >2.250000</th>\n",
       "      <td id=\"T_d9cb5_row8_col0\" class=\"data row8 col0\" >21.91%</td>\n",
       "      <td id=\"T_d9cb5_row8_col1\" class=\"data row8 col1\" >0.63</td>\n",
       "      <td id=\"T_d9cb5_row8_col2\" class=\"data row8 col2\" >26.33%</td>\n",
       "    </tr>\n",
       "    <tr>\n",
       "      <th id=\"T_d9cb5_level0_row9\" class=\"row_heading level0 row9\" >2.500000</th>\n",
       "      <td id=\"T_d9cb5_row9_col0\" class=\"data row9 col0\" >22.56%</td>\n",
       "      <td id=\"T_d9cb5_row9_col1\" class=\"data row9 col1\" >0.77</td>\n",
       "      <td id=\"T_d9cb5_row9_col2\" class=\"data row9 col2\" >26.20%</td>\n",
       "    </tr>\n",
       "    <tr>\n",
       "      <th id=\"T_d9cb5_level0_row10\" class=\"row_heading level0 row10\" >2.750000</th>\n",
       "      <td id=\"T_d9cb5_row10_col0\" class=\"data row10 col0\" >23.03%</td>\n",
       "      <td id=\"T_d9cb5_row10_col1\" class=\"data row10 col1\" >0.92</td>\n",
       "      <td id=\"T_d9cb5_row10_col2\" class=\"data row10 col2\" >26.01%</td>\n",
       "    </tr>\n",
       "    <tr>\n",
       "      <th id=\"T_d9cb5_level0_row11\" class=\"row_heading level0 row11\" >3.000000</th>\n",
       "      <td id=\"T_d9cb5_row11_col0\" class=\"data row11 col0\" >23.40%</td>\n",
       "      <td id=\"T_d9cb5_row11_col1\" class=\"data row11 col1\" >1.07</td>\n",
       "      <td id=\"T_d9cb5_row11_col2\" class=\"data row11 col2\" >25.97%</td>\n",
       "    </tr>\n",
       "    <tr>\n",
       "      <th id=\"T_d9cb5_level0_row12\" class=\"row_heading level0 row12\" >3.250000</th>\n",
       "      <td id=\"T_d9cb5_row12_col0\" class=\"data row12 col0\" >23.71%</td>\n",
       "      <td id=\"T_d9cb5_row12_col1\" class=\"data row12 col1\" >1.22</td>\n",
       "      <td id=\"T_d9cb5_row12_col2\" class=\"data row12 col2\" >26.13%</td>\n",
       "    </tr>\n",
       "    <tr>\n",
       "      <th id=\"T_d9cb5_level0_row13\" class=\"row_heading level0 row13\" >3.500000</th>\n",
       "      <td id=\"T_d9cb5_row13_col0\" class=\"data row13 col0\" >23.98%</td>\n",
       "      <td id=\"T_d9cb5_row13_col1\" class=\"data row13 col1\" >1.38</td>\n",
       "      <td id=\"T_d9cb5_row13_col2\" class=\"data row13 col2\" >26.27%</td>\n",
       "    </tr>\n",
       "    <tr>\n",
       "      <th id=\"T_d9cb5_level0_row14\" class=\"row_heading level0 row14\" >3.750000</th>\n",
       "      <td id=\"T_d9cb5_row14_col0\" class=\"data row14 col0\" >24.20%</td>\n",
       "      <td id=\"T_d9cb5_row14_col1\" class=\"data row14 col1\" >1.55</td>\n",
       "      <td id=\"T_d9cb5_row14_col2\" class=\"data row14 col2\" >26.25%</td>\n",
       "    </tr>\n",
       "    <tr>\n",
       "      <th id=\"T_d9cb5_level0_row15\" class=\"row_heading level0 row15\" >4.000000</th>\n",
       "      <td id=\"T_d9cb5_row15_col0\" class=\"data row15 col0\" >24.35%</td>\n",
       "      <td id=\"T_d9cb5_row15_col1\" class=\"data row15 col1\" >1.72</td>\n",
       "      <td id=\"T_d9cb5_row15_col2\" class=\"data row15 col2\" >25.99%</td>\n",
       "    </tr>\n",
       "    <tr>\n",
       "      <th id=\"T_d9cb5_level0_row16\" class=\"row_heading level0 row16\" >4.250000</th>\n",
       "      <td id=\"T_d9cb5_row16_col0\" class=\"data row16 col0\" >24.45%</td>\n",
       "      <td id=\"T_d9cb5_row16_col1\" class=\"data row16 col1\" >1.89</td>\n",
       "      <td id=\"T_d9cb5_row16_col2\" class=\"data row16 col2\" >25.52%</td>\n",
       "    </tr>\n",
       "    <tr>\n",
       "      <th id=\"T_d9cb5_level0_row17\" class=\"row_heading level0 row17\" >4.500000</th>\n",
       "      <td id=\"T_d9cb5_row17_col0\" class=\"data row17 col0\" >24.52%</td>\n",
       "      <td id=\"T_d9cb5_row17_col1\" class=\"data row17 col1\" >2.06</td>\n",
       "      <td id=\"T_d9cb5_row17_col2\" class=\"data row17 col2\" >25.28%</td>\n",
       "    </tr>\n",
       "    <tr>\n",
       "      <th id=\"T_d9cb5_level0_row18\" class=\"row_heading level0 row18\" >4.750000</th>\n",
       "      <td id=\"T_d9cb5_row18_col0\" class=\"data row18 col0\" >24.59%</td>\n",
       "      <td id=\"T_d9cb5_row18_col1\" class=\"data row18 col1\" >2.24</td>\n",
       "      <td id=\"T_d9cb5_row18_col2\" class=\"data row18 col2\" >25.44%</td>\n",
       "    </tr>\n",
       "    <tr>\n",
       "      <th id=\"T_d9cb5_level0_row19\" class=\"row_heading level0 row19\" >5.000000</th>\n",
       "      <td id=\"T_d9cb5_row19_col0\" class=\"data row19 col0\" >24.69%</td>\n",
       "      <td id=\"T_d9cb5_row19_col1\" class=\"data row19 col1\" >2.42</td>\n",
       "      <td id=\"T_d9cb5_row19_col2\" class=\"data row19 col2\" >26.09%</td>\n",
       "    </tr>\n",
       "    <tr>\n",
       "      <th id=\"T_d9cb5_level0_row20\" class=\"row_heading level0 row20\" >5.250000</th>\n",
       "      <td id=\"T_d9cb5_row20_col0\" class=\"data row20 col0\" >24.85%</td>\n",
       "      <td id=\"T_d9cb5_row20_col1\" class=\"data row20 col1\" >2.62</td>\n",
       "      <td id=\"T_d9cb5_row20_col2\" class=\"data row20 col2\" >27.13%</td>\n",
       "    </tr>\n",
       "    <tr>\n",
       "      <th id=\"T_d9cb5_level0_row21\" class=\"row_heading level0 row21\" >5.500000</th>\n",
       "      <td id=\"T_d9cb5_row21_col0\" class=\"data row21 col0\" >25.04%</td>\n",
       "      <td id=\"T_d9cb5_row21_col1\" class=\"data row21 col1\" >2.82</td>\n",
       "      <td id=\"T_d9cb5_row21_col2\" class=\"data row21 col2\" >27.81%</td>\n",
       "    </tr>\n",
       "    <tr>\n",
       "      <th id=\"T_d9cb5_level0_row22\" class=\"row_heading level0 row22\" >5.750000</th>\n",
       "      <td id=\"T_d9cb5_row22_col0\" class=\"data row22 col0\" >25.20%</td>\n",
       "      <td id=\"T_d9cb5_row22_col1\" class=\"data row22 col1\" >3.03</td>\n",
       "      <td id=\"T_d9cb5_row22_col2\" class=\"data row22 col2\" >27.77%</td>\n",
       "    </tr>\n",
       "    <tr>\n",
       "      <th id=\"T_d9cb5_level0_row23\" class=\"row_heading level0 row23\" >6.000000</th>\n",
       "      <td id=\"T_d9cb5_row23_col0\" class=\"data row23 col0\" >25.29%</td>\n",
       "      <td id=\"T_d9cb5_row23_col1\" class=\"data row23 col1\" >3.23</td>\n",
       "      <td id=\"T_d9cb5_row23_col2\" class=\"data row23 col2\" >26.84%</td>\n",
       "    </tr>\n",
       "    <tr>\n",
       "      <th id=\"T_d9cb5_level0_row24\" class=\"row_heading level0 row24\" >6.250000</th>\n",
       "      <td id=\"T_d9cb5_row24_col0\" class=\"data row24 col0\" >25.28%</td>\n",
       "      <td id=\"T_d9cb5_row24_col1\" class=\"data row24 col1\" >3.42</td>\n",
       "      <td id=\"T_d9cb5_row24_col2\" class=\"data row24 col2\" >25.15%</td>\n",
       "    </tr>\n",
       "    <tr>\n",
       "      <th id=\"T_d9cb5_level0_row25\" class=\"row_heading level0 row25\" >6.500000</th>\n",
       "      <td id=\"T_d9cb5_row25_col0\" class=\"data row25 col0\" >25.20%</td>\n",
       "      <td id=\"T_d9cb5_row25_col1\" class=\"data row25 col1\" >3.60</td>\n",
       "      <td id=\"T_d9cb5_row25_col2\" class=\"data row25 col2\" >23.73%</td>\n",
       "    </tr>\n",
       "    <tr>\n",
       "      <th id=\"T_d9cb5_level0_row26\" class=\"row_heading level0 row26\" >6.750000</th>\n",
       "      <td id=\"T_d9cb5_row26_col0\" class=\"data row26 col0\" >25.09%</td>\n",
       "      <td id=\"T_d9cb5_row26_col1\" class=\"data row26 col1\" >3.78</td>\n",
       "      <td id=\"T_d9cb5_row26_col2\" class=\"data row26 col2\" >22.95%</td>\n",
       "    </tr>\n",
       "    <tr>\n",
       "      <th id=\"T_d9cb5_level0_row27\" class=\"row_heading level0 row27\" >7.000000</th>\n",
       "      <td id=\"T_d9cb5_row27_col0\" class=\"data row27 col0\" >24.98%</td>\n",
       "      <td id=\"T_d9cb5_row27_col1\" class=\"data row27 col1\" >3.96</td>\n",
       "      <td id=\"T_d9cb5_row27_col2\" class=\"data row27 col2\" >22.96%</td>\n",
       "    </tr>\n",
       "    <tr>\n",
       "      <th id=\"T_d9cb5_level0_row28\" class=\"row_heading level0 row28\" >7.250000</th>\n",
       "      <td id=\"T_d9cb5_row28_col0\" class=\"data row28 col0\" >24.92%</td>\n",
       "      <td id=\"T_d9cb5_row28_col1\" class=\"data row28 col1\" >4.15</td>\n",
       "      <td id=\"T_d9cb5_row28_col2\" class=\"data row28 col2\" >23.68%</td>\n",
       "    </tr>\n",
       "    <tr>\n",
       "      <th id=\"T_d9cb5_level0_row29\" class=\"row_heading level0 row29\" >7.500000</th>\n",
       "      <td id=\"T_d9cb5_row29_col0\" class=\"data row29 col0\" >24.89%</td>\n",
       "      <td id=\"T_d9cb5_row29_col1\" class=\"data row29 col1\" >4.34</td>\n",
       "      <td id=\"T_d9cb5_row29_col2\" class=\"data row29 col2\" >24.27%</td>\n",
       "    </tr>\n",
       "    <tr>\n",
       "      <th id=\"T_d9cb5_level0_row30\" class=\"row_heading level0 row30\" >7.750000</th>\n",
       "      <td id=\"T_d9cb5_row30_col0\" class=\"data row30 col0\" >24.87%</td>\n",
       "      <td id=\"T_d9cb5_row30_col1\" class=\"data row30 col1\" >4.54</td>\n",
       "      <td id=\"T_d9cb5_row30_col2\" class=\"data row30 col2\" >24.45%</td>\n",
       "    </tr>\n",
       "    <tr>\n",
       "      <th id=\"T_d9cb5_level0_row31\" class=\"row_heading level0 row31\" >8.000000</th>\n",
       "      <td id=\"T_d9cb5_row31_col0\" class=\"data row31 col0\" >24.84%</td>\n",
       "      <td id=\"T_d9cb5_row31_col1\" class=\"data row31 col1\" >4.73</td>\n",
       "      <td id=\"T_d9cb5_row31_col2\" class=\"data row31 col2\" >24.15%</td>\n",
       "    </tr>\n",
       "    <tr>\n",
       "      <th id=\"T_d9cb5_level0_row32\" class=\"row_heading level0 row32\" >8.250000</th>\n",
       "      <td id=\"T_d9cb5_row32_col0\" class=\"data row32 col0\" >24.79%</td>\n",
       "      <td id=\"T_d9cb5_row32_col1\" class=\"data row32 col1\" >4.92</td>\n",
       "      <td id=\"T_d9cb5_row32_col2\" class=\"data row32 col2\" >23.39%</td>\n",
       "    </tr>\n",
       "    <tr>\n",
       "      <th id=\"T_d9cb5_level0_row33\" class=\"row_heading level0 row33\" >8.500000</th>\n",
       "      <td id=\"T_d9cb5_row33_col0\" class=\"data row33 col0\" >24.70%</td>\n",
       "      <td id=\"T_d9cb5_row33_col1\" class=\"data row33 col1\" >5.11</td>\n",
       "      <td id=\"T_d9cb5_row33_col2\" class=\"data row33 col2\" >22.63%</td>\n",
       "    </tr>\n",
       "    <tr>\n",
       "      <th id=\"T_d9cb5_level0_row34\" class=\"row_heading level0 row34\" >8.750000</th>\n",
       "      <td id=\"T_d9cb5_row34_col0\" class=\"data row34 col0\" >24.60%</td>\n",
       "      <td id=\"T_d9cb5_row34_col1\" class=\"data row34 col1\" >5.29</td>\n",
       "      <td id=\"T_d9cb5_row34_col2\" class=\"data row34 col2\" >22.00%</td>\n",
       "    </tr>\n",
       "    <tr>\n",
       "      <th id=\"T_d9cb5_level0_row35\" class=\"row_heading level0 row35\" >9.000000</th>\n",
       "      <td id=\"T_d9cb5_row35_col0\" class=\"data row35 col0\" >24.49%</td>\n",
       "      <td id=\"T_d9cb5_row35_col1\" class=\"data row35 col1\" >5.47</td>\n",
       "      <td id=\"T_d9cb5_row35_col2\" class=\"data row35 col2\" >21.53%</td>\n",
       "    </tr>\n",
       "    <tr>\n",
       "      <th id=\"T_d9cb5_level0_row36\" class=\"row_heading level0 row36\" >9.250000</th>\n",
       "      <td id=\"T_d9cb5_row36_col0\" class=\"data row36 col0\" >24.37%</td>\n",
       "      <td id=\"T_d9cb5_row36_col1\" class=\"data row36 col1\" >5.65</td>\n",
       "      <td id=\"T_d9cb5_row36_col2\" class=\"data row36 col2\" >21.23%</td>\n",
       "    </tr>\n",
       "    <tr>\n",
       "      <th id=\"T_d9cb5_level0_row37\" class=\"row_heading level0 row37\" >9.500000</th>\n",
       "      <td id=\"T_d9cb5_row37_col0\" class=\"data row37 col0\" >24.26%</td>\n",
       "      <td id=\"T_d9cb5_row37_col1\" class=\"data row37 col1\" >5.83</td>\n",
       "      <td id=\"T_d9cb5_row37_col2\" class=\"data row37 col2\" >21.15%</td>\n",
       "    </tr>\n",
       "    <tr>\n",
       "      <th id=\"T_d9cb5_level0_row38\" class=\"row_heading level0 row38\" >9.750000</th>\n",
       "      <td id=\"T_d9cb5_row38_col0\" class=\"data row38 col0\" >24.17%</td>\n",
       "      <td id=\"T_d9cb5_row38_col1\" class=\"data row38 col1\" >6.01</td>\n",
       "      <td id=\"T_d9cb5_row38_col2\" class=\"data row38 col2\" >21.30%</td>\n",
       "    </tr>\n",
       "    <tr>\n",
       "      <th id=\"T_d9cb5_level0_row39\" class=\"row_heading level0 row39\" >10.000000</th>\n",
       "      <td id=\"T_d9cb5_row39_col0\" class=\"data row39 col0\" >24.09%</td>\n",
       "      <td id=\"T_d9cb5_row39_col1\" class=\"data row39 col1\" >6.19</td>\n",
       "      <td id=\"T_d9cb5_row39_col2\" class=\"data row39 col2\" >21.71%</td>\n",
       "    </tr>\n",
       "  </tbody>\n",
       "</table>\n"
      ],
      "text/plain": [
       "<pandas.io.formats.style.Styler at 0x1596f74d0>"
      ]
     },
     "execution_count": 5,
     "metadata": {},
     "output_type": "execute_result"
    }
   ],
   "source": [
    "capcurves[['flat vols','cap prices','fwd vols']].style.format({'flat vols':'{:.2%}','caplet prices':'{:.2f}','fwd vols':'{:.2%}','cap prices':'{:.2f}'})"
   ]
  }
 ],
 "metadata": {
  "hide_input": false,
  "kernelspec": {
   "display_name": "Python 3 (ipykernel)",
   "language": "python",
   "name": "python3"
  },
  "language_info": {
   "codemirror_mode": {
    "name": "ipython",
    "version": 3
   },
   "file_extension": ".py",
   "mimetype": "text/x-python",
   "name": "python",
   "nbconvert_exporter": "python",
   "pygments_lexer": "ipython3",
   "version": "3.13.1"
  }
 },
 "nbformat": 4,
 "nbformat_minor": 5
}
